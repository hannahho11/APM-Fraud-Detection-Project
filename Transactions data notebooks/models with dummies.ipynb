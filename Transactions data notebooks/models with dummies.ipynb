{
 "cells": [
  {
   "cell_type": "code",
   "execution_count": 2,
   "metadata": {},
   "outputs": [],
   "source": [
    "import pandas as pd\n",
    "import numpy as np"
   ]
  },
  {
   "cell_type": "code",
   "execution_count": null,
   "metadata": {},
   "outputs": [],
   "source": [
    "balanced = pd.read_csv('train_transaction.csv')"
   ]
  },
  {
   "cell_type": "code",
   "execution_count": 2,
   "metadata": {},
   "outputs": [
    {
     "data": {
      "text/plain": [
       "(590540, 394)"
      ]
     },
     "execution_count": 2,
     "metadata": {},
     "output_type": "execute_result"
    }
   ],
   "source": [
    "balanced.shape"
   ]
  },
  {
   "cell_type": "markdown",
   "metadata": {},
   "source": [
    "# Make Hour feature"
   ]
  },
  {
   "cell_type": "code",
   "execution_count": 3,
   "metadata": {},
   "outputs": [],
   "source": [
    "def make_hour_feature(df, tname='TransactionDT'):\n",
    "    \"\"\"\n",
    "    Creates an hour of the day feature, encoded as 0-23. \n",
    "    \n",
    "    Parameters:\n",
    "    -----------\n",
    "    df : pd.DataFrame\n",
    "        df to manipulate.\n",
    "    tname : str\n",
    "        Name of the time column in df.\n",
    "    \"\"\"\n",
    "    hours = df[tname] / (3600)        \n",
    "    encoded_hours = np.floor(hours) % 24\n",
    "    return encoded_hours"
   ]
  },
  {
   "cell_type": "code",
   "execution_count": 4,
   "metadata": {},
   "outputs": [],
   "source": [
    "balanced['hours'] = make_hour_feature(balanced)"
   ]
  },
  {
   "cell_type": "markdown",
   "metadata": {},
   "source": [
    "# Create binary columns for nan values"
   ]
  },
  {
   "cell_type": "code",
   "execution_count": 5,
   "metadata": {},
   "outputs": [
    {
     "data": {
      "text/plain": [
       "(590540, 790)"
      ]
     },
     "execution_count": 5,
     "metadata": {},
     "output_type": "execute_result"
    }
   ],
   "source": [
    "cols = balanced.columns.values\n",
    "\n",
    "for i in range(len(cols)):\n",
    "    binary_col_name = cols[i] + '_b'\n",
    "#     print(binary_col_name)\n",
    "    balanced[binary_col_name] = np.where(balanced[cols[i]].notnull(), 0, 1)\n",
    "    \n",
    "balanced.shape"
   ]
  },
  {
   "cell_type": "code",
   "execution_count": 6,
   "metadata": {},
   "outputs": [
    {
     "name": "stdout",
     "output_type": "stream",
     "text": [
      "Column-wise missing value percentage\n",
      "TransactionID      0.000000\n",
      "isFraud            0.000000\n",
      "TransactionDT      0.000000\n",
      "TransactionAmt     0.000000\n",
      "ProductCD          0.000000\n",
      "card1              0.000000\n",
      "card2              1.512683\n",
      "card3              0.265012\n",
      "card4              0.267044\n",
      "card5              0.721204\n",
      "card6              0.266028\n",
      "addr1             11.126427\n",
      "addr2             11.126427\n",
      "dist1             59.652352\n",
      "dist2             93.628374\n",
      "P_emaildomain     15.994852\n",
      "R_emaildomain     76.751617\n",
      "C1                 0.000000\n",
      "C2                 0.000000\n",
      "C3                 0.000000\n",
      "C4                 0.000000\n",
      "C5                 0.000000\n",
      "C6                 0.000000\n",
      "C7                 0.000000\n",
      "C8                 0.000000\n",
      "C9                 0.000000\n",
      "C10                0.000000\n",
      "C11                0.000000\n",
      "C12                0.000000\n",
      "C13                0.000000\n",
      "C14                0.000000\n",
      "D1                 0.214888\n",
      "D2                47.549192\n",
      "D3                44.514851\n",
      "D4                28.604667\n",
      "D5                52.467403\n",
      "D6                87.606767\n",
      "D7                93.409930\n",
      "D8                87.312290\n",
      "D9                87.312290\n",
      "D10               12.873302\n",
      "D11               47.293494\n",
      "D12               89.041047\n",
      "D13               89.509263\n",
      "D14               89.469469\n",
      "D15               15.090087\n",
      "M1                45.907136\n",
      "M2                45.907136\n",
      "M3                45.907136\n",
      "M4                47.658753\n",
      "M5                59.349409\n",
      "M6                28.678836\n",
      "M7                58.635317\n",
      "M8                58.633115\n",
      "M9                58.633115\n",
      "V1                47.293494\n",
      "V2                47.293494\n",
      "V3                47.293494\n",
      "V4                47.293494\n",
      "V5                47.293494\n",
      "V6                47.293494\n",
      "V7                47.293494\n",
      "V8                47.293494\n",
      "V9                47.293494\n",
      "V10               47.293494\n",
      "V11               47.293494\n",
      "V12               12.881939\n",
      "V13               12.881939\n",
      "V14               12.881939\n",
      "V15               12.881939\n",
      "V16               12.881939\n",
      "V17               12.881939\n",
      "V18               12.881939\n",
      "V19               12.881939\n",
      "V20               12.881939\n",
      "                    ...    \n",
      "V266_b             0.000000\n",
      "V267_b             0.000000\n",
      "V268_b             0.000000\n",
      "V269_b             0.000000\n",
      "V270_b             0.000000\n",
      "V271_b             0.000000\n",
      "V272_b             0.000000\n",
      "V273_b             0.000000\n",
      "V274_b             0.000000\n",
      "V275_b             0.000000\n",
      "V276_b             0.000000\n",
      "V277_b             0.000000\n",
      "V278_b             0.000000\n",
      "V279_b             0.000000\n",
      "V280_b             0.000000\n",
      "V281_b             0.000000\n",
      "V282_b             0.000000\n",
      "V283_b             0.000000\n",
      "V284_b             0.000000\n",
      "V285_b             0.000000\n",
      "V286_b             0.000000\n",
      "V287_b             0.000000\n",
      "V288_b             0.000000\n",
      "V289_b             0.000000\n",
      "V290_b             0.000000\n",
      "V291_b             0.000000\n",
      "V292_b             0.000000\n",
      "V293_b             0.000000\n",
      "V294_b             0.000000\n",
      "V295_b             0.000000\n",
      "V296_b             0.000000\n",
      "V297_b             0.000000\n",
      "V298_b             0.000000\n",
      "V299_b             0.000000\n",
      "V300_b             0.000000\n",
      "V301_b             0.000000\n",
      "V302_b             0.000000\n",
      "V303_b             0.000000\n",
      "V304_b             0.000000\n",
      "V305_b             0.000000\n",
      "V306_b             0.000000\n",
      "V307_b             0.000000\n",
      "V308_b             0.000000\n",
      "V309_b             0.000000\n",
      "V310_b             0.000000\n",
      "V311_b             0.000000\n",
      "V312_b             0.000000\n",
      "V313_b             0.000000\n",
      "V314_b             0.000000\n",
      "V315_b             0.000000\n",
      "V316_b             0.000000\n",
      "V317_b             0.000000\n",
      "V318_b             0.000000\n",
      "V319_b             0.000000\n",
      "V320_b             0.000000\n",
      "V321_b             0.000000\n",
      "V322_b             0.000000\n",
      "V323_b             0.000000\n",
      "V324_b             0.000000\n",
      "V325_b             0.000000\n",
      "V326_b             0.000000\n",
      "V327_b             0.000000\n",
      "V328_b             0.000000\n",
      "V329_b             0.000000\n",
      "V330_b             0.000000\n",
      "V331_b             0.000000\n",
      "V332_b             0.000000\n",
      "V333_b             0.000000\n",
      "V334_b             0.000000\n",
      "V335_b             0.000000\n",
      "V336_b             0.000000\n",
      "V337_b             0.000000\n",
      "V338_b             0.000000\n",
      "V339_b             0.000000\n",
      "hours_b            0.000000\n",
      "Length: 790, dtype: float64\n"
     ]
    }
   ],
   "source": [
    "pd.set_option('display.max_rows', 150)\n",
    "print(\"Column-wise missing value percentage\")\n",
    "print(balanced.isnull().sum()/len(balanced)*100)"
   ]
  },
  {
   "cell_type": "markdown",
   "metadata": {},
   "source": [
    "# Drop NA columns that have more than 1% NaNs"
   ]
  },
  {
   "cell_type": "code",
   "execution_count": 7,
   "metadata": {},
   "outputs": [
    {
     "name": "stderr",
     "output_type": "stream",
     "text": [
      "C:\\Users\\tsblo\\Anaconda2\\envs\\p36workshop\\lib\\site-packages\\ipykernel_launcher.py:20: SettingWithCopyWarning: \n",
      "A value is trying to be set on a copy of a slice from a DataFrame.\n",
      "Try using .loc[row_indexer,col_indexer] = value instead\n",
      "\n",
      "See the caveats in the documentation: http://pandas.pydata.org/pandas-docs/stable/indexing.html#indexing-view-versus-copy\n",
      "C:\\Users\\tsblo\\Anaconda2\\envs\\p36workshop\\lib\\site-packages\\ipykernel_launcher.py:21: SettingWithCopyWarning: \n",
      "A value is trying to be set on a copy of a slice from a DataFrame.\n",
      "Try using .loc[row_indexer,col_indexer] = value instead\n",
      "\n",
      "See the caveats in the documentation: http://pandas.pydata.org/pandas-docs/stable/indexing.html#indexing-view-versus-copy\n"
     ]
    },
    {
     "data": {
      "text/plain": [
       "(584843, 507)"
      ]
     },
     "execution_count": 7,
     "metadata": {},
     "output_type": "execute_result"
    }
   ],
   "source": [
    "df_transact_train = balanced.copy()\n",
    "\n",
    "low_null_columns = (df_transact_train.isnull().sum()/len(df_transact_train)*100) < 1\n",
    "\n",
    "low_nan_columns = []\n",
    "index = 0\n",
    "for column in low_null_columns:\n",
    "    if column == True:\n",
    "        low_nan_columns.append(low_null_columns.index[index])\n",
    "    index += 1\n",
    "    \n",
    "df_low_nans = df_transact_train.loc[:, low_nan_columns]\n",
    "df_no_nans = df_low_nans.dropna()\n",
    "\n",
    "df_transact_train = df_no_nans\n",
    "\n",
    "Trans_RAW = df_transact_train\n",
    "\n",
    "Trans_FE = df_transact_train\n",
    "Trans_FE['TransactionID'] = df_transact_train['TransactionID']\n",
    "Trans_FE['isFraud'] = df_transact_train['isFraud']\n",
    "Trans_RAW.shape"
   ]
  },
  {
   "cell_type": "markdown",
   "metadata": {},
   "source": [
    "# Rebalance data set to 50% fraud, 50% non fraud"
   ]
  },
  {
   "cell_type": "code",
   "execution_count": 8,
   "metadata": {},
   "outputs": [
    {
     "name": "stdout",
     "output_type": "stream",
     "text": [
      "20394\n",
      "20394\n",
      "40788\n"
     ]
    }
   ],
   "source": [
    "from random import sample\n",
    "\n",
    "mask = Trans_RAW['isFraud'] == 1\n",
    "\n",
    "Trans_RAW_Fraud = Trans_RAW[mask]\n",
    "Trans_RAW_Non = Trans_RAW[-mask]\n",
    "\n",
    "Trans_RAW_NonFraud = Trans_RAW_Non.sample(n = 20394)\n",
    "\n",
    "df_train_balanced = pd.concat([Trans_RAW_NonFraud, Trans_RAW_Fraud])\n",
    "\n",
    "print (len(Trans_RAW_Fraud))\n",
    "print (len(Trans_RAW_NonFraud))\n",
    "print (len(df_train_balanced))"
   ]
  },
  {
   "cell_type": "code",
   "execution_count": 10,
   "metadata": {},
   "outputs": [],
   "source": [
    "df_train_balanced.to_csv('train data 2.0.csv')"
   ]
  },
  {
   "cell_type": "markdown",
   "metadata": {},
   "source": [
    "# Prepoccessing"
   ]
  },
  {
   "cell_type": "code",
   "execution_count": 3,
   "metadata": {},
   "outputs": [],
   "source": [
    "training = pd.read_csv('train data 2.0.csv')"
   ]
  },
  {
   "cell_type": "code",
   "execution_count": 5,
   "metadata": {},
   "outputs": [
    {
     "data": {
      "text/plain": [
       "(40787, 508)"
      ]
     },
     "execution_count": 5,
     "metadata": {},
     "output_type": "execute_result"
    }
   ],
   "source": [
    "# card6: type of card; we drop the 3 unique rows of 'debit or credit' and 'charge card'\n",
    "training['card6'].value_counts()\n",
    "mask = training['card6'] != 'debit or credit'\n",
    "training = training[mask]\n",
    "mask2 = training['card6'] != 'charge card'\n",
    "training = training[mask2]\n",
    "training.shape"
   ]
  },
  {
   "cell_type": "code",
   "execution_count": 6,
   "metadata": {},
   "outputs": [],
   "source": [
    "# create into category type\n",
    "training['card6'] = training['card6'].astype('category')\n",
    "training['card4'] = training['card4'].astype('category')\n",
    "training['ProductCD'] = training['ProductCD'].astype('category')\n",
    "\n",
    "# encode into numeric categories; we opt for dummy variables (One Hot Encoding)\n",
    "training_dummies = pd.get_dummies(training, columns=['card4', 'card6', 'ProductCD'])"
   ]
  },
  {
   "cell_type": "code",
   "execution_count": 7,
   "metadata": {},
   "outputs": [
    {
     "data": {
      "text/plain": [
       "(40786, 515)"
      ]
     },
     "execution_count": 7,
     "metadata": {},
     "output_type": "execute_result"
    }
   ],
   "source": [
    "from sklearn import preprocessing\n",
    "\n",
    "# initialize scaler\n",
    "scaler = preprocessing.MinMaxScaler()\n",
    "\n",
    "# drop target column\n",
    "training_v1 = training_dummies.drop('TransactionID', axis=1)\n",
    "training_v2 = training_v1.drop('isFraud', axis=1)\n",
    "training_y = training_dummies['isFraud'].copy()\n",
    "training_id = training_dummies['TransactionID'].copy()\n",
    "\n",
    "# Fit the data with scaler (scales data)\n",
    "training_v2 = training_v2.set_index('Unnamed: 0')\n",
    "x = training_v2.values\n",
    "x_scaled = scaler.fit_transform(x)\n",
    "training_scaled = pd.DataFrame(x_scaled)\n",
    "training_scaled = training_scaled.set_axis([x for x in training_v2.columns], axis=1, inplace=False)\n",
    "training_scaled.insert(loc=0, column='TransactionID', value=training_id)\n",
    "training_scaled['y'] = training_y\n",
    "training_scaled = training_scaled.dropna()\n",
    "training_scaled['TransactionID'] = training_scaled['TransactionID'].astype(int)\n",
    "training_scaled.shape"
   ]
  },
  {
   "cell_type": "code",
   "execution_count": 8,
   "metadata": {},
   "outputs": [
    {
     "data": {
      "text/html": [
       "<div>\n",
       "<style scoped>\n",
       "    .dataframe tbody tr th:only-of-type {\n",
       "        vertical-align: middle;\n",
       "    }\n",
       "\n",
       "    .dataframe tbody tr th {\n",
       "        vertical-align: top;\n",
       "    }\n",
       "\n",
       "    .dataframe thead th {\n",
       "        text-align: right;\n",
       "    }\n",
       "</style>\n",
       "<table border=\"1\" class=\"dataframe\">\n",
       "  <thead>\n",
       "    <tr style=\"text-align: right;\">\n",
       "      <th></th>\n",
       "      <th>TransactionID</th>\n",
       "      <th>TransactionDT</th>\n",
       "      <th>TransactionAmt</th>\n",
       "      <th>card1</th>\n",
       "      <th>card3</th>\n",
       "      <th>card5</th>\n",
       "      <th>C1</th>\n",
       "      <th>C2</th>\n",
       "      <th>C3</th>\n",
       "      <th>C4</th>\n",
       "      <th>...</th>\n",
       "      <th>card4_mastercard</th>\n",
       "      <th>card4_visa</th>\n",
       "      <th>card6_credit</th>\n",
       "      <th>card6_debit</th>\n",
       "      <th>ProductCD_C</th>\n",
       "      <th>ProductCD_H</th>\n",
       "      <th>ProductCD_R</th>\n",
       "      <th>ProductCD_S</th>\n",
       "      <th>ProductCD_W</th>\n",
       "      <th>y</th>\n",
       "    </tr>\n",
       "  </thead>\n",
       "  <tbody>\n",
       "    <tr>\n",
       "      <th>0</th>\n",
       "      <td>3215526</td>\n",
       "      <td>0.339061</td>\n",
       "      <td>0.344635</td>\n",
       "      <td>0.018635</td>\n",
       "      <td>0.381679</td>\n",
       "      <td>0.693431</td>\n",
       "      <td>0.000214</td>\n",
       "      <td>0.000176</td>\n",
       "      <td>0.0</td>\n",
       "      <td>0.0</td>\n",
       "      <td>...</td>\n",
       "      <td>0.0</td>\n",
       "      <td>1.0</td>\n",
       "      <td>1.0</td>\n",
       "      <td>0.0</td>\n",
       "      <td>0.0</td>\n",
       "      <td>0.0</td>\n",
       "      <td>0.0</td>\n",
       "      <td>0.0</td>\n",
       "      <td>1.0</td>\n",
       "      <td>0.0</td>\n",
       "    </tr>\n",
       "    <tr>\n",
       "      <th>1</th>\n",
       "      <td>3546914</td>\n",
       "      <td>0.938032</td>\n",
       "      <td>0.014778</td>\n",
       "      <td>0.918502</td>\n",
       "      <td>0.381679</td>\n",
       "      <td>0.919708</td>\n",
       "      <td>0.001068</td>\n",
       "      <td>0.000351</td>\n",
       "      <td>0.0</td>\n",
       "      <td>0.0</td>\n",
       "      <td>...</td>\n",
       "      <td>0.0</td>\n",
       "      <td>1.0</td>\n",
       "      <td>0.0</td>\n",
       "      <td>1.0</td>\n",
       "      <td>0.0</td>\n",
       "      <td>0.0</td>\n",
       "      <td>0.0</td>\n",
       "      <td>0.0</td>\n",
       "      <td>1.0</td>\n",
       "      <td>0.0</td>\n",
       "    </tr>\n",
       "    <tr>\n",
       "      <th>2</th>\n",
       "      <td>3384313</td>\n",
       "      <td>0.630945</td>\n",
       "      <td>0.009769</td>\n",
       "      <td>0.239489</td>\n",
       "      <td>0.381679</td>\n",
       "      <td>0.014599</td>\n",
       "      <td>0.000854</td>\n",
       "      <td>0.000351</td>\n",
       "      <td>0.0</td>\n",
       "      <td>0.0</td>\n",
       "      <td>...</td>\n",
       "      <td>1.0</td>\n",
       "      <td>0.0</td>\n",
       "      <td>1.0</td>\n",
       "      <td>0.0</td>\n",
       "      <td>0.0</td>\n",
       "      <td>0.0</td>\n",
       "      <td>0.0</td>\n",
       "      <td>0.0</td>\n",
       "      <td>1.0</td>\n",
       "      <td>0.0</td>\n",
       "    </tr>\n",
       "    <tr>\n",
       "      <th>3</th>\n",
       "      <td>3464568</td>\n",
       "      <td>0.780488</td>\n",
       "      <td>0.006870</td>\n",
       "      <td>0.161730</td>\n",
       "      <td>0.381679</td>\n",
       "      <td>0.868613</td>\n",
       "      <td>0.000214</td>\n",
       "      <td>0.000176</td>\n",
       "      <td>0.0</td>\n",
       "      <td>0.0</td>\n",
       "      <td>...</td>\n",
       "      <td>1.0</td>\n",
       "      <td>0.0</td>\n",
       "      <td>1.0</td>\n",
       "      <td>0.0</td>\n",
       "      <td>0.0</td>\n",
       "      <td>0.0</td>\n",
       "      <td>0.0</td>\n",
       "      <td>0.0</td>\n",
       "      <td>1.0</td>\n",
       "      <td>0.0</td>\n",
       "    </tr>\n",
       "    <tr>\n",
       "      <th>4</th>\n",
       "      <td>3046448</td>\n",
       "      <td>0.081188</td>\n",
       "      <td>0.005531</td>\n",
       "      <td>0.078679</td>\n",
       "      <td>0.381679</td>\n",
       "      <td>0.481752</td>\n",
       "      <td>0.000641</td>\n",
       "      <td>0.000527</td>\n",
       "      <td>0.0</td>\n",
       "      <td>0.0</td>\n",
       "      <td>...</td>\n",
       "      <td>0.0</td>\n",
       "      <td>1.0</td>\n",
       "      <td>0.0</td>\n",
       "      <td>1.0</td>\n",
       "      <td>0.0</td>\n",
       "      <td>0.0</td>\n",
       "      <td>0.0</td>\n",
       "      <td>0.0</td>\n",
       "      <td>1.0</td>\n",
       "      <td>0.0</td>\n",
       "    </tr>\n",
       "  </tbody>\n",
       "</table>\n",
       "<p>5 rows × 515 columns</p>\n",
       "</div>"
      ],
      "text/plain": [
       "   TransactionID  TransactionDT  TransactionAmt     card1     card3     card5  \\\n",
       "0        3215526       0.339061        0.344635  0.018635  0.381679  0.693431   \n",
       "1        3546914       0.938032        0.014778  0.918502  0.381679  0.919708   \n",
       "2        3384313       0.630945        0.009769  0.239489  0.381679  0.014599   \n",
       "3        3464568       0.780488        0.006870  0.161730  0.381679  0.868613   \n",
       "4        3046448       0.081188        0.005531  0.078679  0.381679  0.481752   \n",
       "\n",
       "         C1        C2   C3   C4  ...  card4_mastercard  card4_visa  \\\n",
       "0  0.000214  0.000176  0.0  0.0  ...               0.0         1.0   \n",
       "1  0.001068  0.000351  0.0  0.0  ...               0.0         1.0   \n",
       "2  0.000854  0.000351  0.0  0.0  ...               1.0         0.0   \n",
       "3  0.000214  0.000176  0.0  0.0  ...               1.0         0.0   \n",
       "4  0.000641  0.000527  0.0  0.0  ...               0.0         1.0   \n",
       "\n",
       "   card6_credit  card6_debit  ProductCD_C  ProductCD_H  ProductCD_R  \\\n",
       "0           1.0          0.0          0.0          0.0          0.0   \n",
       "1           0.0          1.0          0.0          0.0          0.0   \n",
       "2           1.0          0.0          0.0          0.0          0.0   \n",
       "3           1.0          0.0          0.0          0.0          0.0   \n",
       "4           0.0          1.0          0.0          0.0          0.0   \n",
       "\n",
       "   ProductCD_S  ProductCD_W    y  \n",
       "0          0.0          1.0  0.0  \n",
       "1          0.0          1.0  0.0  \n",
       "2          0.0          1.0  0.0  \n",
       "3          0.0          1.0  0.0  \n",
       "4          0.0          1.0  0.0  \n",
       "\n",
       "[5 rows x 515 columns]"
      ]
     },
     "execution_count": 8,
     "metadata": {},
     "output_type": "execute_result"
    }
   ],
   "source": [
    "training_scaled.head()"
   ]
  },
  {
   "cell_type": "markdown",
   "metadata": {},
   "source": [
    "# Train test split and random forest"
   ]
  },
  {
   "cell_type": "code",
   "execution_count": 9,
   "metadata": {},
   "outputs": [],
   "source": [
    "from sklearn.ensemble import RandomForestClassifier\n",
    "from sklearn.model_selection import train_test_split\n",
    "\n",
    "# initialize Random Forest model and split data into training and validation\n",
    "clf = RandomForestClassifier()\n",
    "y = training_scaled['y'].copy()\n",
    "training_scaled = training_scaled.drop(['y'], axis=1)\n",
    "x = training_scaled.drop(['TransactionID'], axis=1)\n",
    "x_train, x_val, y_train, y_val = train_test_split(x, y, random_state=42)"
   ]
  },
  {
   "cell_type": "code",
   "execution_count": 11,
   "metadata": {},
   "outputs": [
    {
     "data": {
      "text/plain": [
       "RandomForestClassifier(bootstrap=True, class_weight=None, criterion='gini',\n",
       "                       max_depth=30, max_features='auto', max_leaf_nodes=None,\n",
       "                       min_impurity_decrease=0.0, min_impurity_split=None,\n",
       "                       min_samples_leaf=1, min_samples_split=7,\n",
       "                       min_weight_fraction_leaf=0.0, n_estimators=200,\n",
       "                       n_jobs=None, oob_score=False, random_state=None,\n",
       "                       verbose=0, warm_start=False)"
      ]
     },
     "execution_count": 11,
     "metadata": {},
     "output_type": "execute_result"
    }
   ],
   "source": [
    "clf = RandomForestClassifier(max_depth=30, min_samples_split=7, n_estimators=200)\n",
    "clf.fit(x_train, y_train)"
   ]
  },
  {
   "cell_type": "code",
   "execution_count": 13,
   "metadata": {},
   "outputs": [
    {
     "data": {
      "text/plain": [
       "0.8278905560458959"
      ]
     },
     "execution_count": 13,
     "metadata": {},
     "output_type": "execute_result"
    }
   ],
   "source": [
    "from sklearn.metrics import accuracy_score\n",
    "y_pred = clf.predict(x_val)\n",
    "accuracy_score(y_val, y_pred)"
   ]
  },
  {
   "cell_type": "code",
   "execution_count": 15,
   "metadata": {},
   "outputs": [
    {
     "data": {
      "text/plain": [
       "array([[12853,  2433],\n",
       "       [ 3177, 12126]], dtype=int64)"
      ]
     },
     "execution_count": 15,
     "metadata": {},
     "output_type": "execute_result"
    }
   ],
   "source": [
    "from sklearn.metrics import confusion_matrix\n",
    "from sklearn.model_selection import cross_val_predict\n",
    "\n",
    "y_train_pred = cross_val_predict(clf, x_train, y_train, cv=3)\n",
    "confusion_matrix(y_train, y_train_pred)"
   ]
  },
  {
   "cell_type": "code",
   "execution_count": 16,
   "metadata": {},
   "outputs": [
    {
     "name": "stdout",
     "output_type": "stream",
     "text": [
      "0.8328868740984958\n"
     ]
    },
    {
     "data": {
      "text/plain": [
       "0.7923936483042541"
      ]
     },
     "execution_count": 16,
     "metadata": {},
     "output_type": "execute_result"
    }
   ],
   "source": [
    "from sklearn.metrics import precision_score, recall_score\n",
    "print(precision_score(y_train, y_train_pred))\n",
    "recall_score(y_train, y_train_pred)"
   ]
  },
  {
   "cell_type": "code",
   "execution_count": 18,
   "metadata": {},
   "outputs": [
    {
     "data": {
      "text/html": [
       "<div>\n",
       "<style scoped>\n",
       "    .dataframe tbody tr th:only-of-type {\n",
       "        vertical-align: middle;\n",
       "    }\n",
       "\n",
       "    .dataframe tbody tr th {\n",
       "        vertical-align: top;\n",
       "    }\n",
       "\n",
       "    .dataframe thead th {\n",
       "        text-align: right;\n",
       "    }\n",
       "</style>\n",
       "<table border=\"1\" class=\"dataframe\">\n",
       "  <thead>\n",
       "    <tr style=\"text-align: right;\">\n",
       "      <th></th>\n",
       "      <th>importance</th>\n",
       "    </tr>\n",
       "  </thead>\n",
       "  <tbody>\n",
       "    <tr>\n",
       "      <th>TransactionAmt</th>\n",
       "      <td>0.037400</td>\n",
       "    </tr>\n",
       "    <tr>\n",
       "      <th>TransactionDT</th>\n",
       "      <td>0.036712</td>\n",
       "    </tr>\n",
       "    <tr>\n",
       "      <th>C13</th>\n",
       "      <td>0.036271</td>\n",
       "    </tr>\n",
       "    <tr>\n",
       "      <th>C14</th>\n",
       "      <td>0.031904</td>\n",
       "    </tr>\n",
       "    <tr>\n",
       "      <th>C1</th>\n",
       "      <td>0.029339</td>\n",
       "    </tr>\n",
       "    <tr>\n",
       "      <th>card1</th>\n",
       "      <td>0.029143</td>\n",
       "    </tr>\n",
       "    <tr>\n",
       "      <th>C2</th>\n",
       "      <td>0.024310</td>\n",
       "    </tr>\n",
       "    <tr>\n",
       "      <th>hours</th>\n",
       "      <td>0.021152</td>\n",
       "    </tr>\n",
       "    <tr>\n",
       "      <th>C5</th>\n",
       "      <td>0.019976</td>\n",
       "    </tr>\n",
       "    <tr>\n",
       "      <th>D1</th>\n",
       "      <td>0.017492</td>\n",
       "    </tr>\n",
       "    <tr>\n",
       "      <th>C11</th>\n",
       "      <td>0.016717</td>\n",
       "    </tr>\n",
       "    <tr>\n",
       "      <th>V308</th>\n",
       "      <td>0.015233</td>\n",
       "    </tr>\n",
       "    <tr>\n",
       "      <th>C6</th>\n",
       "      <td>0.014097</td>\n",
       "    </tr>\n",
       "    <tr>\n",
       "      <th>card5</th>\n",
       "      <td>0.013967</td>\n",
       "    </tr>\n",
       "    <tr>\n",
       "      <th>V307</th>\n",
       "      <td>0.013623</td>\n",
       "    </tr>\n",
       "    <tr>\n",
       "      <th>V317</th>\n",
       "      <td>0.013255</td>\n",
       "    </tr>\n",
       "    <tr>\n",
       "      <th>C4</th>\n",
       "      <td>0.011602</td>\n",
       "    </tr>\n",
       "    <tr>\n",
       "      <th>C12</th>\n",
       "      <td>0.011511</td>\n",
       "    </tr>\n",
       "    <tr>\n",
       "      <th>C10</th>\n",
       "      <td>0.011369</td>\n",
       "    </tr>\n",
       "    <tr>\n",
       "      <th>V306</th>\n",
       "      <td>0.010787</td>\n",
       "    </tr>\n",
       "    <tr>\n",
       "      <th>card6_debit</th>\n",
       "      <td>0.010576</td>\n",
       "    </tr>\n",
       "    <tr>\n",
       "      <th>C8</th>\n",
       "      <td>0.010552</td>\n",
       "    </tr>\n",
       "    <tr>\n",
       "      <th>V318</th>\n",
       "      <td>0.010358</td>\n",
       "    </tr>\n",
       "    <tr>\n",
       "      <th>M4_b</th>\n",
       "      <td>0.010167</td>\n",
       "    </tr>\n",
       "    <tr>\n",
       "      <th>V294</th>\n",
       "      <td>0.010106</td>\n",
       "    </tr>\n",
       "  </tbody>\n",
       "</table>\n",
       "</div>"
      ],
      "text/plain": [
       "                importance\n",
       "TransactionAmt    0.037400\n",
       "TransactionDT     0.036712\n",
       "C13               0.036271\n",
       "C14               0.031904\n",
       "C1                0.029339\n",
       "card1             0.029143\n",
       "C2                0.024310\n",
       "hours             0.021152\n",
       "C5                0.019976\n",
       "D1                0.017492\n",
       "C11               0.016717\n",
       "V308              0.015233\n",
       "C6                0.014097\n",
       "card5             0.013967\n",
       "V307              0.013623\n",
       "V317              0.013255\n",
       "C4                0.011602\n",
       "C12               0.011511\n",
       "C10               0.011369\n",
       "V306              0.010787\n",
       "card6_debit       0.010576\n",
       "C8                0.010552\n",
       "V318              0.010358\n",
       "M4_b              0.010167\n",
       "V294              0.010106"
      ]
     },
     "execution_count": 18,
     "metadata": {},
     "output_type": "execute_result"
    }
   ],
   "source": [
    "feature_importances = pd.DataFrame(clf.feature_importances_,\n",
    "                                    index = x_train.columns,\n",
    "                                    columns= ['importance']).sort_values('importance',ascending=False)\n",
    "feature_importances[:25]"
   ]
  },
  {
   "cell_type": "code",
   "execution_count": null,
   "metadata": {},
   "outputs": [],
   "source": []
  }
 ],
 "metadata": {
  "kernelspec": {
   "display_name": "p36workshop",
   "language": "python",
   "name": "p36workshop"
  },
  "language_info": {
   "codemirror_mode": {
    "name": "ipython",
    "version": 3
   },
   "file_extension": ".py",
   "mimetype": "text/x-python",
   "name": "python",
   "nbconvert_exporter": "python",
   "pygments_lexer": "ipython3",
   "version": "3.6.8"
  }
 },
 "nbformat": 4,
 "nbformat_minor": 2
}
