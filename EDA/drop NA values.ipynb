{
 "cells": [
  {
   "cell_type": "code",
   "execution_count": 2,
   "metadata": {},
   "outputs": [],
   "source": [
    "import pandas as pd\n",
    "df_transact_train = pd.read_csv('train_transaction.csv')"
   ]
  },
  {
   "cell_type": "code",
   "execution_count": 4,
   "metadata": {},
   "outputs": [
    {
     "name": "stdout",
     "output_type": "stream",
     "text": [
      "columns with less than 1% nan\n",
      "TransactionID\n",
      "isFraud\n",
      "TransactionDT\n",
      "TransactionAmt\n",
      "ProductCD\n",
      "card1\n",
      "card3\n",
      "card4\n",
      "card5\n",
      "card6\n",
      "C1\n",
      "C2\n",
      "C3\n",
      "C4\n",
      "C5\n",
      "C6\n",
      "C7\n",
      "C8\n",
      "C9\n",
      "C10\n",
      "C11\n",
      "C12\n",
      "C13\n",
      "C14\n",
      "D1\n",
      "V95\n",
      "V96\n",
      "V97\n",
      "V98\n",
      "V99\n",
      "V100\n",
      "V101\n",
      "V102\n",
      "V103\n",
      "V104\n",
      "V105\n",
      "V106\n",
      "V107\n",
      "V108\n",
      "V109\n",
      "V110\n",
      "V111\n",
      "V112\n",
      "V113\n",
      "V114\n",
      "V115\n",
      "V116\n",
      "V117\n",
      "V118\n",
      "V119\n",
      "V120\n",
      "V121\n",
      "V122\n",
      "V123\n",
      "V124\n",
      "V125\n",
      "V126\n",
      "V127\n",
      "V128\n",
      "V129\n",
      "V130\n",
      "V131\n",
      "V132\n",
      "V133\n",
      "V134\n",
      "V135\n",
      "V136\n",
      "V137\n",
      "V279\n",
      "V280\n",
      "V281\n",
      "V282\n",
      "V283\n",
      "V284\n",
      "V285\n",
      "V286\n",
      "V287\n",
      "V288\n",
      "V289\n",
      "V290\n",
      "V291\n",
      "V292\n",
      "V293\n",
      "V294\n",
      "V295\n",
      "V296\n",
      "V297\n",
      "V298\n",
      "V299\n",
      "V300\n",
      "V301\n",
      "V302\n",
      "V303\n",
      "V304\n",
      "V305\n",
      "V306\n",
      "V307\n",
      "V308\n",
      "V309\n",
      "V310\n",
      "V311\n",
      "V312\n",
      "V313\n",
      "V314\n",
      "V315\n",
      "V316\n",
      "V317\n",
      "V318\n",
      "V319\n",
      "V320\n",
      "V321\n"
     ]
    }
   ],
   "source": [
    "low_null_columns = (df_transact_train.isnull().sum()/len(df_transact_train)*100) < 1\n",
    "\n",
    "low_nan_columns = []\n",
    "index = 0\n",
    "print(\"columns with less than 1% nan\")\n",
    "for column in low_null_columns:\n",
    "    if column == True:\n",
    "        print(low_null_columns.index[index])\n",
    "        low_nan_columns.append(low_null_columns.index[index])\n",
    "    index += 1"
   ]
  },
  {
   "cell_type": "code",
   "execution_count": 6,
   "metadata": {},
   "outputs": [],
   "source": [
    "df_low_nans = df_transact_train.loc[:, low_nan_columns]"
   ]
  },
  {
   "cell_type": "code",
   "execution_count": 8,
   "metadata": {},
   "outputs": [
    {
     "data": {
      "text/plain": [
       "(590540, 111)"
      ]
     },
     "execution_count": 8,
     "metadata": {},
     "output_type": "execute_result"
    }
   ],
   "source": [
    "df_low_nans.shape"
   ]
  },
  {
   "cell_type": "code",
   "execution_count": 12,
   "metadata": {},
   "outputs": [
    {
     "data": {
      "text/plain": [
       "(584843, 111)"
      ]
     },
     "execution_count": 12,
     "metadata": {},
     "output_type": "execute_result"
    }
   ],
   "source": [
    "df_low_nans.dropna().shape"
   ]
  },
  {
   "cell_type": "code",
   "execution_count": 13,
   "metadata": {},
   "outputs": [],
   "source": [
    "df_no_nans = df_low_nans.dropna()"
   ]
  },
  {
   "cell_type": "code",
   "execution_count": null,
   "metadata": {},
   "outputs": [],
   "source": []
  }
 ],
 "metadata": {
  "kernelspec": {
   "display_name": "p36workshop",
   "language": "python",
   "name": "p36workshop"
  },
  "language_info": {
   "codemirror_mode": {
    "name": "ipython",
    "version": 3
   },
   "file_extension": ".py",
   "mimetype": "text/x-python",
   "name": "python",
   "nbconvert_exporter": "python",
   "pygments_lexer": "ipython3",
   "version": "3.6.8"
  }
 },
 "nbformat": 4,
 "nbformat_minor": 2
}
