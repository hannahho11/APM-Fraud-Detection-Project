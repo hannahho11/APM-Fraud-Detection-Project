{
 "cells": [
  {
   "cell_type": "code",
   "execution_count": 29,
   "metadata": {},
   "outputs": [],
   "source": [
    "import pandas as pd\n",
    "\n",
    "df = pd.read_csv('cleaned train_identity.csv')\n",
    "df = df.drop('Unnamed: 0', axis = 1)"
   ]
  },
  {
   "cell_type": "code",
   "execution_count": 30,
   "metadata": {},
   "outputs": [
    {
     "data": {
      "text/plain": [
       "15282"
      ]
     },
     "execution_count": 30,
     "metadata": {},
     "output_type": "execute_result"
    }
   ],
   "source": [
    "len(df)"
   ]
  },
  {
   "cell_type": "code",
   "execution_count": 31,
   "metadata": {},
   "outputs": [],
   "source": [
    "import sklearn\n",
    "from sklearn.ensemble import RandomForestClassifier\n",
    "from sklearn.datasets import make_classification\n",
    "from sklearn import preprocessing\n",
    "from patsy import dmatrices"
   ]
  },
  {
   "cell_type": "code",
   "execution_count": 32,
   "metadata": {},
   "outputs": [
    {
     "data": {
      "text/html": [
       "<div>\n",
       "<style scoped>\n",
       "    .dataframe tbody tr th:only-of-type {\n",
       "        vertical-align: middle;\n",
       "    }\n",
       "\n",
       "    .dataframe tbody tr th {\n",
       "        vertical-align: top;\n",
       "    }\n",
       "\n",
       "    .dataframe thead th {\n",
       "        text-align: right;\n",
       "    }\n",
       "</style>\n",
       "<table border=\"1\" class=\"dataframe\">\n",
       "  <thead>\n",
       "    <tr style=\"text-align: right;\">\n",
       "      <th></th>\n",
       "      <th>TransactionID</th>\n",
       "      <th>id_01</th>\n",
       "      <th>id_02</th>\n",
       "      <th>id_05</th>\n",
       "      <th>id_06</th>\n",
       "      <th>id_11</th>\n",
       "      <th>id_12</th>\n",
       "      <th>id_13</th>\n",
       "      <th>id_15</th>\n",
       "      <th>id_16</th>\n",
       "      <th>...</th>\n",
       "      <th>id_28</th>\n",
       "      <th>id_29</th>\n",
       "      <th>id_31</th>\n",
       "      <th>id_35</th>\n",
       "      <th>id_36</th>\n",
       "      <th>id_37</th>\n",
       "      <th>id_38</th>\n",
       "      <th>DeviceType</th>\n",
       "      <th>DeviceInfo</th>\n",
       "      <th>isFraud</th>\n",
       "    </tr>\n",
       "  </thead>\n",
       "  <tbody>\n",
       "    <tr>\n",
       "      <th>0</th>\n",
       "      <td>3256028</td>\n",
       "      <td>-5.0</td>\n",
       "      <td>288020.0</td>\n",
       "      <td>0.0</td>\n",
       "      <td>0.0</td>\n",
       "      <td>100.000000</td>\n",
       "      <td>1</td>\n",
       "      <td>34</td>\n",
       "      <td>1</td>\n",
       "      <td>1</td>\n",
       "      <td>...</td>\n",
       "      <td>1</td>\n",
       "      <td>1</td>\n",
       "      <td>48</td>\n",
       "      <td>0</td>\n",
       "      <td>0</td>\n",
       "      <td>1</td>\n",
       "      <td>0</td>\n",
       "      <td>0</td>\n",
       "      <td>1431</td>\n",
       "      <td>0</td>\n",
       "    </tr>\n",
       "    <tr>\n",
       "      <th>1</th>\n",
       "      <td>3572927</td>\n",
       "      <td>-5.0</td>\n",
       "      <td>1315.0</td>\n",
       "      <td>0.0</td>\n",
       "      <td>0.0</td>\n",
       "      <td>100.000000</td>\n",
       "      <td>1</td>\n",
       "      <td>34</td>\n",
       "      <td>0</td>\n",
       "      <td>0</td>\n",
       "      <td>...</td>\n",
       "      <td>0</td>\n",
       "      <td>0</td>\n",
       "      <td>70</td>\n",
       "      <td>1</td>\n",
       "      <td>0</td>\n",
       "      <td>1</td>\n",
       "      <td>1</td>\n",
       "      <td>0</td>\n",
       "      <td>1431</td>\n",
       "      <td>0</td>\n",
       "    </tr>\n",
       "    <tr>\n",
       "      <th>2</th>\n",
       "      <td>3492797</td>\n",
       "      <td>-5.0</td>\n",
       "      <td>290487.0</td>\n",
       "      <td>2.0</td>\n",
       "      <td>-5.0</td>\n",
       "      <td>95.080002</td>\n",
       "      <td>1</td>\n",
       "      <td>34</td>\n",
       "      <td>1</td>\n",
       "      <td>1</td>\n",
       "      <td>...</td>\n",
       "      <td>0</td>\n",
       "      <td>0</td>\n",
       "      <td>80</td>\n",
       "      <td>0</td>\n",
       "      <td>0</td>\n",
       "      <td>1</td>\n",
       "      <td>0</td>\n",
       "      <td>0</td>\n",
       "      <td>1431</td>\n",
       "      <td>0</td>\n",
       "    </tr>\n",
       "    <tr>\n",
       "      <th>3</th>\n",
       "      <td>3083982</td>\n",
       "      <td>-5.0</td>\n",
       "      <td>277642.0</td>\n",
       "      <td>0.0</td>\n",
       "      <td>0.0</td>\n",
       "      <td>100.000000</td>\n",
       "      <td>1</td>\n",
       "      <td>34</td>\n",
       "      <td>0</td>\n",
       "      <td>0</td>\n",
       "      <td>...</td>\n",
       "      <td>0</td>\n",
       "      <td>0</td>\n",
       "      <td>45</td>\n",
       "      <td>0</td>\n",
       "      <td>0</td>\n",
       "      <td>1</td>\n",
       "      <td>1</td>\n",
       "      <td>0</td>\n",
       "      <td>1431</td>\n",
       "      <td>0</td>\n",
       "    </tr>\n",
       "    <tr>\n",
       "      <th>4</th>\n",
       "      <td>3078243</td>\n",
       "      <td>-10.0</td>\n",
       "      <td>53657.0</td>\n",
       "      <td>0.0</td>\n",
       "      <td>-10.0</td>\n",
       "      <td>100.000000</td>\n",
       "      <td>1</td>\n",
       "      <td>43</td>\n",
       "      <td>1</td>\n",
       "      <td>1</td>\n",
       "      <td>...</td>\n",
       "      <td>1</td>\n",
       "      <td>1</td>\n",
       "      <td>89</td>\n",
       "      <td>1</td>\n",
       "      <td>0</td>\n",
       "      <td>0</td>\n",
       "      <td>1</td>\n",
       "      <td>0</td>\n",
       "      <td>1397</td>\n",
       "      <td>0</td>\n",
       "    </tr>\n",
       "  </tbody>\n",
       "</table>\n",
       "<p>5 rows × 23 columns</p>\n",
       "</div>"
      ],
      "text/plain": [
       "   TransactionID  id_01     id_02  id_05  id_06       id_11  id_12  id_13  \\\n",
       "0        3256028   -5.0  288020.0    0.0    0.0  100.000000      1     34   \n",
       "1        3572927   -5.0    1315.0    0.0    0.0  100.000000      1     34   \n",
       "2        3492797   -5.0  290487.0    2.0   -5.0   95.080002      1     34   \n",
       "3        3083982   -5.0  277642.0    0.0    0.0  100.000000      1     34   \n",
       "4        3078243  -10.0   53657.0    0.0  -10.0  100.000000      1     43   \n",
       "\n",
       "   id_15  id_16  ...  id_28  id_29  id_31  id_35  id_36  id_37  id_38  \\\n",
       "0      1      1  ...      1      1     48      0      0      1      0   \n",
       "1      0      0  ...      0      0     70      1      0      1      1   \n",
       "2      1      1  ...      0      0     80      0      0      1      0   \n",
       "3      0      0  ...      0      0     45      0      0      1      1   \n",
       "4      1      1  ...      1      1     89      1      0      0      1   \n",
       "\n",
       "   DeviceType  DeviceInfo  isFraud  \n",
       "0           0        1431        0  \n",
       "1           0        1431        0  \n",
       "2           0        1431        0  \n",
       "3           0        1431        0  \n",
       "4           0        1397        0  \n",
       "\n",
       "[5 rows x 23 columns]"
      ]
     },
     "execution_count": 32,
     "metadata": {},
     "output_type": "execute_result"
    }
   ],
   "source": [
    "df.head()"
   ]
  },
  {
   "cell_type": "code",
   "execution_count": 33,
   "metadata": {},
   "outputs": [
    {
     "data": {
      "text/plain": [
       "array(['TransactionID', 'id_01', 'id_02', 'id_05', 'id_06', 'id_11',\n",
       "       'id_12', 'id_13', 'id_15', 'id_16', 'id_17', 'id_19', 'id_20',\n",
       "       'id_28', 'id_29', 'id_31', 'id_35', 'id_36', 'id_37', 'id_38',\n",
       "       'DeviceType', 'DeviceInfo', 'isFraud'], dtype=object)"
      ]
     },
     "execution_count": 33,
     "metadata": {},
     "output_type": "execute_result"
    }
   ],
   "source": [
    "df.columns.values"
   ]
  },
  {
   "cell_type": "code",
   "execution_count": 34,
   "metadata": {},
   "outputs": [],
   "source": [
    "X = df.drop(['isFraud', 'TransactionID'], axis=1)\n",
    "y = df['isFraud']\n",
    "#X, y = dmatrices( )"
   ]
  },
  {
   "cell_type": "code",
   "execution_count": 35,
   "metadata": {},
   "outputs": [],
   "source": [
    "#len(df['isFraud']) #15282"
   ]
  },
  {
   "cell_type": "code",
   "execution_count": 36,
   "metadata": {},
   "outputs": [
    {
     "data": {
      "text/plain": [
       "RandomForestClassifier(bootstrap=True, class_weight=None, criterion='gini',\n",
       "                       max_depth=10, max_features='auto', max_leaf_nodes=None,\n",
       "                       min_impurity_decrease=0.0, min_impurity_split=None,\n",
       "                       min_samples_leaf=1, min_samples_split=2,\n",
       "                       min_weight_fraction_leaf=0.0, n_estimators=100,\n",
       "                       n_jobs=None, oob_score=False, random_state=0, verbose=0,\n",
       "                       warm_start=False)"
      ]
     },
     "execution_count": 36,
     "metadata": {},
     "output_type": "execute_result"
    }
   ],
   "source": [
    "# Fit Random Forest model\n",
    "model = RandomForestClassifier(n_estimators = 100, max_depth = 10, random_state = 0)\n",
    "model.fit(X,y)"
   ]
  },
  {
   "cell_type": "code",
   "execution_count": 37,
   "metadata": {},
   "outputs": [
    {
     "name": "stdout",
     "output_type": "stream",
     "text": [
      "[[6333 1308]\n",
      " [1444 6197]]\n",
      "Accuracy 0.8199188587881168\n"
     ]
    }
   ],
   "source": [
    "# Predict and print confusion matrix\n",
    "y_pred = model.predict(X)\n",
    "\n",
    "from sklearn.metrics import confusion_matrix\n",
    "import sklearn.metrics as metrics\n",
    "\n",
    "print(confusion_matrix(y,y_pred))\n",
    "print('Accuracy', metrics.accuracy_score(y,y_pred))"
   ]
  },
  {
   "cell_type": "code",
   "execution_count": 38,
   "metadata": {},
   "outputs": [],
   "source": [
    "# Calculate the FPR and TPR for all thresholds of the classification\n",
    "y_pred_proba = model.predict_proba(X)[::,1]\n",
    "\n",
    "fpr, tpr, threshold = metrics.roc_curve(y, y_pred_proba)\n",
    "roc_auc = metrics.auc(fpr, tpr)"
   ]
  },
  {
   "cell_type": "code",
   "execution_count": 39,
   "metadata": {},
   "outputs": [
    {
     "data": {
      "image/png": "[encoded data removed]",
      "text/plain": [
       "<Figure size 432x288 with 1 Axes>"
      ]
     },
     "metadata": {
      "needs_background": "light"
     },
     "output_type": "display_data"
    }
   ],
   "source": [
    "# Plot ROC curve\n",
    "# method I: plt\n",
    "import matplotlib.pyplot as plt\n",
    "plt.title('Receiver Operating Characteristic')\n",
    "plt.plot(fpr, tpr, 'b', label = 'AUC = %0.2f' % roc_auc)\n",
    "plt.legend(loc = 'lower right')\n",
    "plt.plot([0, 1], [0, 1],'r--')\n",
    "plt.xlim([0, 1])\n",
    "plt.ylim([0, 1])\n",
    "plt.ylabel('True Positive Rate')\n",
    "plt.xlabel('False Positive Rate')\n",
    "plt.show()"
   ]
  },
  {
   "cell_type": "code",
   "execution_count": 44,
   "metadata": {},
   "outputs": [
    {
     "name": "stdout",
     "output_type": "stream",
     "text": [
      "[[11846  3436]\n",
      " [ 1444  6197]]\n",
      "Accuracy 0.7871133795750992\n"
     ]
    }
   ],
   "source": [
    "# Create a more balanced dataset and fit Random Forest again\n",
    "#QUESTION: predict on test\n",
    "# 'identity_test' is the VALDIATION set made from train set\n",
    "df_test = pd.read_csv('identity_cv.csv').drop('Unnamed: 0', axis=1) \n",
    "mask = df_test['isFraud'] == 1\n",
    "df_test_noFraud = df_test[-mask].sample(n = 15282) #15282 is the length of df['isFraud']\n",
    "#df_test_noFraud = df_test_noFraud.drop(['isFraud', 'TransactionID'])\n",
    "\n",
    "df_test_fraud = df_test[mask]\n",
    "\n",
    "df_test_balanced = pd.concat([df_test_noFraud, df_test_fraud])\n",
    "\n",
    "X_test = df_test_balanced.drop(['isFraud','isFraud_x','isFraud_y','TransactionID'], axis=1)\n",
    "#print(X_test.columns.values)\n",
    "y_test = df_test_balanced['isFraud']\n",
    "\n",
    "#model.fit(X_test,y_test)\n",
    "y_test_pred = model.predict(X_test)\n",
    "\n",
    "print(confusion_matrix(y_test,y_test_pred))\n",
    "print('Accuracy', metrics.accuracy_score(y_test,y_test_pred)) #almost no improvement in accuracy"
   ]
  },
  {
   "cell_type": "code",
   "execution_count": null,
   "metadata": {},
   "outputs": [],
   "source": [
    "#len(mask) #97614"
   ]
  },
  {
   "cell_type": "code",
   "execution_count": null,
   "metadata": {},
   "outputs": [],
   "source": [
    "#len(df_test_balanced) #22923"
   ]
  },
  {
   "cell_type": "code",
   "execution_count": 47,
   "metadata": {},
   "outputs": [
    {
     "name": "stdout",
     "output_type": "stream",
     "text": [
      "[[69871 20102]\n",
      " [ 1444  6197]]\n",
      "Accuracy 0.7792734648718421\n"
     ]
    }
   ],
   "source": [
    "df_test = pd.read_csv('identity_cv.csv').drop('Unnamed: 0', axis=1)\n",
    "\n",
    "mask = df_test['isFraud'] == 1\n",
    "df_test_noFraud = df_test[-mask]\n",
    "#df_test_noFraud = df_test_noFraud.drop(['isFraud', 'TransactionID'])\n",
    "\n",
    "df_test_fraud = df_test[mask]\n",
    "\n",
    "\n",
    "df_test_balanced = pd.concat([df_test_noFraud, df_test_fraud])\n",
    "\n",
    "X_test = df_test_balanced.drop(['isFraud','isFraud_x', 'isFraud_y','TransactionID'], axis=1)\n",
    "y_test = df_test_balanced['isFraud']\n",
    "\n",
    "\n",
    "y_test_pred = model.predict(X_test)\n",
    "\n",
    "print(confusion_matrix(y_test,y_test_pred))\n",
    "print('Accuracy', metrics.accuracy_score(y_test,y_test_pred))"
   ]
  },
  {
   "cell_type": "code",
   "execution_count": 48,
   "metadata": {},
   "outputs": [
    {
     "data": {
      "text/plain": [
       "97614"
      ]
     },
     "execution_count": 48,
     "metadata": {},
     "output_type": "execute_result"
    }
   ],
   "source": [
    "len(df_test['isFraud'])"
   ]
  },
  {
   "cell_type": "code",
   "execution_count": 49,
   "metadata": {},
   "outputs": [
    {
     "data": {
      "image/png": "[encoded data removed]",
      "text/plain": [
       "<Figure size 432x288 with 1 Axes>"
      ]
     },
     "metadata": {
      "needs_background": "light"
     },
     "output_type": "display_data"
    }
   ],
   "source": [
    "y_pred_proba = model.predict_proba(X_test)[::,1]\n",
    "\n",
    "fpr, tpr, threshold = metrics.roc_curve(y_test, y_pred_proba)\n",
    "roc_auc = metrics.auc(fpr, tpr)\n",
    "\n",
    "# method I: plt\n",
    "import matplotlib.pyplot as plt\n",
    "plt.title('Receiver Operating Characteristic')\n",
    "plt.plot(fpr, tpr, 'b', label = 'AUC = %0.2f' % roc_auc)\n",
    "plt.legend(loc = 'lower right')\n",
    "plt.plot([0, 1], [0, 1],'r--')\n",
    "plt.xlim([0, 1])\n",
    "plt.ylim([0, 1])\n",
    "plt.ylabel('True Positive Rate')\n",
    "plt.xlabel('False Positive Rate')\n",
    "plt.show()"
   ]
  },
  {
   "cell_type": "code",
   "execution_count": 50,
   "metadata": {},
   "outputs": [
    {
     "data": {
      "text/plain": [
       "Text(0.5, 0, 'Relative Importance')"
      ]
     },
     "execution_count": 50,
     "metadata": {},
     "output_type": "execute_result"
    },
    {
     "data": {
      "image/png": "[encoded data removed]",
      "text/plain": [
       "<Figure size 432x288 with 1 Axes>"
      ]
     },
     "metadata": {
      "needs_background": "light"
     },
     "output_type": "display_data"
    }
   ],
   "source": [
    "import numpy as np\n",
    "\n",
    "features = X_test.columns.values\n",
    "importances = model.feature_importances_\n",
    "\n",
    "indices = np.argsort(importances)\n",
    "plt.title('Feature importances')\n",
    "plt.barh(range(len(indices)), importances[indices], color = 'b', align = 'center')\n",
    "plt.yticks(range(len(indices)), [features[i] for i in indices])\n",
    "plt.xlabel('Relative Importance')\n"
   ]
  },
  {
   "cell_type": "code",
   "execution_count": 51,
   "metadata": {},
   "outputs": [
    {
     "data": {
      "text/plain": [
       "RandomForestClassifier(bootstrap=True, class_weight=None, criterion='gini',\n",
       "                       max_depth=10, max_features='auto', max_leaf_nodes=None,\n",
       "                       min_impurity_decrease=0.0, min_impurity_split=None,\n",
       "                       min_samples_leaf=1, min_samples_split=2,\n",
       "                       min_weight_fraction_leaf=0.0, n_estimators=100,\n",
       "                       n_jobs=None, oob_score=False, random_state=0, verbose=0,\n",
       "                       warm_start=False)"
      ]
     },
     "execution_count": 51,
     "metadata": {},
     "output_type": "execute_result"
    }
   ],
   "source": [
    "X_cut = X.drop(['id_16', 'id_17', 'id_29', 'id_28', 'id_31'], axis=1)\n",
    "\n",
    "\n",
    "#X = X_cut.drop(['isFraud', 'TransactionID'], axis=1)\n",
    "y = df['isFraud']\n",
    "\n",
    "#X, y = dmatrices( )\n",
    "\n",
    "model = RandomForestClassifier(n_estimators = 100, max_depth = 10, random_state = 0)\n",
    "model.fit(X,y)"
   ]
  },
  {
   "cell_type": "code",
   "execution_count": 54,
   "metadata": {},
   "outputs": [
    {
     "name": "stdout",
     "output_type": "stream",
     "text": [
      "[[11933  3349]\n",
      " [ 1444  6197]]\n",
      "Accuracy 0.7909086943244776\n",
      "f1 0.7211264327689532\n"
     ]
    }
   ],
   "source": [
    "df_test = pd.read_csv('identity_cv.csv').drop('Unnamed: 0', axis=1)\n",
    "\n",
    "mask = df_test['isFraud'] == 1\n",
    "df_test_noFraud = df_test[-mask].sample(n = 15282)\n",
    "#df_test_noFraud = df_test_noFraud.drop(['isFraud', 'TransactionID'])\n",
    "\n",
    "df_test_fraud = df_test[mask]\n",
    "\n",
    "\n",
    "df_test_balanced = pd.concat([df_test_noFraud, df_test_fraud])\n",
    "\n",
    "X_test = df_test_balanced.drop(['isFraud','isFraud_x','isFraud_y', 'TransactionID'], axis=1)\n",
    "#X_test = X_test.drop(['id_16', 'id_17', 'id_29', 'id_28', 'id_31'], axis=1)\n",
    "y_test = df_test_balanced['isFraud']\n",
    "\n",
    "\n",
    "y_test_pred = model.predict(X_test)\n",
    "\n",
    "print(confusion_matrix(y_test,y_test_pred))\n",
    "print('Accuracy', metrics.accuracy_score(y_test,y_test_pred))\n",
    "print('f1', metrics.f1_score(y_test,y_test_pred))\n",
    "\n",
    "#Naive bayes code?\n",
    "#from sklearn import datasets\n",
    "#iris = datasets.load_iris()\n",
    "#from sklearn.naive_bayes import GaussianNB\n",
    "#gnb = GaussianNB()\n",
    "#y_pred = gnb.fit(iris.data, iris.target).predict(iris.data)\n",
    "\n",
    "\n",
    "#Naive bayes code?\n",
    "#from sklearn import datasets\n",
    "#iris = datasets.load_iris()\n",
    "#from sklearn.naive_bayes import GaussianNB\n",
    "#gnb = GaussianNB()\n",
    "#y_pred = gnb.fit(iris.data, iris.target).predict(iris.data)"
   ]
  },
  {
   "cell_type": "code",
   "execution_count": 56,
   "metadata": {},
   "outputs": [
    {
     "name": "stdout",
     "output_type": "stream",
     "text": [
      "[[10798  4484]\n",
      " [ 2417  5224]]\n",
      "Accuracy 0.6989486541901148\n"
     ]
    },
    {
     "name": "stderr",
     "output_type": "stream",
     "text": [
      "C:\\Users\\Thomas\\Anaconda3\\lib\\site-packages\\sklearn\\linear_model\\logistic.py:432: FutureWarning: Default solver will be changed to 'lbfgs' in 0.22. Specify a solver to silence this warning.\n",
      "  FutureWarning)\n"
     ]
    }
   ],
   "source": [
    "#Try logistic regression for variable importance\n",
    "\n",
    "from sklearn.linear_model import LogisticRegression\n",
    "\n",
    "clf = LogisticRegression(random_state=0, penalty = 'l1').fit(X, y)\n",
    "X_test = df_test_balanced.drop(['isFraud','isFraud_x','isFraud_y', 'TransactionID'], axis=1)\n",
    "y_pred = clf.predict(X_test)\n",
    "print(confusion_matrix(y_test,y_pred))\n",
    "print('Accuracy', metrics.accuracy_score(y_test,y_pred))\n"
   ]
  },
  {
   "cell_type": "code",
   "execution_count": 57,
   "metadata": {},
   "outputs": [
    {
     "data": {
      "text/plain": [
       "id_29        -1.003552e+00\n",
       "id_35        -9.306258e-01\n",
       "id_36        -8.917261e-01\n",
       "id_16        -5.864790e-01\n",
       "id_37        -2.191934e-01\n",
       "id_28        -1.821091e-01\n",
       "id_38        -1.955274e-02\n",
       "id_01        -1.741726e-02\n",
       "id_13        -8.312313e-03\n",
       "id_11        -1.473265e-03\n",
       "id_31        -8.648171e-04\n",
       "id_06        -6.113979e-04\n",
       "id_19        -3.984548e-04\n",
       "id_02         7.476772e-08\n",
       "DeviceInfo    5.031255e-04\n",
       "id_20         1.488765e-03\n",
       "id_17         4.661009e-03\n",
       "id_05         1.552970e-02\n",
       "id_12         6.843440e-02\n",
       "id_15         6.622559e-01\n",
       "DeviceType    6.689357e-01\n",
       "dtype: float64"
      ]
     },
     "execution_count": 57,
     "metadata": {},
     "output_type": "execute_result"
    }
   ],
   "source": [
    "\n",
    "weights = pd.Series(clf.coef_[0],\n",
    "                 index=X.columns.values)\n",
    "weights.sort_values()"
   ]
  },
  {
   "cell_type": "code",
   "execution_count": 67,
   "metadata": {},
   "outputs": [
    {
     "name": "stdout",
     "output_type": "stream",
     "text": [
      "Split: 0.95 Accuracy: 0.775\n",
      "Split: 0.9 Accuracy: 0.7585\n",
      "Split: 0.85 Accuracy: 0.739\n",
      "Split: 0.8 Accuracy: 0.7256\n",
      "Split: 0.75 Accuracy: 0.7072\n",
      "Split: 0.7 Accuracy: 0.6717\n",
      "Split: 0.6 Accuracy: 0.6364\n",
      "Split: 0.5 Accuracy: 0.5956\n"
     ]
    }
   ],
   "source": [
    "from random import sample\n",
    "ratios = [0.05, 0.1, 0.15, 0.2, 0.25, 0.3, 0.4, 0.5]\n",
    "df = pd.read_csv('train_identity.csv')\n",
    "\n",
    "model = RandomForestClassifier(n_estimators = 100, max_depth = 10, random_state = 0)\n",
    "for ratio in ratios:\n",
    "    mask = df['isFraud'] == 1\n",
    "    ident_RAW_Fraud = df[mask] #length: 7641\n",
    "    ident_RAW = ident_RAW_Fraud.sample(n = int(ratio * len(df[mask])))\n",
    "    ident_RAW_Non = df[-mask]\n",
    "\n",
    "    ident_RAW_NonFraud = ident_RAW_Non.sample(n = int((1-ratio)*len(df[mask])))\n",
    "\n",
    "    df_train_balanced = pd.concat([ident_RAW_NonFraud, ident_RAW_Fraud])\n",
    "    X_tr = df_train_balanced.drop(['isFraud', 'TransactionID'], axis=1)\n",
    "    y_tr = df_train_balanced['isFraud']\n",
    "    model.fit(X_tr, y_tr)\n",
    "    \n",
    "    df_cv = df.sample(n = 10000)\n",
    "    X_test = df_cv.drop(['isFraud', 'TransactionID'], axis = 1)\n",
    "    y_test = df_cv['isFraud']\n",
    "    y_pred = model.predict(X_test)\n",
    "    print('Split:',1-ratio,'Accuracy:', metrics.accuracy_score(y_test,y_pred))\n",
    "    \n",
    "\n"
   ]
  },
  {
   "cell_type": "markdown",
   "metadata": {},
   "source": [
    "### LDA with correlated variables"
   ]
  },
  {
   "cell_type": "code",
   "execution_count": 104,
   "metadata": {},
   "outputs": [
    {
     "name": "stderr",
     "output_type": "stream",
     "text": [
      "C:\\Users\\Thomas\\Anaconda3\\lib\\site-packages\\sklearn\\discriminant_analysis.py:466: ChangedBehaviorWarning: n_components cannot be larger than min(n_features, n_classes - 1). Using min(n_features, n_classes - 1) = min(21, 2 - 1) = 1 components.\n",
      "  ChangedBehaviorWarning)\n",
      "C:\\Users\\Thomas\\Anaconda3\\lib\\site-packages\\sklearn\\discriminant_analysis.py:472: FutureWarning: In version 0.23, setting n_components > min(n_features, n_classes - 1) will raise a ValueError. You should set n_components to None (default), or a value smaller or equal to min(n_features, n_classes - 1).\n",
      "  warnings.warn(future_msg, FutureWarning)\n"
     ]
    },
    {
     "data": {
      "text/plain": [
       "Text(0.5, 1.0, 'Is Not Fraud')"
      ]
     },
     "execution_count": 104,
     "metadata": {},
     "output_type": "execute_result"
    },
    {
     "data": {
      "image/png": "[encoded data removed]",
      "text/plain": [
       "<Figure size 432x288 with 1 Axes>"
      ]
     },
     "metadata": {
      "needs_background": "light"
     },
     "output_type": "display_data"
    },
    {
     "data": {
      "image/png": "[encoded data removed]",
      "text/plain": [
       "<Figure size 432x288 with 1 Axes>"
      ]
     },
     "metadata": {
      "needs_background": "light"
     },
     "output_type": "display_data"
    }
   ],
   "source": [
    "from sklearn.discriminant_analysis import LinearDiscriminantAnalysis\n",
    "import matplotlib.pyplot as plt\n",
    "import pandas as pd\n",
    "\n",
    "df = pd.read_csv('cleaned train_identity.csv')\n",
    "df = df.drop('Unnamed: 0', axis = 1)\n",
    "X = df.drop(['isFraud','TransactionID'], axis=1)\n",
    "#X_cut_subset = df[['id_01', 'id_02','DeviceInfo', 'id_20', 'id_35', 'id_06', 'id_19', 'id_05',\\\n",
    "#                     'id_13']]\n",
    "X_cut_subset = X\n",
    "y = df['isFraud']\n",
    "\n",
    "lda = LinearDiscriminantAnalysis(n_components=2)\n",
    "X_r = lda.fit(X_cut_subset,y).transform(X_cut_subset)\n",
    "\n",
    "\n",
    "plt.figure()\n",
    "\n",
    "plt.hist(X_r[y == 0, 0], label = 'isFraud',  bins = 20)\n",
    "plt.title('Is Fraud')\n",
    "plt.figure()\n",
    "plt.hist(X_r[y == 1, 0], label = 'isNotFraud', bins = 20)\n",
    "plt.title('Is Not Fraud')\n"
   ]
  },
  {
   "cell_type": "markdown",
   "metadata": {},
   "source": [
    "### LDA without correlated variables"
   ]
  },
  {
   "cell_type": "code",
   "execution_count": 105,
   "metadata": {},
   "outputs": [
    {
     "name": "stderr",
     "output_type": "stream",
     "text": [
      "C:\\Users\\Thomas\\Anaconda3\\lib\\site-packages\\sklearn\\discriminant_analysis.py:466: ChangedBehaviorWarning: n_components cannot be larger than min(n_features, n_classes - 1). Using min(n_features, n_classes - 1) = min(9, 2 - 1) = 1 components.\n",
      "  ChangedBehaviorWarning)\n",
      "C:\\Users\\Thomas\\Anaconda3\\lib\\site-packages\\sklearn\\discriminant_analysis.py:472: FutureWarning: In version 0.23, setting n_components > min(n_features, n_classes - 1) will raise a ValueError. You should set n_components to None (default), or a value smaller or equal to min(n_features, n_classes - 1).\n",
      "  warnings.warn(future_msg, FutureWarning)\n"
     ]
    },
    {
     "data": {
      "text/plain": [
       "Text(0.5, 1.0, 'Is Not Fraud')"
      ]
     },
     "execution_count": 105,
     "metadata": {},
     "output_type": "execute_result"
    },
    {
     "data": {
      "image/png": "[encoded data removed]",
      "text/plain": [
       "<Figure size 432x288 with 1 Axes>"
      ]
     },
     "metadata": {
      "needs_background": "light"
     },
     "output_type": "display_data"
    },
    {
     "data": {
      "image/png": "[encoded data removed]",
      "text/plain": [
       "<Figure size 432x288 with 1 Axes>"
      ]
     },
     "metadata": {
      "needs_background": "light"
     },
     "output_type": "display_data"
    }
   ],
   "source": [
    "\n",
    "df = pd.read_csv('cleaned train_identity.csv')\n",
    "df = df.drop('Unnamed: 0', axis = 1)\n",
    "X = df.drop(['isFraud','TransactionID'], axis=1)\n",
    "X_cut_subset = df[['id_01', 'id_02','DeviceInfo', 'id_20', 'id_35', 'id_06', 'id_19', 'id_05',\\\n",
    "                     'id_13']]\n",
    "y = df['isFraud']\n",
    "\n",
    "lda = LinearDiscriminantAnalysis(n_components=2)\n",
    "X_r = lda.fit(X_cut_subset,y).transform(X_cut_subset)\n",
    "\n",
    "\n",
    "plt.figure()\n",
    "\n",
    "plt.hist(X_r[y == 0, 0], label = 'isFraud',  bins = 20)\n",
    "plt.title('Is Fraud')\n",
    "plt.figure()\n",
    "plt.hist(X_r[y == 1, 0], label = 'isNotFraud', bins = 20)\n",
    "plt.title('Is Not Fraud')"
   ]
  },
  {
   "cell_type": "code",
   "execution_count": null,
   "metadata": {},
   "outputs": [],
   "source": []
  }
 ],
 "metadata": {
  "kernelspec": {
   "display_name": "Python 3",
   "language": "python",
   "name": "python3"
  },
  "language_info": {
   "codemirror_mode": {
    "name": "ipython",
    "version": 3
   },
   "file_extension": ".py",
   "mimetype": "text/x-python",
   "name": "python",
   "nbconvert_exporter": "python",
   "pygments_lexer": "ipython3",
   "version": "3.7.3"
  }
 },
 "nbformat": 4,
 "nbformat_minor": 4
}
