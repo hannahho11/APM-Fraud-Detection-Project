{
 "cells": [
  {
   "cell_type": "code",
   "execution_count": 30,
   "metadata": {},
   "outputs": [],
   "source": [
    "# Create a cleaned training IDENTITY set \n",
    "import pandas as pd\n",
    "df_transact_train = pd.read_csv('train_identity.csv')"
   ]
  },
  {
   "cell_type": "code",
   "execution_count": 31,
   "metadata": {},
   "outputs": [
    {
     "data": {
      "text/plain": [
       "array(['TransactionID', 'id_01', 'id_02', 'id_03', 'id_04', 'id_05',\n",
       "       'id_06', 'id_07', 'id_08', 'id_09', 'id_10', 'id_11', 'id_12',\n",
       "       'id_13', 'id_14', 'id_15', 'id_16', 'id_17', 'id_18', 'id_19',\n",
       "       'id_20', 'id_21', 'id_22', 'id_23', 'id_24', 'id_25', 'id_26',\n",
       "       'id_27', 'id_28', 'id_29', 'id_30', 'id_31', 'id_32', 'id_33',\n",
       "       'id_34', 'id_35', 'id_36', 'id_37', 'id_38', 'DeviceType',\n",
       "       'DeviceInfo'], dtype=object)"
      ]
     },
     "execution_count": 31,
     "metadata": {},
     "output_type": "execute_result"
    }
   ],
   "source": [
    "df_transact_train.columns.values"
   ]
  },
  {
   "cell_type": "code",
   "execution_count": 3,
   "metadata": {},
   "outputs": [
    {
     "name": "stdout",
     "output_type": "stream",
     "text": [
      "columns with less than 1% nan\n",
      "TransactionID\n",
      "id_01\n",
      "id_02\n",
      "id_05\n",
      "id_06\n",
      "id_11\n",
      "id_12\n",
      "id_13\n",
      "id_15\n",
      "id_16\n",
      "id_17\n",
      "id_19\n",
      "id_20\n",
      "id_28\n",
      "id_29\n",
      "id_31\n",
      "id_35\n",
      "id_36\n",
      "id_37\n",
      "id_38\n",
      "DeviceType\n",
      "DeviceInfo\n"
     ]
    }
   ],
   "source": [
    "# Keep only columns with <1%  of null and na vaules\n",
    "low_null_columns = (df_transact_train.isnull().sum()/len(df_transact_train)*100) < 20\n",
    "\n",
    "low_nan_columns = []\n",
    "index = 0\n",
    "print(\"columns with less than 1% nan\")\n",
    "for column in low_null_columns:\n",
    "    if column == True:\n",
    "        print(low_null_columns.index[index])\n",
    "        low_nan_columns.append(low_null_columns.index[index])\n",
    "    index += 1"
   ]
  },
  {
   "cell_type": "code",
   "execution_count": 4,
   "metadata": {},
   "outputs": [],
   "source": [
    "df_low_nans = df_transact_train.loc[:, low_nan_columns]"
   ]
  },
  {
   "cell_type": "code",
   "execution_count": 5,
   "metadata": {},
   "outputs": [
    {
     "data": {
      "text/plain": [
       "(144233, 22)"
      ]
     },
     "execution_count": 5,
     "metadata": {},
     "output_type": "execute_result"
    }
   ],
   "source": [
    "df_low_nans.shape"
   ]
  },
  {
   "cell_type": "code",
   "execution_count": 6,
   "metadata": {},
   "outputs": [
    {
     "data": {
      "text/plain": [
       "(97614, 22)"
      ]
     },
     "execution_count": 6,
     "metadata": {},
     "output_type": "execute_result"
    }
   ],
   "source": [
    "df_low_nans.dropna().shape"
   ]
  },
  {
   "cell_type": "code",
   "execution_count": 7,
   "metadata": {},
   "outputs": [],
   "source": [
    "df_no_nans = df_low_nans.dropna()"
   ]
  },
  {
   "cell_type": "code",
   "execution_count": 32,
   "metadata": {},
   "outputs": [],
   "source": [
    "# Create cleaned TRANSACTION training dataset\n",
    "df_trans = pd.read_csv('train_transaction.csv')"
   ]
  },
  {
   "cell_type": "code",
   "execution_count": 33,
   "metadata": {},
   "outputs": [
    {
     "data": {
      "text/plain": [
       "array(['TransactionID', 'isFraud', 'TransactionDT', 'TransactionAmt',\n",
       "       'ProductCD', 'card1', 'card2', 'card3', 'card4', 'card5', 'card6',\n",
       "       'addr1', 'addr2', 'dist1', 'dist2', 'P_emaildomain',\n",
       "       'R_emaildomain', 'C1', 'C2', 'C3', 'C4', 'C5', 'C6', 'C7', 'C8',\n",
       "       'C9', 'C10', 'C11', 'C12', 'C13', 'C14', 'D1', 'D2', 'D3', 'D4',\n",
       "       'D5', 'D6', 'D7', 'D8', 'D9', 'D10', 'D11', 'D12', 'D13', 'D14',\n",
       "       'D15', 'M1', 'M2', 'M3', 'M4', 'M5', 'M6', 'M7', 'M8', 'M9', 'V1',\n",
       "       'V2', 'V3', 'V4', 'V5', 'V6', 'V7', 'V8', 'V9', 'V10', 'V11',\n",
       "       'V12', 'V13', 'V14', 'V15', 'V16', 'V17', 'V18', 'V19', 'V20',\n",
       "       'V21', 'V22', 'V23', 'V24', 'V25', 'V26', 'V27', 'V28', 'V29',\n",
       "       'V30', 'V31', 'V32', 'V33', 'V34', 'V35', 'V36', 'V37', 'V38',\n",
       "       'V39', 'V40', 'V41', 'V42', 'V43', 'V44', 'V45', 'V46', 'V47',\n",
       "       'V48', 'V49', 'V50', 'V51', 'V52', 'V53', 'V54', 'V55', 'V56',\n",
       "       'V57', 'V58', 'V59', 'V60', 'V61', 'V62', 'V63', 'V64', 'V65',\n",
       "       'V66', 'V67', 'V68', 'V69', 'V70', 'V71', 'V72', 'V73', 'V74',\n",
       "       'V75', 'V76', 'V77', 'V78', 'V79', 'V80', 'V81', 'V82', 'V83',\n",
       "       'V84', 'V85', 'V86', 'V87', 'V88', 'V89', 'V90', 'V91', 'V92',\n",
       "       'V93', 'V94', 'V95', 'V96', 'V97', 'V98', 'V99', 'V100', 'V101',\n",
       "       'V102', 'V103', 'V104', 'V105', 'V106', 'V107', 'V108', 'V109',\n",
       "       'V110', 'V111', 'V112', 'V113', 'V114', 'V115', 'V116', 'V117',\n",
       "       'V118', 'V119', 'V120', 'V121', 'V122', 'V123', 'V124', 'V125',\n",
       "       'V126', 'V127', 'V128', 'V129', 'V130', 'V131', 'V132', 'V133',\n",
       "       'V134', 'V135', 'V136', 'V137', 'V138', 'V139', 'V140', 'V141',\n",
       "       'V142', 'V143', 'V144', 'V145', 'V146', 'V147', 'V148', 'V149',\n",
       "       'V150', 'V151', 'V152', 'V153', 'V154', 'V155', 'V156', 'V157',\n",
       "       'V158', 'V159', 'V160', 'V161', 'V162', 'V163', 'V164', 'V165',\n",
       "       'V166', 'V167', 'V168', 'V169', 'V170', 'V171', 'V172', 'V173',\n",
       "       'V174', 'V175', 'V176', 'V177', 'V178', 'V179', 'V180', 'V181',\n",
       "       'V182', 'V183', 'V184', 'V185', 'V186', 'V187', 'V188', 'V189',\n",
       "       'V190', 'V191', 'V192', 'V193', 'V194', 'V195', 'V196', 'V197',\n",
       "       'V198', 'V199', 'V200', 'V201', 'V202', 'V203', 'V204', 'V205',\n",
       "       'V206', 'V207', 'V208', 'V209', 'V210', 'V211', 'V212', 'V213',\n",
       "       'V214', 'V215', 'V216', 'V217', 'V218', 'V219', 'V220', 'V221',\n",
       "       'V222', 'V223', 'V224', 'V225', 'V226', 'V227', 'V228', 'V229',\n",
       "       'V230', 'V231', 'V232', 'V233', 'V234', 'V235', 'V236', 'V237',\n",
       "       'V238', 'V239', 'V240', 'V241', 'V242', 'V243', 'V244', 'V245',\n",
       "       'V246', 'V247', 'V248', 'V249', 'V250', 'V251', 'V252', 'V253',\n",
       "       'V254', 'V255', 'V256', 'V257', 'V258', 'V259', 'V260', 'V261',\n",
       "       'V262', 'V263', 'V264', 'V265', 'V266', 'V267', 'V268', 'V269',\n",
       "       'V270', 'V271', 'V272', 'V273', 'V274', 'V275', 'V276', 'V277',\n",
       "       'V278', 'V279', 'V280', 'V281', 'V282', 'V283', 'V284', 'V285',\n",
       "       'V286', 'V287', 'V288', 'V289', 'V290', 'V291', 'V292', 'V293',\n",
       "       'V294', 'V295', 'V296', 'V297', 'V298', 'V299', 'V300', 'V301',\n",
       "       'V302', 'V303', 'V304', 'V305', 'V306', 'V307', 'V308', 'V309',\n",
       "       'V310', 'V311', 'V312', 'V313', 'V314', 'V315', 'V316', 'V317',\n",
       "       'V318', 'V319', 'V320', 'V321', 'V322', 'V323', 'V324', 'V325',\n",
       "       'V326', 'V327', 'V328', 'V329', 'V330', 'V331', 'V332', 'V333',\n",
       "       'V334', 'V335', 'V336', 'V337', 'V338', 'V339'], dtype=object)"
      ]
     },
     "execution_count": 33,
     "metadata": {},
     "output_type": "execute_result"
    }
   ],
   "source": [
    "df_trans.columns.values"
   ]
  },
  {
   "cell_type": "code",
   "execution_count": 15,
   "metadata": {},
   "outputs": [
    {
     "data": {
      "text/html": [
       "<div>\n",
       "<style scoped>\n",
       "    .dataframe tbody tr th:only-of-type {\n",
       "        vertical-align: middle;\n",
       "    }\n",
       "\n",
       "    .dataframe tbody tr th {\n",
       "        vertical-align: top;\n",
       "    }\n",
       "\n",
       "    .dataframe thead th {\n",
       "        text-align: right;\n",
       "    }\n",
       "</style>\n",
       "<table border=\"1\" class=\"dataframe\">\n",
       "  <thead>\n",
       "    <tr style=\"text-align: right;\">\n",
       "      <th></th>\n",
       "      <th>TransactionID</th>\n",
       "      <th>id_01</th>\n",
       "      <th>id_02</th>\n",
       "      <th>id_05</th>\n",
       "      <th>id_06</th>\n",
       "      <th>id_11</th>\n",
       "      <th>id_12</th>\n",
       "      <th>id_13</th>\n",
       "      <th>id_15</th>\n",
       "      <th>id_16</th>\n",
       "      <th>...</th>\n",
       "      <th>id_31</th>\n",
       "      <th>id_35</th>\n",
       "      <th>id_36</th>\n",
       "      <th>id_37</th>\n",
       "      <th>id_38</th>\n",
       "      <th>DeviceType</th>\n",
       "      <th>DeviceInfo</th>\n",
       "      <th>isFraud_x</th>\n",
       "      <th>isFraud_y</th>\n",
       "      <th>isFraud</th>\n",
       "    </tr>\n",
       "  </thead>\n",
       "  <tbody>\n",
       "    <tr>\n",
       "      <th>0</th>\n",
       "      <td>2987008</td>\n",
       "      <td>-5.0</td>\n",
       "      <td>98945.0</td>\n",
       "      <td>0.0</td>\n",
       "      <td>-5.0</td>\n",
       "      <td>100.0</td>\n",
       "      <td>NotFound</td>\n",
       "      <td>49.0</td>\n",
       "      <td>New</td>\n",
       "      <td>NotFound</td>\n",
       "      <td>...</td>\n",
       "      <td>mobile safari 11.0</td>\n",
       "      <td>T</td>\n",
       "      <td>F</td>\n",
       "      <td>F</td>\n",
       "      <td>T</td>\n",
       "      <td>mobile</td>\n",
       "      <td>iOS Device</td>\n",
       "      <td>0</td>\n",
       "      <td>0</td>\n",
       "      <td>0</td>\n",
       "    </tr>\n",
       "    <tr>\n",
       "      <th>1</th>\n",
       "      <td>2987010</td>\n",
       "      <td>-5.0</td>\n",
       "      <td>191631.0</td>\n",
       "      <td>0.0</td>\n",
       "      <td>0.0</td>\n",
       "      <td>100.0</td>\n",
       "      <td>NotFound</td>\n",
       "      <td>52.0</td>\n",
       "      <td>Found</td>\n",
       "      <td>Found</td>\n",
       "      <td>...</td>\n",
       "      <td>chrome 62.0</td>\n",
       "      <td>F</td>\n",
       "      <td>F</td>\n",
       "      <td>T</td>\n",
       "      <td>T</td>\n",
       "      <td>desktop</td>\n",
       "      <td>Windows</td>\n",
       "      <td>0</td>\n",
       "      <td>0</td>\n",
       "      <td>0</td>\n",
       "    </tr>\n",
       "    <tr>\n",
       "      <th>2</th>\n",
       "      <td>2987017</td>\n",
       "      <td>-5.0</td>\n",
       "      <td>61141.0</td>\n",
       "      <td>3.0</td>\n",
       "      <td>0.0</td>\n",
       "      <td>100.0</td>\n",
       "      <td>NotFound</td>\n",
       "      <td>52.0</td>\n",
       "      <td>Found</td>\n",
       "      <td>Found</td>\n",
       "      <td>...</td>\n",
       "      <td>chrome 62.0</td>\n",
       "      <td>T</td>\n",
       "      <td>F</td>\n",
       "      <td>T</td>\n",
       "      <td>T</td>\n",
       "      <td>desktop</td>\n",
       "      <td>Windows</td>\n",
       "      <td>0</td>\n",
       "      <td>0</td>\n",
       "      <td>0</td>\n",
       "    </tr>\n",
       "    <tr>\n",
       "      <th>3</th>\n",
       "      <td>2987040</td>\n",
       "      <td>-10.0</td>\n",
       "      <td>116098.0</td>\n",
       "      <td>0.0</td>\n",
       "      <td>0.0</td>\n",
       "      <td>100.0</td>\n",
       "      <td>NotFound</td>\n",
       "      <td>52.0</td>\n",
       "      <td>Found</td>\n",
       "      <td>Found</td>\n",
       "      <td>...</td>\n",
       "      <td>chrome 62.0</td>\n",
       "      <td>F</td>\n",
       "      <td>F</td>\n",
       "      <td>T</td>\n",
       "      <td>T</td>\n",
       "      <td>desktop</td>\n",
       "      <td>Windows</td>\n",
       "      <td>0</td>\n",
       "      <td>0</td>\n",
       "      <td>0</td>\n",
       "    </tr>\n",
       "    <tr>\n",
       "      <th>4</th>\n",
       "      <td>2987048</td>\n",
       "      <td>-5.0</td>\n",
       "      <td>257037.0</td>\n",
       "      <td>0.0</td>\n",
       "      <td>0.0</td>\n",
       "      <td>100.0</td>\n",
       "      <td>NotFound</td>\n",
       "      <td>52.0</td>\n",
       "      <td>New</td>\n",
       "      <td>NotFound</td>\n",
       "      <td>...</td>\n",
       "      <td>chrome 62.0</td>\n",
       "      <td>F</td>\n",
       "      <td>F</td>\n",
       "      <td>T</td>\n",
       "      <td>T</td>\n",
       "      <td>desktop</td>\n",
       "      <td>Windows</td>\n",
       "      <td>0</td>\n",
       "      <td>0</td>\n",
       "      <td>0</td>\n",
       "    </tr>\n",
       "  </tbody>\n",
       "</table>\n",
       "<p>5 rows × 25 columns</p>\n",
       "</div>"
      ],
      "text/plain": [
       "   TransactionID  id_01     id_02  id_05  id_06  id_11     id_12  id_13  \\\n",
       "0        2987008   -5.0   98945.0    0.0   -5.0  100.0  NotFound   49.0   \n",
       "1        2987010   -5.0  191631.0    0.0    0.0  100.0  NotFound   52.0   \n",
       "2        2987017   -5.0   61141.0    3.0    0.0  100.0  NotFound   52.0   \n",
       "3        2987040  -10.0  116098.0    0.0    0.0  100.0  NotFound   52.0   \n",
       "4        2987048   -5.0  257037.0    0.0    0.0  100.0  NotFound   52.0   \n",
       "\n",
       "   id_15     id_16  ...               id_31  id_35  id_36 id_37 id_38  \\\n",
       "0    New  NotFound  ...  mobile safari 11.0      T      F     F     T   \n",
       "1  Found     Found  ...         chrome 62.0      F      F     T     T   \n",
       "2  Found     Found  ...         chrome 62.0      T      F     T     T   \n",
       "3  Found     Found  ...         chrome 62.0      F      F     T     T   \n",
       "4    New  NotFound  ...         chrome 62.0      F      F     T     T   \n",
       "\n",
       "  DeviceType  DeviceInfo isFraud_x isFraud_y isFraud  \n",
       "0     mobile  iOS Device         0         0       0  \n",
       "1    desktop     Windows         0         0       0  \n",
       "2    desktop     Windows         0         0       0  \n",
       "3    desktop     Windows         0         0       0  \n",
       "4    desktop     Windows         0         0       0  \n",
       "\n",
       "[5 rows x 25 columns]"
      ]
     },
     "execution_count": 15,
     "metadata": {},
     "output_type": "execute_result"
    }
   ],
   "source": [
    "df_trans_cut = df_trans[['isFraud', 'TransactionID']]\n",
    "\n",
    "# Merge TRANSACTION and IDENTITY datasets on IDENTITY set to get 'isFraud fro the transaction set\n",
    "df_no_nans = pd.merge(df_no_nans,df_trans_cut,how='left', on='TransactionID')\n",
    "df_no_nans[:5]"
   ]
  },
  {
   "cell_type": "code",
   "execution_count": 16,
   "metadata": {},
   "outputs": [
    {
     "data": {
      "text/plain": [
       "array(['TransactionID', 'id_01', 'id_02', 'id_05', 'id_06', 'id_11',\n",
       "       'id_12', 'id_13', 'id_15', 'id_16', 'id_17', 'id_19', 'id_20',\n",
       "       'id_28', 'id_29', 'id_31', 'id_35', 'id_36', 'id_37', 'id_38',\n",
       "       'DeviceType', 'DeviceInfo', 'isFraud_x', 'isFraud_y', 'isFraud'],\n",
       "      dtype=object)"
      ]
     },
     "execution_count": 16,
     "metadata": {},
     "output_type": "execute_result"
    }
   ],
   "source": [
    "df_no_nans.columns.values"
   ]
  },
  {
   "cell_type": "code",
   "execution_count": 17,
   "metadata": {},
   "outputs": [
    {
     "data": {
      "text/plain": [
       "0    89973\n",
       "1     7641\n",
       "Name: isFraud, dtype: int64"
      ]
     },
     "execution_count": 17,
     "metadata": {},
     "output_type": "execute_result"
    }
   ],
   "source": [
    "df_no_nans['isFraud'].value_counts()"
   ]
  },
  {
   "cell_type": "code",
   "execution_count": 22,
   "metadata": {},
   "outputs": [
    {
     "name": "stdout",
     "output_type": "stream",
     "text": [
      "7641\n",
      "7641\n",
      "15282\n"
     ]
    }
   ],
   "source": [
    "from random import sample\n",
    "from sklearn import preprocessing\n",
    "\n",
    "le = preprocessing.LabelEncoder() #Encode labels with value between 0 and n_classes-1\n",
    "\n",
    "df_no_nans['id_15'] = le.fit_transform(df_no_nans['id_15'])\n",
    "df_no_nans['id_16'] = le.fit_transform(df_no_nans['id_16'])\n",
    "df_no_nans['id_12'] = le.fit_transform(df_no_nans['id_12'])\n",
    "df_no_nans['id_13'] = le.fit_transform(df_no_nans['id_13'])\n",
    "df_no_nans['id_17'] = le.fit_transform(df_no_nans['id_17'])\n",
    "df_no_nans['id_19'] = le.fit_transform(df_no_nans['id_19'])\n",
    "df_no_nans['id_20'] = le.fit_transform(df_no_nans['id_20'])\n",
    "df_no_nans['id_28'] = le.fit_transform(df_no_nans['id_28'])\n",
    "df_no_nans['id_29'] = le.fit_transform(df_no_nans['id_29'])\n",
    "df_no_nans['id_31'] = le.fit_transform(df_no_nans['id_31'])\n",
    "df_no_nans['id_35'] = le.fit_transform(df_no_nans['id_35'])\n",
    "df_no_nans['id_36'] = le.fit_transform(df_no_nans['id_36'])\n",
    "df_no_nans['id_37'] = le.fit_transform(df_no_nans['id_37'])\n",
    "df_no_nans['id_38'] = le.fit_transform(df_no_nans['id_38'])\n",
    "df_no_nans['DeviceType'] = le.fit_transform(df_no_nans['DeviceType'])\n",
    "df_no_nans['DeviceInfo'] = le.fit_transform(df_no_nans['DeviceInfo'])\n",
    "\n",
    "mask = df_no_nans['isFraud'] == 1\n",
    "ident_RAW_Fraud = df_no_nans[mask] #length: 7641\n",
    "ident_RAW_Non = df_no_nans[-mask]\n",
    "\n",
    "ident_RAW_NonFraud = ident_RAW_Non.sample(n = 7641)\n",
    "\n",
    "# Create balanced TRANSACTION training set with half known frauds and half known non-frauds\n",
    "df_train_balanced = pd.concat([ident_RAW_NonFraud, ident_RAW_Fraud])\n",
    "\n",
    "print (len(ident_RAW_Fraud))\n",
    "print (len(ident_RAW_NonFraud))\n",
    "print (len(df_train_balanced))\n",
    "\n",
    "#for variable in cat_list:\n",
    "#    le.fit(df_no_nans['{}'.format(variable)])\n",
    "#    df_no_nans['{}'.format(variable)] = le.transform()\n",
    "#le.fit(['chrome','chrome','safari','firefox'])\n",
    "#le.transform"
   ]
  },
  {
   "cell_type": "code",
   "execution_count": 24,
   "metadata": {},
   "outputs": [],
   "source": [
    "df_train_balanced.to_csv('cleaned train_identity.csv') #TODO: df_train_balanced is from the TRANSACTION dataset. rename to cleaned_train_both?"
   ]
  },
  {
   "cell_type": "code",
   "execution_count": 28,
   "metadata": {},
   "outputs": [],
   "source": [
    "#CREATE VALIDATION FROM TRAIN SET\n",
    "df_no_nans.to_csv('identity_test.csv') #TODO: df_no_nans comes from the MERGED train set. rename as cleaned_identity_train?"
   ]
  },
  {
   "cell_type": "code",
   "execution_count": 29,
   "metadata": {},
   "outputs": [
    {
     "data": {
      "text/plain": [
       "0        1541\n",
       "1        1431\n",
       "2        1431\n",
       "3        1431\n",
       "4        1431\n",
       "         ... \n",
       "97609     256\n",
       "97610      60\n",
       "97611     685\n",
       "97612     661\n",
       "97613     821\n",
       "Name: DeviceInfo, Length: 97614, dtype: int64"
      ]
     },
     "execution_count": 29,
     "metadata": {},
     "output_type": "execute_result"
    }
   ],
   "source": [
    "df_no_nans['DeviceInfo']"
   ]
  }
 ],
 "metadata": {
  "kernelspec": {
   "display_name": "Python 3",
   "language": "python",
   "name": "python3"
  },
  "language_info": {
   "codemirror_mode": {
    "name": "ipython",
    "version": 3
   },
   "file_extension": ".py",
   "mimetype": "text/x-python",
   "name": "python",
   "nbconvert_exporter": "python",
   "pygments_lexer": "ipython3",
   "version": "3.7.3"
  }
 },
 "nbformat": 4,
 "nbformat_minor": 4
}
