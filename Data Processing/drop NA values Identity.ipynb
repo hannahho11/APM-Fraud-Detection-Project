{
 "cells": [
  {
   "cell_type": "code",
   "execution_count": 2,
   "metadata": {},
   "outputs": [],
   "source": [
    "# Create a cleaned training IDENTITY set \n",
    "import pandas as pd\n",
    "df_transact_train = pd.read_csv('train_identity.csv')"
   ]
  },
  {
   "cell_type": "code",
   "execution_count": 3,
   "metadata": {},
   "outputs": [
    {
     "name": "stdout",
     "output_type": "stream",
     "text": [
      "columns with less than 1% nan\n",
      "TransactionID\n",
      "id_01\n",
      "id_02\n",
      "id_05\n",
      "id_06\n",
      "id_11\n",
      "id_12\n",
      "id_13\n",
      "id_15\n",
      "id_16\n",
      "id_17\n",
      "id_19\n",
      "id_20\n",
      "id_28\n",
      "id_29\n",
      "id_31\n",
      "id_35\n",
      "id_36\n",
      "id_37\n",
      "id_38\n",
      "DeviceType\n",
      "DeviceInfo\n"
     ]
    }
   ],
   "source": [
    "# Keep only columns with <1%  of null and na vaules\n",
    "low_null_columns = (df_transact_train.isnull().sum()/len(df_transact_train)*100) < 20\n",
    "\n",
    "low_nan_columns = []\n",
    "index = 0\n",
    "print(\"columns with less than 1% nan\")\n",
    "for column in low_null_columns:\n",
    "    if column == True:\n",
    "        print(low_null_columns.index[index])\n",
    "        low_nan_columns.append(low_null_columns.index[index])\n",
    "    index += 1"
   ]
  },
  {
   "cell_type": "code",
   "execution_count": 4,
   "metadata": {},
   "outputs": [],
   "source": [
    "df_low_nans = df_transact_train.loc[:, low_nan_columns]"
   ]
  },
  {
   "cell_type": "code",
   "execution_count": 5,
   "metadata": {},
   "outputs": [
    {
     "data": {
      "text/plain": [
       "(144233, 22)"
      ]
     },
     "execution_count": 5,
     "metadata": {},
     "output_type": "execute_result"
    }
   ],
   "source": [
    "df_low_nans.shape"
   ]
  },
  {
   "cell_type": "code",
   "execution_count": 6,
   "metadata": {},
   "outputs": [
    {
     "data": {
      "text/plain": [
       "(97614, 22)"
      ]
     },
     "execution_count": 6,
     "metadata": {},
     "output_type": "execute_result"
    }
   ],
   "source": [
    "df_low_nans.dropna().shape"
   ]
  },
  {
   "cell_type": "code",
   "execution_count": 7,
   "metadata": {},
   "outputs": [],
   "source": [
    "df_no_nans = df_low_nans.dropna()"
   ]
  },
  {
   "cell_type": "code",
   "execution_count": 12,
   "metadata": {},
   "outputs": [],
   "source": [
    "# Create cleaned TRANSACTION training dataset\n",
    "df_trans = pd.read_csv('train_transaction.csv')"
   ]
  },
  {
   "cell_type": "code",
   "execution_count": 15,
   "metadata": {},
   "outputs": [
    {
     "data": {
      "text/html": [
       "<div>\n",
       "<style scoped>\n",
       "    .dataframe tbody tr th:only-of-type {\n",
       "        vertical-align: middle;\n",
       "    }\n",
       "\n",
       "    .dataframe tbody tr th {\n",
       "        vertical-align: top;\n",
       "    }\n",
       "\n",
       "    .dataframe thead th {\n",
       "        text-align: right;\n",
       "    }\n",
       "</style>\n",
       "<table border=\"1\" class=\"dataframe\">\n",
       "  <thead>\n",
       "    <tr style=\"text-align: right;\">\n",
       "      <th></th>\n",
       "      <th>TransactionID</th>\n",
       "      <th>id_01</th>\n",
       "      <th>id_02</th>\n",
       "      <th>id_05</th>\n",
       "      <th>id_06</th>\n",
       "      <th>id_11</th>\n",
       "      <th>id_12</th>\n",
       "      <th>id_13</th>\n",
       "      <th>id_15</th>\n",
       "      <th>id_16</th>\n",
       "      <th>...</th>\n",
       "      <th>id_31</th>\n",
       "      <th>id_35</th>\n",
       "      <th>id_36</th>\n",
       "      <th>id_37</th>\n",
       "      <th>id_38</th>\n",
       "      <th>DeviceType</th>\n",
       "      <th>DeviceInfo</th>\n",
       "      <th>isFraud_x</th>\n",
       "      <th>isFraud_y</th>\n",
       "      <th>isFraud</th>\n",
       "    </tr>\n",
       "  </thead>\n",
       "  <tbody>\n",
       "    <tr>\n",
       "      <th>0</th>\n",
       "      <td>2987008</td>\n",
       "      <td>-5.0</td>\n",
       "      <td>98945.0</td>\n",
       "      <td>0.0</td>\n",
       "      <td>-5.0</td>\n",
       "      <td>100.0</td>\n",
       "      <td>NotFound</td>\n",
       "      <td>49.0</td>\n",
       "      <td>New</td>\n",
       "      <td>NotFound</td>\n",
       "      <td>...</td>\n",
       "      <td>mobile safari 11.0</td>\n",
       "      <td>T</td>\n",
       "      <td>F</td>\n",
       "      <td>F</td>\n",
       "      <td>T</td>\n",
       "      <td>mobile</td>\n",
       "      <td>iOS Device</td>\n",
       "      <td>0</td>\n",
       "      <td>0</td>\n",
       "      <td>0</td>\n",
       "    </tr>\n",
       "    <tr>\n",
       "      <th>1</th>\n",
       "      <td>2987010</td>\n",
       "      <td>-5.0</td>\n",
       "      <td>191631.0</td>\n",
       "      <td>0.0</td>\n",
       "      <td>0.0</td>\n",
       "      <td>100.0</td>\n",
       "      <td>NotFound</td>\n",
       "      <td>52.0</td>\n",
       "      <td>Found</td>\n",
       "      <td>Found</td>\n",
       "      <td>...</td>\n",
       "      <td>chrome 62.0</td>\n",
       "      <td>F</td>\n",
       "      <td>F</td>\n",
       "      <td>T</td>\n",
       "      <td>T</td>\n",
       "      <td>desktop</td>\n",
       "      <td>Windows</td>\n",
       "      <td>0</td>\n",
       "      <td>0</td>\n",
       "      <td>0</td>\n",
       "    </tr>\n",
       "    <tr>\n",
       "      <th>2</th>\n",
       "      <td>2987017</td>\n",
       "      <td>-5.0</td>\n",
       "      <td>61141.0</td>\n",
       "      <td>3.0</td>\n",
       "      <td>0.0</td>\n",
       "      <td>100.0</td>\n",
       "      <td>NotFound</td>\n",
       "      <td>52.0</td>\n",
       "      <td>Found</td>\n",
       "      <td>Found</td>\n",
       "      <td>...</td>\n",
       "      <td>chrome 62.0</td>\n",
       "      <td>T</td>\n",
       "      <td>F</td>\n",
       "      <td>T</td>\n",
       "      <td>T</td>\n",
       "      <td>desktop</td>\n",
       "      <td>Windows</td>\n",
       "      <td>0</td>\n",
       "      <td>0</td>\n",
       "      <td>0</td>\n",
       "    </tr>\n",
       "    <tr>\n",
       "      <th>3</th>\n",
       "      <td>2987040</td>\n",
       "      <td>-10.0</td>\n",
       "      <td>116098.0</td>\n",
       "      <td>0.0</td>\n",
       "      <td>0.0</td>\n",
       "      <td>100.0</td>\n",
       "      <td>NotFound</td>\n",
       "      <td>52.0</td>\n",
       "      <td>Found</td>\n",
       "      <td>Found</td>\n",
       "      <td>...</td>\n",
       "      <td>chrome 62.0</td>\n",
       "      <td>F</td>\n",
       "      <td>F</td>\n",
       "      <td>T</td>\n",
       "      <td>T</td>\n",
       "      <td>desktop</td>\n",
       "      <td>Windows</td>\n",
       "      <td>0</td>\n",
       "      <td>0</td>\n",
       "      <td>0</td>\n",
       "    </tr>\n",
       "    <tr>\n",
       "      <th>4</th>\n",
       "      <td>2987048</td>\n",
       "      <td>-5.0</td>\n",
       "      <td>257037.0</td>\n",
       "      <td>0.0</td>\n",
       "      <td>0.0</td>\n",
       "      <td>100.0</td>\n",
       "      <td>NotFound</td>\n",
       "      <td>52.0</td>\n",
       "      <td>New</td>\n",
       "      <td>NotFound</td>\n",
       "      <td>...</td>\n",
       "      <td>chrome 62.0</td>\n",
       "      <td>F</td>\n",
       "      <td>F</td>\n",
       "      <td>T</td>\n",
       "      <td>T</td>\n",
       "      <td>desktop</td>\n",
       "      <td>Windows</td>\n",
       "      <td>0</td>\n",
       "      <td>0</td>\n",
       "      <td>0</td>\n",
       "    </tr>\n",
       "  </tbody>\n",
       "</table>\n",
       "<p>5 rows × 25 columns</p>\n",
       "</div>"
      ],
      "text/plain": [
       "   TransactionID  id_01     id_02  id_05  id_06  id_11     id_12  id_13  \\\n",
       "0        2987008   -5.0   98945.0    0.0   -5.0  100.0  NotFound   49.0   \n",
       "1        2987010   -5.0  191631.0    0.0    0.0  100.0  NotFound   52.0   \n",
       "2        2987017   -5.0   61141.0    3.0    0.0  100.0  NotFound   52.0   \n",
       "3        2987040  -10.0  116098.0    0.0    0.0  100.0  NotFound   52.0   \n",
       "4        2987048   -5.0  257037.0    0.0    0.0  100.0  NotFound   52.0   \n",
       "\n",
       "   id_15     id_16  ...               id_31  id_35  id_36 id_37 id_38  \\\n",
       "0    New  NotFound  ...  mobile safari 11.0      T      F     F     T   \n",
       "1  Found     Found  ...         chrome 62.0      F      F     T     T   \n",
       "2  Found     Found  ...         chrome 62.0      T      F     T     T   \n",
       "3  Found     Found  ...         chrome 62.0      F      F     T     T   \n",
       "4    New  NotFound  ...         chrome 62.0      F      F     T     T   \n",
       "\n",
       "  DeviceType  DeviceInfo isFraud_x isFraud_y isFraud  \n",
       "0     mobile  iOS Device         0         0       0  \n",
       "1    desktop     Windows         0         0       0  \n",
       "2    desktop     Windows         0         0       0  \n",
       "3    desktop     Windows         0         0       0  \n",
       "4    desktop     Windows         0         0       0  \n",
       "\n",
       "[5 rows x 25 columns]"
      ]
     },
     "execution_count": 15,
     "metadata": {},
     "output_type": "execute_result"
    }
   ],
   "source": [
    "df_trans_cut = df_trans[['isFraud', 'TransactionID']]\n",
    "df_no_nans = pd.merge(df_no_nans,df_trans_cut,how='left', on='TransactionID')\n",
    "df_no_nans[:5]"
   ]
  },
  {
   "cell_type": "code",
   "execution_count": 16,
   "metadata": {},
   "outputs": [
    {
     "data": {
      "text/plain": [
       "array(['TransactionID', 'id_01', 'id_02', 'id_05', 'id_06', 'id_11',\n",
       "       'id_12', 'id_13', 'id_15', 'id_16', 'id_17', 'id_19', 'id_20',\n",
       "       'id_28', 'id_29', 'id_31', 'id_35', 'id_36', 'id_37', 'id_38',\n",
       "       'DeviceType', 'DeviceInfo', 'isFraud_x', 'isFraud_y', 'isFraud'],\n",
       "      dtype=object)"
      ]
     },
     "execution_count": 16,
     "metadata": {},
     "output_type": "execute_result"
    }
   ],
   "source": [
    "df_no_nans.columns.values"
   ]
  },
  {
   "cell_type": "code",
   "execution_count": 17,
   "metadata": {},
   "outputs": [
    {
     "data": {
      "text/plain": [
       "0    89973\n",
       "1     7641\n",
       "Name: isFraud, dtype: int64"
      ]
     },
     "execution_count": 17,
     "metadata": {},
     "output_type": "execute_result"
    }
   ],
   "source": [
    "df_no_nans['isFraud'].value_counts()"
   ]
  },
  {
   "cell_type": "code",
   "execution_count": 22,
   "metadata": {},
   "outputs": [
    {
     "name": "stdout",
     "output_type": "stream",
     "text": [
      "7641\n",
      "7641\n",
      "15282\n"
     ]
    }
   ],
   "source": [
    "from random import sample\n",
    "from sklearn import preprocessing\n",
    "\n",
    "le = preprocessing.LabelEncoder() #Encode labels with value between 0 and n_classes-1\n",
    "\n",
    "df_no_nans['id_15'] = le.fit_transform(df_no_nans['id_15'])\n",
    "df_no_nans['id_16'] = le.fit_transform(df_no_nans['id_16'])\n",
    "df_no_nans['id_12'] = le.fit_transform(df_no_nans['id_12'])\n",
    "df_no_nans['id_13'] = le.fit_transform(df_no_nans['id_13'])\n",
    "df_no_nans['id_17'] = le.fit_transform(df_no_nans['id_17'])\n",
    "df_no_nans['id_19'] = le.fit_transform(df_no_nans['id_19'])\n",
    "df_no_nans['id_20'] = le.fit_transform(df_no_nans['id_20'])\n",
    "df_no_nans['id_28'] = le.fit_transform(df_no_nans['id_28'])\n",
    "df_no_nans['id_29'] = le.fit_transform(df_no_nans['id_29'])\n",
    "df_no_nans['id_31'] = le.fit_transform(df_no_nans['id_31'])\n",
    "df_no_nans['id_35'] = le.fit_transform(df_no_nans['id_35'])\n",
    "df_no_nans['id_36'] = le.fit_transform(df_no_nans['id_36'])\n",
    "df_no_nans['id_37'] = le.fit_transform(df_no_nans['id_37'])\n",
    "df_no_nans['id_38'] = le.fit_transform(df_no_nans['id_38'])\n",
    "df_no_nans['DeviceType'] = le.fit_transform(df_no_nans['DeviceType'])\n",
    "df_no_nans['DeviceInfo'] = le.fit_transform(df_no_nans['DeviceInfo'])\n",
    "\n",
    "mask = df_no_nans['isFraud'] == 1\n",
    "\n",
    "ident_RAW_Fraud = df_no_nans[mask] #length: 7641\n",
    "ident_RAW_Non = df_no_nans[-mask]\n",
    "\n",
    "ident_RAW_NonFraud = ident_RAW_Non.sample(n = 7641)\n",
    "\n",
    "# Create balanced TRANSACTION training set with half known frauds and half known non-frauds\n",
    "df_train_balanced = pd.concat([ident_RAW_NonFraud, ident_RAW_Fraud])\n",
    "\n",
    "print (len(ident_RAW_Fraud))\n",
    "print (len(ident_RAW_NonFraud))\n",
    "print (len(df_train_balanced))\n",
    "\n",
    "#for variable in cat_list:\n",
    "#    le.fit(df_no_nans['{}'.format(variable)])\n",
    "#    df_no_nans['{}'.format(variable)] = le.transform()\n",
    "#le.fit(['chrome','chrome','safari','firefox'])\n",
    "#le.transform"
   ]
  },
  {
   "cell_type": "code",
   "execution_count": 28,
   "metadata": {},
   "outputs": [],
   "source": [
    "df_train_balanced.to_csv('cleaned train_identity.csv') #TODO: df_train_balanced is from the TRANSACTION dataset. rename to cleaned_train_transaction?"
   ]
  },
  {
   "cell_type": "code",
   "execution_count": 29,
   "metadata": {},
   "outputs": [],
   "source": [
    "df_no_nans.to_csv('identity_test.csv') #TODO: rename as cleaned_identity_test?"
   ]
  }
 ],
 "metadata": {
  "kernelspec": {
   "display_name": "Python 3",
   "language": "python",
   "name": "python3"
  },
  "language_info": {
   "codemirror_mode": {
    "name": "ipython",
    "version": 3
   },
   "file_extension": ".py",
   "mimetype": "text/x-python",
   "name": "python",
   "nbconvert_exporter": "python",
   "pygments_lexer": "ipython3",
   "version": "3.7.5"
  }
 },
 "nbformat": 4,
 "nbformat_minor": 4
}
