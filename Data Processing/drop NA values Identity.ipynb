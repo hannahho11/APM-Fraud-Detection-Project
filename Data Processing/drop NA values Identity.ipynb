{
 "cells": [
  {
   "cell_type": "code",
   "execution_count": 1,
   "metadata": {},
   "outputs": [],
   "source": [
    "import pandas as pd\n",
    "df_transact_train = pd.read_csv('train_identity.csv')"
   ]
  },
  {
   "cell_type": "code",
   "execution_count": 23,
   "metadata": {},
   "outputs": [
    {
     "name": "stdout",
     "output_type": "stream",
     "text": [
      "columns with less than 1% nan\n",
      "TransactionID\n",
      "id_01\n",
      "id_02\n",
      "id_05\n",
      "id_06\n",
      "id_11\n",
      "id_12\n",
      "id_13\n",
      "id_15\n",
      "id_16\n",
      "id_17\n",
      "id_19\n",
      "id_20\n",
      "id_28\n",
      "id_29\n",
      "id_31\n",
      "id_35\n",
      "id_36\n",
      "id_37\n",
      "id_38\n",
      "DeviceType\n",
      "DeviceInfo\n"
     ]
    }
   ],
   "source": [
    "low_null_columns = (df_transact_train.isnull().sum()/len(df_transact_train)*100) < 20\n",
    "\n",
    "low_nan_columns = []\n",
    "index = 0\n",
    "print(\"columns with less than 1% nan\")\n",
    "for column in low_null_columns:\n",
    "    if column == True:\n",
    "        print(low_null_columns.index[index])\n",
    "        low_nan_columns.append(low_null_columns.index[index])\n",
    "    index += 1"
   ]
  },
  {
   "cell_type": "code",
   "execution_count": 21,
   "metadata": {},
   "outputs": [],
   "source": [
    "df_low_nans = df_transact_train.loc[:, low_nan_columns]"
   ]
  },
  {
   "cell_type": "code",
   "execution_count": 22,
   "metadata": {},
   "outputs": [
    {
     "data": {
      "text/plain": [
       "(144233, 22)"
      ]
     },
     "execution_count": 22,
     "metadata": {},
     "output_type": "execute_result"
    }
   ],
   "source": [
    "df_low_nans.shape"
   ]
  },
  {
   "cell_type": "code",
   "execution_count": 25,
   "metadata": {},
   "outputs": [
    {
     "data": {
      "text/plain": [
       "(97614, 22)"
      ]
     },
     "execution_count": 25,
     "metadata": {},
     "output_type": "execute_result"
    }
   ],
   "source": [
    "df_low_nans.dropna().shape"
   ]
  },
  {
   "cell_type": "code",
   "execution_count": 26,
   "metadata": {},
   "outputs": [],
   "source": [
    "df_no_nans = df_low_nans.dropna()"
   ]
  },
  {
   "cell_type": "code",
   "execution_count": 27,
   "metadata": {},
   "outputs": [],
   "source": [
    "df_no_nans.to_csv('cleaned train_identity.csv')"
   ]
  }
 ],
 "metadata": {
  "kernelspec": {
   "display_name": "Python 3",
   "language": "python",
   "name": "python3"
  },
  "language_info": {
   "codemirror_mode": {
    "name": "ipython",
    "version": 3
   },
   "file_extension": ".py",
   "mimetype": "text/x-python",
   "name": "python",
   "nbconvert_exporter": "python",
   "pygments_lexer": "ipython3",
   "version": "3.7.3"
  }
 },
 "nbformat": 4,
 "nbformat_minor": 2
}
