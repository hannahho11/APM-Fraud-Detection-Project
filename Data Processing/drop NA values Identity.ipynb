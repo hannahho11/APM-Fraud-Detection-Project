{
 "cells": [
  {
   "cell_type": "code",
   "execution_count": 2,
   "metadata": {},
   "outputs": [],
   "source": [
    "# Create a cleaned training identity set \n",
    "import pandas as pd\n",
    "df_transact_train = pd.read_csv('train_identity.csv')"
   ]
  },
  {
   "cell_type": "code",
   "execution_count": 3,
   "metadata": {},
   "outputs": [
    {
     "name": "stdout",
     "output_type": "stream",
     "text": [
      "columns with less than 1% nan\n",
      "TransactionID\n",
      "id_01\n",
      "id_02\n",
      "id_05\n",
      "id_06\n",
      "id_11\n",
      "id_12\n",
      "id_13\n",
      "id_15\n",
      "id_16\n",
      "id_17\n",
      "id_19\n",
      "id_20\n",
      "id_28\n",
      "id_29\n",
      "id_31\n",
      "id_35\n",
      "id_36\n",
      "id_37\n",
      "id_38\n",
      "DeviceType\n",
      "DeviceInfo\n"
     ]
    }
   ],
   "source": [
    "# Keep only columns with <1%  of null and na vaules\n",
    "low_null_columns = (df_transact_train.isnull().sum()/len(df_transact_train)*100) < 20\n",
    "\n",
    "low_nan_columns = []\n",
    "index = 0\n",
    "print(\"columns with less than 1% nan\")\n",
    "for column in low_null_columns:\n",
    "    if column == True:\n",
    "        print(low_null_columns.index[index])\n",
    "        low_nan_columns.append(low_null_columns.index[index])\n",
    "    index += 1"
   ]
  },
  {
   "cell_type": "code",
   "execution_count": 4,
   "metadata": {},
   "outputs": [],
   "source": [
    "df_low_nans = df_transact_train.loc[:, low_nan_columns]"
   ]
  },
  {
   "cell_type": "code",
   "execution_count": 5,
   "metadata": {},
   "outputs": [
    {
     "data": {
      "text/plain": [
       "(144233, 22)"
      ]
     },
     "execution_count": 5,
     "metadata": {},
     "output_type": "execute_result"
    }
   ],
   "source": [
    "df_low_nans.shape"
   ]
  },
  {
   "cell_type": "code",
   "execution_count": 6,
   "metadata": {},
   "outputs": [
    {
     "data": {
      "text/plain": [
       "(97614, 22)"
      ]
     },
     "execution_count": 6,
     "metadata": {},
     "output_type": "execute_result"
    }
   ],
   "source": [
    "df_low_nans.dropna().shape"
   ]
  },
  {
   "cell_type": "code",
   "execution_count": 7,
   "metadata": {},
   "outputs": [],
   "source": [
    "df_no_nans = df_low_nans.dropna()"
   ]
  },
  {
   "cell_type": "code",
   "execution_count": null,
   "metadata": {},
   "outputs": [],
   "source": [
    "# Create cleaned transaction training dataset\n",
    "df_trans = pd.read_csv('train_transaction.csv')"
   ]
  },
  {
   "cell_type": "code",
   "execution_count": null,
   "metadata": {},
   "outputs": [],
   "source": [
    "df_trans_cut = df_trans[['isFraud', 'TransactionID']]\n",
    "df_no_nans = pd.merge(df_no_nans,df_trans_cut,how='left', on='TransactionID')\n",
    "df_no_nans[:5]"
   ]
  },
  {
   "cell_type": "code",
   "execution_count": null,
   "metadata": {},
   "outputs": [],
   "source": [
    "df_no_nans['isFraud'].value_counts()"
   ]
  },
  {
   "cell_type": "code",
   "execution_count": 27,
   "metadata": {},
   "outputs": [
    {
     "name": "stdout",
     "output_type": "stream",
     "text": [
      "7641\n",
      "7641\n",
      "15282\n"
     ]
    }
   ],
   "source": [
    "from random import sample\n",
    "from sklearn import preprocessing\n",
    "\n",
    "le = preprocessing.LabelEncoder()\n",
    "\n",
    "df_no_nans['id_15'] = le.fit_transform(df_no_nans['id_15'])\n",
    "df_no_nans['id_16'] = le.fit_transform(df_no_nans['id_16'])\n",
    "df_no_nans['id_12'] = le.fit_transform(df_no_nans['id_12'])\n",
    "df_no_nans['id_13'] = le.fit_transform(df_no_nans['id_13'])\n",
    "df_no_nans['id_17'] = le.fit_transform(df_no_nans['id_17'])\n",
    "df_no_nans['id_19'] = le.fit_transform(df_no_nans['id_19'])\n",
    "df_no_nans['id_20'] = le.fit_transform(df_no_nans['id_20'])\n",
    "df_no_nans['id_28'] = le.fit_transform(df_no_nans['id_28'])\n",
    "df_no_nans['id_29'] = le.fit_transform(df_no_nans['id_29'])\n",
    "df_no_nans['id_31'] = le.fit_transform(df_no_nans['id_31'])\n",
    "df_no_nans['id_35'] = le.fit_transform(df_no_nans['id_35'])\n",
    "df_no_nans['id_36'] = le.fit_transform(df_no_nans['id_36'])\n",
    "df_no_nans['id_37'] = le.fit_transform(df_no_nans['id_37'])\n",
    "df_no_nans['id_38'] = le.fit_transform(df_no_nans['id_38'])\n",
    "df_no_nans['DeviceType'] = le.fit_transform(df_no_nans['DeviceType'])\n",
    "df_no_nans['DeviceInfo'] = le.fit_transform(df_no_nans['DeviceInfo'])\n",
    "\n",
    "mask = df_no_nans['isFraud'] == 1\n",
    "\n",
    "ident_RAW_Fraud = df_no_nans[mask]\n",
    "ident_RAW_Non = df_no_nans[-mask]\n",
    "\n",
    "ident_RAW_NonFraud = ident_RAW_Non.sample(n = 7641)\n",
    "\n",
    "df_train_balanced = pd.concat([ident_RAW_NonFraud, ident_RAW_Fraud])\n",
    "\n",
    "print (len(ident_RAW_Fraud))\n",
    "print (len(ident_RAW_NonFraud))\n",
    "print (len(df_train_balanced))\n",
    "\n",
    "\n",
    "#for variable in cat_list:\n",
    "#    le.fit(df_no_nans['{}'.format(variable)])\n",
    "#    df_no_nans['{}'.format(variable)] = le.transform()\n",
    "#le.fit(['chrome','chrome','safari','firefox'])\n",
    "#le.transform"
   ]
  },
  {
   "cell_type": "code",
   "execution_count": 28,
   "metadata": {},
   "outputs": [],
   "source": [
    "df_train_balanced.to_csv('cleaned train_identity.csv')"
   ]
  },
  {
   "cell_type": "code",
   "execution_count": 29,
   "metadata": {},
   "outputs": [],
   "source": [
    "df_no_nans.to_csv('identity_test.csv')"
   ]
  }
 ],
 "metadata": {
  "kernelspec": {
   "display_name": "Python 3",
   "language": "python",
   "name": "python3"
  },
  "language_info": {
   "codemirror_mode": {
    "name": "ipython",
    "version": 3
   },
   "file_extension": ".py",
   "mimetype": "text/x-python",
   "name": "python",
   "nbconvert_exporter": "python",
   "pygments_lexer": "ipython3",
   "version": "3.7.5"
  }
 },
 "nbformat": 4,
 "nbformat_minor": 4
}
