{
 "cells": [
  {
   "cell_type": "code",
   "execution_count": 16,
   "metadata": {
    "scrolled": true
   },
   "outputs": [
    {
     "data": {
      "text/plain": [
       "(40788, 112)"
      ]
     },
     "execution_count": 16,
     "metadata": {},
     "output_type": "execute_result"
    }
   ],
   "source": [
    "import pandas as pd\n",
    "import numpy as np\n",
    "\n",
    "training = pd.read_csv('new train data.csv')\n",
    "# pd.set_option('display.max_columns', 150)\n",
    "# pd.set_option('display.max_rows', 150)\n",
    "\n",
    "# ProductCD: product code of each transaction; there are 5 product types\n",
    "training['ProductCD'].value_counts()"
   ]
  },
  {
   "cell_type": "code",
   "execution_count": 4,
   "metadata": {},
   "outputs": [
    {
     "data": {
      "text/plain": [
       "visa                26710\n",
       "mastercard          12944\n",
       "discover              609\n",
       "american express      525\n",
       "Name: card4, dtype: int64"
      ]
     },
     "execution_count": 4,
     "metadata": {},
     "output_type": "execute_result"
    }
   ],
   "source": [
    "# card4: brand of card; there are 4 brands\n",
    "training['card4'].value_counts()"
   ]
  },
  {
   "cell_type": "code",
   "execution_count": 5,
   "metadata": {},
   "outputs": [
    {
     "data": {
      "text/plain": [
       "(40785, 112)"
      ]
     },
     "execution_count": 5,
     "metadata": {},
     "output_type": "execute_result"
    }
   ],
   "source": [
    "# card6: type of card; we drop the 3 unique rows of 'debit or credit' and 'charge card'\n",
    "training['card6'].value_counts()\n",
    "mask = training['card6'] != 'debit or credit'\n",
    "training = training[mask]\n",
    "mask2 = training['card6'] != 'charge card'\n",
    "training = training[mask2]\n",
    "training.shape"
   ]
  },
  {
   "cell_type": "code",
   "execution_count": 6,
   "metadata": {},
   "outputs": [],
   "source": [
    "# create into category type\n",
    "training['card6'] = training['card6'].astype('category')\n",
    "training['card4'] = training['card4'].astype('category')\n",
    "training['ProductCD'] = training['ProductCD'].astype('category')\n",
    "\n",
    "# encode into numeric categories; we opt for dummy variables (One Hot Encoding)\n",
    "training_dummies = pd.get_dummies(training, columns=['card4', 'card6', 'ProductCD'])"
   ]
  },
  {
   "cell_type": "code",
   "execution_count": 40,
   "metadata": {},
   "outputs": [
    {
     "data": {
      "text/html": [
       "<div>\n",
       "<style scoped>\n",
       "    .dataframe tbody tr th:only-of-type {\n",
       "        vertical-align: middle;\n",
       "    }\n",
       "\n",
       "    .dataframe tbody tr th {\n",
       "        vertical-align: top;\n",
       "    }\n",
       "\n",
       "    .dataframe thead th {\n",
       "        text-align: right;\n",
       "    }\n",
       "</style>\n",
       "<table border=\"1\" class=\"dataframe\">\n",
       "  <thead>\n",
       "    <tr style=\"text-align: right;\">\n",
       "      <th></th>\n",
       "      <th>TransactionID</th>\n",
       "      <th>TransactionDT</th>\n",
       "      <th>TransactionAmt</th>\n",
       "      <th>card1</th>\n",
       "      <th>card3</th>\n",
       "      <th>card5</th>\n",
       "      <th>C1</th>\n",
       "      <th>C2</th>\n",
       "      <th>C3</th>\n",
       "      <th>C4</th>\n",
       "      <th>...</th>\n",
       "      <th>card4_mastercard</th>\n",
       "      <th>card4_visa</th>\n",
       "      <th>card6_credit</th>\n",
       "      <th>card6_debit</th>\n",
       "      <th>ProductCD_C</th>\n",
       "      <th>ProductCD_H</th>\n",
       "      <th>ProductCD_R</th>\n",
       "      <th>ProductCD_S</th>\n",
       "      <th>ProductCD_W</th>\n",
       "      <th>y</th>\n",
       "    </tr>\n",
       "  </thead>\n",
       "  <tbody>\n",
       "    <tr>\n",
       "      <td>0</td>\n",
       "      <td>3273604</td>\n",
       "      <td>0.443036</td>\n",
       "      <td>0.020744</td>\n",
       "      <td>0.488205</td>\n",
       "      <td>0.381679</td>\n",
       "      <td>0.919708</td>\n",
       "      <td>0.000214</td>\n",
       "      <td>0.000176</td>\n",
       "      <td>0.0</td>\n",
       "      <td>0.000000</td>\n",
       "      <td>...</td>\n",
       "      <td>0.0</td>\n",
       "      <td>1.0</td>\n",
       "      <td>0.0</td>\n",
       "      <td>1.0</td>\n",
       "      <td>0.0</td>\n",
       "      <td>0.0</td>\n",
       "      <td>0.0</td>\n",
       "      <td>0.0</td>\n",
       "      <td>1.0</td>\n",
       "      <td>0.0</td>\n",
       "    </tr>\n",
       "    <tr>\n",
       "      <td>1</td>\n",
       "      <td>2999170</td>\n",
       "      <td>0.016551</td>\n",
       "      <td>0.011435</td>\n",
       "      <td>0.443326</td>\n",
       "      <td>0.381679</td>\n",
       "      <td>0.919708</td>\n",
       "      <td>0.013456</td>\n",
       "      <td>0.007557</td>\n",
       "      <td>0.0</td>\n",
       "      <td>0.000000</td>\n",
       "      <td>...</td>\n",
       "      <td>0.0</td>\n",
       "      <td>1.0</td>\n",
       "      <td>0.0</td>\n",
       "      <td>1.0</td>\n",
       "      <td>0.0</td>\n",
       "      <td>0.0</td>\n",
       "      <td>0.0</td>\n",
       "      <td>0.0</td>\n",
       "      <td>1.0</td>\n",
       "      <td>0.0</td>\n",
       "    </tr>\n",
       "    <tr>\n",
       "      <td>2</td>\n",
       "      <td>3023872</td>\n",
       "      <td>0.053123</td>\n",
       "      <td>0.014002</td>\n",
       "      <td>0.918124</td>\n",
       "      <td>0.381679</td>\n",
       "      <td>0.919708</td>\n",
       "      <td>0.023708</td>\n",
       "      <td>0.016872</td>\n",
       "      <td>0.0</td>\n",
       "      <td>0.000000</td>\n",
       "      <td>...</td>\n",
       "      <td>0.0</td>\n",
       "      <td>1.0</td>\n",
       "      <td>0.0</td>\n",
       "      <td>1.0</td>\n",
       "      <td>0.0</td>\n",
       "      <td>0.0</td>\n",
       "      <td>0.0</td>\n",
       "      <td>0.0</td>\n",
       "      <td>1.0</td>\n",
       "      <td>0.0</td>\n",
       "    </tr>\n",
       "    <tr>\n",
       "      <td>3</td>\n",
       "      <td>3033043</td>\n",
       "      <td>0.064770</td>\n",
       "      <td>0.009580</td>\n",
       "      <td>0.663003</td>\n",
       "      <td>0.381679</td>\n",
       "      <td>0.905109</td>\n",
       "      <td>0.000214</td>\n",
       "      <td>0.000176</td>\n",
       "      <td>0.0</td>\n",
       "      <td>0.000444</td>\n",
       "      <td>...</td>\n",
       "      <td>1.0</td>\n",
       "      <td>0.0</td>\n",
       "      <td>0.0</td>\n",
       "      <td>1.0</td>\n",
       "      <td>0.0</td>\n",
       "      <td>1.0</td>\n",
       "      <td>0.0</td>\n",
       "      <td>0.0</td>\n",
       "      <td>0.0</td>\n",
       "      <td>0.0</td>\n",
       "    </tr>\n",
       "    <tr>\n",
       "      <td>4</td>\n",
       "      <td>3422561</td>\n",
       "      <td>0.695863</td>\n",
       "      <td>0.025946</td>\n",
       "      <td>0.488205</td>\n",
       "      <td>0.381679</td>\n",
       "      <td>0.919708</td>\n",
       "      <td>0.000641</td>\n",
       "      <td>0.000351</td>\n",
       "      <td>0.0</td>\n",
       "      <td>0.000000</td>\n",
       "      <td>...</td>\n",
       "      <td>0.0</td>\n",
       "      <td>1.0</td>\n",
       "      <td>0.0</td>\n",
       "      <td>1.0</td>\n",
       "      <td>0.0</td>\n",
       "      <td>0.0</td>\n",
       "      <td>0.0</td>\n",
       "      <td>0.0</td>\n",
       "      <td>1.0</td>\n",
       "      <td>0.0</td>\n",
       "    </tr>\n",
       "  </tbody>\n",
       "</table>\n",
       "<p>5 rows × 119 columns</p>\n",
       "</div>"
      ],
      "text/plain": [
       "   TransactionID  TransactionDT  TransactionAmt     card1     card3     card5  \\\n",
       "0        3273604       0.443036        0.020744  0.488205  0.381679  0.919708   \n",
       "1        2999170       0.016551        0.011435  0.443326  0.381679  0.919708   \n",
       "2        3023872       0.053123        0.014002  0.918124  0.381679  0.919708   \n",
       "3        3033043       0.064770        0.009580  0.663003  0.381679  0.905109   \n",
       "4        3422561       0.695863        0.025946  0.488205  0.381679  0.919708   \n",
       "\n",
       "         C1        C2   C3        C4  ...  card4_mastercard  card4_visa  \\\n",
       "0  0.000214  0.000176  0.0  0.000000  ...               0.0         1.0   \n",
       "1  0.013456  0.007557  0.0  0.000000  ...               0.0         1.0   \n",
       "2  0.023708  0.016872  0.0  0.000000  ...               0.0         1.0   \n",
       "3  0.000214  0.000176  0.0  0.000444  ...               1.0         0.0   \n",
       "4  0.000641  0.000351  0.0  0.000000  ...               0.0         1.0   \n",
       "\n",
       "   card6_credit  card6_debit  ProductCD_C  ProductCD_H  ProductCD_R  \\\n",
       "0           0.0          1.0          0.0          0.0          0.0   \n",
       "1           0.0          1.0          0.0          0.0          0.0   \n",
       "2           0.0          1.0          0.0          0.0          0.0   \n",
       "3           0.0          1.0          0.0          1.0          0.0   \n",
       "4           0.0          1.0          0.0          0.0          0.0   \n",
       "\n",
       "   ProductCD_S  ProductCD_W    y  \n",
       "0          0.0          1.0  0.0  \n",
       "1          0.0          1.0  0.0  \n",
       "2          0.0          1.0  0.0  \n",
       "3          0.0          0.0  0.0  \n",
       "4          0.0          1.0  0.0  \n",
       "\n",
       "[5 rows x 119 columns]"
      ]
     },
     "execution_count": 40,
     "metadata": {},
     "output_type": "execute_result"
    }
   ],
   "source": [
    "from sklearn import preprocessing\n",
    "\n",
    "# initialize scaler\n",
    "scaler = preprocessing.MinMaxScaler()\n",
    "\n",
    "# drop target column\n",
    "training_v1 = training_dummies.drop('TransactionID', axis=1)\n",
    "training_v2 = training_v1.drop('isFraud', axis=1)\n",
    "training_y = training_dummies['isFraud'].copy()\n",
    "training_id = training_dummies['TransactionID'].copy()\n",
    "\n",
    "# Fit the data with scaler (scales data)\n",
    "training_v2 = training_v2.set_index('Unnamed: 0')\n",
    "x = training_v2.values\n",
    "x_scaled = scaler.fit_transform(x)\n",
    "training_scaled = pd.DataFrame(x_scaled)\n",
    "training_scaled = training_scaled.set_axis([x for x in training_v2.columns], axis=1, inplace=False)\n",
    "training_scaled.insert(loc=0, column='TransactionID', value=training_id)\n",
    "training_scaled['y'] = training_y\n",
    "training_scaled = training_scaled.dropna()\n",
    "training_scaled['TransactionID'] = training_scaled['TransactionID'].astype(int)\n",
    "training_scaled.head()"
   ]
  },
  {
   "cell_type": "code",
   "execution_count": 41,
   "metadata": {},
   "outputs": [],
   "source": [
    "from sklearn.ensemble import RandomForestClassifier\n",
    "from sklearn.model_selection import train_test_split\n",
    "from sklearn.metrics import accuracy_score\n",
    "\n",
    "# initialize Random Forest model and split data into training and validation\n",
    "clf = RandomForestClassifier()\n",
    "y = training_scaled['y'].copy()\n",
    "training_scaled = training_scaled.drop(['y'], axis=1)\n",
    "x = training_scaled.drop(['TransactionID'], axis=1)\n",
    "x_train, x_val, y_train, y_val = train_test_split(x, y, random_state=42)"
   ]
  },
  {
   "cell_type": "code",
   "execution_count": 54,
   "metadata": {},
   "outputs": [],
   "source": [
    "from sklearn.model_selection import cross_val_score\n",
    "# fit our data to the model and cross-validate\n",
    "rffit = clf.fit(x_train, y_train)\n",
    "rf_acc_scores = cross_val_score(rffit, x_train, y_train, scoring='accuracy', cv=5)"
   ]
  },
  {
   "cell_type": "code",
   "execution_count": 49,
   "metadata": {},
   "outputs": [
    {
     "name": "stdout",
     "output_type": "stream",
     "text": [
      "mean: 0.8120055934449854\n",
      "std dev: 0.00781516638724177\n"
     ]
    }
   ],
   "source": [
    "# function to display mean accuracy and standard deviation of accuracy\n",
    "def display_scores(scores):\n",
    "    print('mean:', scores.mean())\n",
    "    print('std dev:', scores.std())\n",
    "display_scores(rf_acc_scores)"
   ]
  },
  {
   "cell_type": "code",
   "execution_count": 57,
   "metadata": {},
   "outputs": [
    {
     "ename": "NotFittedError",
     "evalue": "This RandomForestClassifier instance is not fitted yet. Call 'fit' with appropriate arguments before using this method.",
     "output_type": "error",
     "traceback": [
      "\u001b[1;31m---------------------------------------------------------------------------\u001b[0m",
      "\u001b[1;31mNotFittedError\u001b[0m                            Traceback (most recent call last)",
      "\u001b[1;32m<ipython-input-57-72c07a3d79f8>\u001b[0m in \u001b[0;36m<module>\u001b[1;34m\u001b[0m\n\u001b[0;32m      3\u001b[0m \u001b[1;32mfrom\u001b[0m \u001b[0msklearn\u001b[0m\u001b[1;33m.\u001b[0m\u001b[0mtree\u001b[0m \u001b[1;32mimport\u001b[0m \u001b[0mexport_graphviz\u001b[0m\u001b[1;33m\u001b[0m\u001b[1;33m\u001b[0m\u001b[0m\n\u001b[0;32m      4\u001b[0m \u001b[1;32mwith\u001b[0m \u001b[0mopen\u001b[0m\u001b[1;33m(\u001b[0m\u001b[1;34m'file_name.dot'\u001b[0m\u001b[1;33m,\u001b[0m \u001b[1;34m'w'\u001b[0m\u001b[1;33m)\u001b[0m \u001b[1;32mas\u001b[0m \u001b[0mf\u001b[0m\u001b[1;33m:\u001b[0m\u001b[1;33m\u001b[0m\u001b[1;33m\u001b[0m\u001b[0m\n\u001b[1;32m----> 5\u001b[1;33m     \u001b[0mf\u001b[0m \u001b[1;33m=\u001b[0m \u001b[0mexport_graphviz\u001b[0m\u001b[1;33m(\u001b[0m\u001b[0mclf\u001b[0m\u001b[1;33m,\u001b[0m \u001b[0mout_file\u001b[0m\u001b[1;33m=\u001b[0m\u001b[0mf\u001b[0m\u001b[1;33m)\u001b[0m\u001b[1;33m\u001b[0m\u001b[1;33m\u001b[0m\u001b[0m\n\u001b[0m",
      "\u001b[1;32m~\\Anaconda3\\envs\\p36workshop\\lib\\site-packages\\sklearn\\tree\\export.py\u001b[0m in \u001b[0;36mexport_graphviz\u001b[1;34m(decision_tree, out_file, max_depth, feature_names, class_names, label, filled, leaves_parallel, impurity, node_ids, proportion, rotate, rounded, special_characters, precision)\u001b[0m\n\u001b[0;32m    754\u001b[0m     \"\"\"\n\u001b[0;32m    755\u001b[0m \u001b[1;33m\u001b[0m\u001b[0m\n\u001b[1;32m--> 756\u001b[1;33m     \u001b[0mcheck_is_fitted\u001b[0m\u001b[1;33m(\u001b[0m\u001b[0mdecision_tree\u001b[0m\u001b[1;33m,\u001b[0m \u001b[1;34m'tree_'\u001b[0m\u001b[1;33m)\u001b[0m\u001b[1;33m\u001b[0m\u001b[1;33m\u001b[0m\u001b[0m\n\u001b[0m\u001b[0;32m    757\u001b[0m     \u001b[0mown_file\u001b[0m \u001b[1;33m=\u001b[0m \u001b[1;32mFalse\u001b[0m\u001b[1;33m\u001b[0m\u001b[1;33m\u001b[0m\u001b[0m\n\u001b[0;32m    758\u001b[0m     \u001b[0mreturn_string\u001b[0m \u001b[1;33m=\u001b[0m \u001b[1;32mFalse\u001b[0m\u001b[1;33m\u001b[0m\u001b[1;33m\u001b[0m\u001b[0m\n",
      "\u001b[1;32m~\\Anaconda3\\envs\\p36workshop\\lib\\site-packages\\sklearn\\utils\\validation.py\u001b[0m in \u001b[0;36mcheck_is_fitted\u001b[1;34m(estimator, attributes, msg, all_or_any)\u001b[0m\n\u001b[0;32m    912\u001b[0m \u001b[1;33m\u001b[0m\u001b[0m\n\u001b[0;32m    913\u001b[0m     \u001b[1;32mif\u001b[0m \u001b[1;32mnot\u001b[0m \u001b[0mall_or_any\u001b[0m\u001b[1;33m(\u001b[0m\u001b[1;33m[\u001b[0m\u001b[0mhasattr\u001b[0m\u001b[1;33m(\u001b[0m\u001b[0mestimator\u001b[0m\u001b[1;33m,\u001b[0m \u001b[0mattr\u001b[0m\u001b[1;33m)\u001b[0m \u001b[1;32mfor\u001b[0m \u001b[0mattr\u001b[0m \u001b[1;32min\u001b[0m \u001b[0mattributes\u001b[0m\u001b[1;33m]\u001b[0m\u001b[1;33m)\u001b[0m\u001b[1;33m:\u001b[0m\u001b[1;33m\u001b[0m\u001b[1;33m\u001b[0m\u001b[0m\n\u001b[1;32m--> 914\u001b[1;33m         \u001b[1;32mraise\u001b[0m \u001b[0mNotFittedError\u001b[0m\u001b[1;33m(\u001b[0m\u001b[0mmsg\u001b[0m \u001b[1;33m%\u001b[0m \u001b[1;33m{\u001b[0m\u001b[1;34m'name'\u001b[0m\u001b[1;33m:\u001b[0m \u001b[0mtype\u001b[0m\u001b[1;33m(\u001b[0m\u001b[0mestimator\u001b[0m\u001b[1;33m)\u001b[0m\u001b[1;33m.\u001b[0m\u001b[0m__name__\u001b[0m\u001b[1;33m}\u001b[0m\u001b[1;33m)\u001b[0m\u001b[1;33m\u001b[0m\u001b[1;33m\u001b[0m\u001b[0m\n\u001b[0m\u001b[0;32m    915\u001b[0m \u001b[1;33m\u001b[0m\u001b[0m\n\u001b[0;32m    916\u001b[0m \u001b[1;33m\u001b[0m\u001b[0m\n",
      "\u001b[1;31mNotFittedError\u001b[0m: This RandomForestClassifier instance is not fitted yet. Call 'fit' with appropriate arguments before using this method."
     ]
    }
   ],
   "source": [
    "# visualize the tree\n",
    "clf.fit(x_train, y_train)\n",
    "from sklearn.tree import export_graphviz\n",
    "with open('file_name.dot', 'w') as f:\n",
    "    f = export_graphviz(clf, out_file=f)"
   ]
  }
 ],
 "metadata": {
  "kernelspec": {
   "display_name": "p36workshop",
   "language": "python",
   "name": "p36workshop"
  },
  "language_info": {
   "codemirror_mode": {
    "name": "ipython",
    "version": 3
   },
   "file_extension": ".py",
   "mimetype": "text/x-python",
   "name": "python",
   "nbconvert_exporter": "python",
   "pygments_lexer": "ipython3",
   "version": "3.6.9"
  }
 },
 "nbformat": 4,
 "nbformat_minor": 2
}
