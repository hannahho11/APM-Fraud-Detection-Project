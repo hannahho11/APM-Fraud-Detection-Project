{
 "cells": [
  {
   "cell_type": "code",
   "execution_count": 16,
   "metadata": {
    "scrolled": true
   },
   "outputs": [
    {
     "data": {
      "text/plain": [
       "(40788, 112)"
      ]
     },
     "execution_count": 16,
     "metadata": {},
     "output_type": "execute_result"
    }
   ],
   "source": [
    "import pandas as pd\n",
    "import numpy as np\n",
    "\n",
    "training = pd.read_csv('new train data.csv')\n",
    "# pd.set_option('display.max_columns', 150)\n",
    "# pd.set_option('display.max_rows', 150)\n",
    "\n",
    "# ProductCD: product code of each transaction; there are 5 product types\n",
    "training['ProductCD'].value_counts()"
   ]
  },
  {
   "cell_type": "code",
   "execution_count": 4,
   "metadata": {},
   "outputs": [
    {
     "data": {
      "text/plain": [
       "visa                26710\n",
       "mastercard          12944\n",
       "discover              609\n",
       "american express      525\n",
       "Name: card4, dtype: int64"
      ]
     },
     "execution_count": 4,
     "metadata": {},
     "output_type": "execute_result"
    }
   ],
   "source": [
    "# card4: brand of card; there are 4 brands\n",
    "training['card4'].value_counts()"
   ]
  },
  {
   "cell_type": "code",
   "execution_count": 5,
   "metadata": {},
   "outputs": [
    {
     "data": {
      "text/plain": [
       "(40785, 112)"
      ]
     },
     "execution_count": 5,
     "metadata": {},
     "output_type": "execute_result"
    }
   ],
   "source": [
    "# card6: type of card; we drop the 3 unique rows of 'debit or credit' and 'charge card'\n",
    "training['card6'].value_counts()\n",
    "mask = training['card6'] != 'debit or credit'\n",
    "training = training[mask]\n",
    "mask2 = training['card6'] != 'charge card'\n",
    "training = training[mask2]\n",
    "training.shape"
   ]
  },
  {
   "cell_type": "code",
   "execution_count": 6,
   "metadata": {},
   "outputs": [],
   "source": [
    "# create into category type\n",
    "training['card6'] = training['card6'].astype('category')\n",
    "training['card4'] = training['card4'].astype('category')\n",
    "training['ProductCD'] = training['ProductCD'].astype('category')\n",
    "\n",
    "# encode into numeric categories; we opt for dummy variables (One Hot Encoding)\n",
    "training_dummies = pd.get_dummies(training, columns=['card4', 'card6', 'ProductCD'])"
   ]
  },
  {
   "cell_type": "code",
   "execution_count": 40,
   "metadata": {},
   "outputs": [
    {
     "data": {
      "text/html": [
       "<div>\n",
       "<style scoped>\n",
       "    .dataframe tbody tr th:only-of-type {\n",
       "        vertical-align: middle;\n",
       "    }\n",
       "\n",
       "    .dataframe tbody tr th {\n",
       "        vertical-align: top;\n",
       "    }\n",
       "\n",
       "    .dataframe thead th {\n",
       "        text-align: right;\n",
       "    }\n",
       "</style>\n",
       "<table border=\"1\" class=\"dataframe\">\n",
       "  <thead>\n",
       "    <tr style=\"text-align: right;\">\n",
       "      <th></th>\n",
       "      <th>TransactionID</th>\n",
       "      <th>TransactionDT</th>\n",
       "      <th>TransactionAmt</th>\n",
       "      <th>card1</th>\n",
       "      <th>card3</th>\n",
       "      <th>card5</th>\n",
       "      <th>C1</th>\n",
       "      <th>C2</th>\n",
       "      <th>C3</th>\n",
       "      <th>C4</th>\n",
       "      <th>...</th>\n",
       "      <th>card4_mastercard</th>\n",
       "      <th>card4_visa</th>\n",
       "      <th>card6_credit</th>\n",
       "      <th>card6_debit</th>\n",
       "      <th>ProductCD_C</th>\n",
       "      <th>ProductCD_H</th>\n",
       "      <th>ProductCD_R</th>\n",
       "      <th>ProductCD_S</th>\n",
       "      <th>ProductCD_W</th>\n",
       "      <th>y</th>\n",
       "    </tr>\n",
       "  </thead>\n",
       "  <tbody>\n",
       "    <tr>\n",
       "      <td>0</td>\n",
       "      <td>3273604</td>\n",
       "      <td>0.443036</td>\n",
       "      <td>0.020744</td>\n",
       "      <td>0.488205</td>\n",
       "      <td>0.381679</td>\n",
       "      <td>0.919708</td>\n",
       "      <td>0.000214</td>\n",
       "      <td>0.000176</td>\n",
       "      <td>0.0</td>\n",
       "      <td>0.000000</td>\n",
       "      <td>...</td>\n",
       "      <td>0.0</td>\n",
       "      <td>1.0</td>\n",
       "      <td>0.0</td>\n",
       "      <td>1.0</td>\n",
       "      <td>0.0</td>\n",
       "      <td>0.0</td>\n",
       "      <td>0.0</td>\n",
       "      <td>0.0</td>\n",
       "      <td>1.0</td>\n",
       "      <td>0.0</td>\n",
       "    </tr>\n",
       "    <tr>\n",
       "      <td>1</td>\n",
       "      <td>2999170</td>\n",
       "      <td>0.016551</td>\n",
       "      <td>0.011435</td>\n",
       "      <td>0.443326</td>\n",
       "      <td>0.381679</td>\n",
       "      <td>0.919708</td>\n",
       "      <td>0.013456</td>\n",
       "      <td>0.007557</td>\n",
       "      <td>0.0</td>\n",
       "      <td>0.000000</td>\n",
       "      <td>...</td>\n",
       "      <td>0.0</td>\n",
       "      <td>1.0</td>\n",
       "      <td>0.0</td>\n",
       "      <td>1.0</td>\n",
       "      <td>0.0</td>\n",
       "      <td>0.0</td>\n",
       "      <td>0.0</td>\n",
       "      <td>0.0</td>\n",
       "      <td>1.0</td>\n",
       "      <td>0.0</td>\n",
       "    </tr>\n",
       "    <tr>\n",
       "      <td>2</td>\n",
       "      <td>3023872</td>\n",
       "      <td>0.053123</td>\n",
       "      <td>0.014002</td>\n",
       "      <td>0.918124</td>\n",
       "      <td>0.381679</td>\n",
       "      <td>0.919708</td>\n",
       "      <td>0.023708</td>\n",
       "      <td>0.016872</td>\n",
       "      <td>0.0</td>\n",
       "      <td>0.000000</td>\n",
       "      <td>...</td>\n",
       "      <td>0.0</td>\n",
       "      <td>1.0</td>\n",
       "      <td>0.0</td>\n",
       "      <td>1.0</td>\n",
       "      <td>0.0</td>\n",
       "      <td>0.0</td>\n",
       "      <td>0.0</td>\n",
       "      <td>0.0</td>\n",
       "      <td>1.0</td>\n",
       "      <td>0.0</td>\n",
       "    </tr>\n",
       "    <tr>\n",
       "      <td>3</td>\n",
       "      <td>3033043</td>\n",
       "      <td>0.064770</td>\n",
       "      <td>0.009580</td>\n",
       "      <td>0.663003</td>\n",
       "      <td>0.381679</td>\n",
       "      <td>0.905109</td>\n",
       "      <td>0.000214</td>\n",
       "      <td>0.000176</td>\n",
       "      <td>0.0</td>\n",
       "      <td>0.000444</td>\n",
       "      <td>...</td>\n",
       "      <td>1.0</td>\n",
       "      <td>0.0</td>\n",
       "      <td>0.0</td>\n",
       "      <td>1.0</td>\n",
       "      <td>0.0</td>\n",
       "      <td>1.0</td>\n",
       "      <td>0.0</td>\n",
       "      <td>0.0</td>\n",
       "      <td>0.0</td>\n",
       "      <td>0.0</td>\n",
       "    </tr>\n",
       "    <tr>\n",
       "      <td>4</td>\n",
       "      <td>3422561</td>\n",
       "      <td>0.695863</td>\n",
       "      <td>0.025946</td>\n",
       "      <td>0.488205</td>\n",
       "      <td>0.381679</td>\n",
       "      <td>0.919708</td>\n",
       "      <td>0.000641</td>\n",
       "      <td>0.000351</td>\n",
       "      <td>0.0</td>\n",
       "      <td>0.000000</td>\n",
       "      <td>...</td>\n",
       "      <td>0.0</td>\n",
       "      <td>1.0</td>\n",
       "      <td>0.0</td>\n",
       "      <td>1.0</td>\n",
       "      <td>0.0</td>\n",
       "      <td>0.0</td>\n",
       "      <td>0.0</td>\n",
       "      <td>0.0</td>\n",
       "      <td>1.0</td>\n",
       "      <td>0.0</td>\n",
       "    </tr>\n",
       "  </tbody>\n",
       "</table>\n",
       "<p>5 rows × 119 columns</p>\n",
       "</div>"
      ],
      "text/plain": [
       "   TransactionID  TransactionDT  TransactionAmt     card1     card3     card5  \\\n",
       "0        3273604       0.443036        0.020744  0.488205  0.381679  0.919708   \n",
       "1        2999170       0.016551        0.011435  0.443326  0.381679  0.919708   \n",
       "2        3023872       0.053123        0.014002  0.918124  0.381679  0.919708   \n",
       "3        3033043       0.064770        0.009580  0.663003  0.381679  0.905109   \n",
       "4        3422561       0.695863        0.025946  0.488205  0.381679  0.919708   \n",
       "\n",
       "         C1        C2   C3        C4  ...  card4_mastercard  card4_visa  \\\n",
       "0  0.000214  0.000176  0.0  0.000000  ...               0.0         1.0   \n",
       "1  0.013456  0.007557  0.0  0.000000  ...               0.0         1.0   \n",
       "2  0.023708  0.016872  0.0  0.000000  ...               0.0         1.0   \n",
       "3  0.000214  0.000176  0.0  0.000444  ...               1.0         0.0   \n",
       "4  0.000641  0.000351  0.0  0.000000  ...               0.0         1.0   \n",
       "\n",
       "   card6_credit  card6_debit  ProductCD_C  ProductCD_H  ProductCD_R  \\\n",
       "0           0.0          1.0          0.0          0.0          0.0   \n",
       "1           0.0          1.0          0.0          0.0          0.0   \n",
       "2           0.0          1.0          0.0          0.0          0.0   \n",
       "3           0.0          1.0          0.0          1.0          0.0   \n",
       "4           0.0          1.0          0.0          0.0          0.0   \n",
       "\n",
       "   ProductCD_S  ProductCD_W    y  \n",
       "0          0.0          1.0  0.0  \n",
       "1          0.0          1.0  0.0  \n",
       "2          0.0          1.0  0.0  \n",
       "3          0.0          0.0  0.0  \n",
       "4          0.0          1.0  0.0  \n",
       "\n",
       "[5 rows x 119 columns]"
      ]
     },
     "execution_count": 40,
     "metadata": {},
     "output_type": "execute_result"
    }
   ],
   "source": [
    "from sklearn import preprocessing\n",
    "\n",
    "# initialize scaler\n",
    "scaler = preprocessing.MinMaxScaler()\n",
    "\n",
    "# drop target column\n",
    "training_v1 = training_dummies.drop('TransactionID', axis=1)\n",
    "training_v2 = training_v1.drop('isFraud', axis=1)\n",
    "training_y = training_dummies['isFraud'].copy()\n",
    "training_id = training_dummies['TransactionID'].copy()\n",
    "\n",
    "# Fit the data with scaler (scales data)\n",
    "training_v2 = training_v2.set_index('Unnamed: 0')\n",
    "x = training_v2.values\n",
    "x_scaled = scaler.fit_transform(x)\n",
    "training_scaled = pd.DataFrame(x_scaled)\n",
    "training_scaled = training_scaled.set_axis([x for x in training_v2.columns], axis=1, inplace=False)\n",
    "training_scaled.insert(loc=0, column='TransactionID', value=training_id)\n",
    "training_scaled['y'] = training_y\n",
    "training_scaled = training_scaled.dropna()\n",
    "training_scaled['TransactionID'] = training_scaled['TransactionID'].astype(int)\n",
    "training_scaled.head()"
   ]
  },
  {
   "cell_type": "code",
   "execution_count": 41,
   "metadata": {},
   "outputs": [],
   "source": [
    "from sklearn.ensemble import RandomForestClassifier\n",
    "from sklearn.model_selection import train_test_split\n",
    "from sklearn.metrics import accuracy_score\n",
    "\n",
    "# initialize Random Forest model and split data into training and validation\n",
    "clf = RandomForestClassifier()\n",
    "y = training_scaled['y'].copy()\n",
    "training_scaled = training_scaled.drop(['y'], axis=1)\n",
    "x = training_scaled.drop(['TransactionID'], axis=1)\n",
    "x_train, x_val, y_train, y_val = train_test_split(x, y, random_state=42)"
   ]
  },
  {
   "cell_type": "code",
   "execution_count": 54,
   "metadata": {},
   "outputs": [],
   "source": [
    "from sklearn.model_selection import cross_val_score\n",
    "# fit our data to the model and cross-validate for accuracy\n",
    "rffit = clf.fit(x_train, y_train)\n",
    "rf_acc_scores = cross_val_score(rffit, x_train, y_train, scoring='accuracy', cv=5)"
   ]
  },
  {
   "cell_type": "code",
   "execution_count": 49,
   "metadata": {},
   "outputs": [
    {
     "name": "stdout",
     "output_type": "stream",
     "text": [
      "mean: 0.8120055934449854\n",
      "std dev: 0.00781516638724177\n"
     ]
    }
   ],
   "source": [
    "# function to display mean accuracy and standard deviation of accuracy\n",
    "def display_scores(scores):\n",
    "    print('mean:', scores.mean())\n",
    "    print('std dev:', scores.std())\n",
    "display_scores(rf_acc_scores)"
   ]
  },
  {
   "cell_type": "code",
   "execution_count": 63,
   "metadata": {},
   "outputs": [
    {
     "name": "stdout",
     "output_type": "stream",
     "text": [
      "Fitting 3 folds for each of 16 candidates, totalling 48 fits\n"
     ]
    },
    {
     "name": "stderr",
     "output_type": "stream",
     "text": [
      "[Parallel(n_jobs=-1)]: Using backend LokyBackend with 8 concurrent workers.\n",
      "[Parallel(n_jobs=-1)]: Done  16 tasks      | elapsed:   53.9s\n",
      "[Parallel(n_jobs=-1)]: Done  48 out of  48 | elapsed:  3.0min finished\n"
     ]
    },
    {
     "name": "stdout",
     "output_type": "stream",
     "text": [
      "Wall time: 3min 13s\n"
     ]
    },
    {
     "data": {
      "text/plain": [
       "{'max_depth': 30, 'min_samples_split': 7, 'n_estimators': 200}"
      ]
     },
     "execution_count": 63,
     "metadata": {},
     "output_type": "execute_result"
    }
   ],
   "source": [
    "%%time\n",
    "# K-Fold CV to optimize tuning parameters\n",
    "from sklearn.model_selection import GridSearchCV\n",
    "param_grid = [{'max_depth': [10, 20, 30, 40],\n",
    " 'min_samples_split': [5, 7],\n",
    " 'n_estimators': [200, 400]}]\n",
    "\n",
    "grid_search = GridSearchCV(clf, param_grid, cv=3, n_jobs=-1, verbose=3)\n",
    "\n",
    "grid_search.fit(x_train, y_train)\n",
    "grid_search.best_params_"
   ]
  },
  {
   "cell_type": "code",
   "execution_count": 64,
   "metadata": {},
   "outputs": [
    {
     "data": {
      "text/plain": [
       "RandomForestClassifier(bootstrap=True, class_weight=None, criterion='gini',\n",
       "                       max_depth=30, max_features='auto', max_leaf_nodes=None,\n",
       "                       min_impurity_decrease=0.0, min_impurity_split=None,\n",
       "                       min_samples_leaf=1, min_samples_split=7,\n",
       "                       min_weight_fraction_leaf=0.0, n_estimators=200,\n",
       "                       n_jobs=None, oob_score=False, random_state=None,\n",
       "                       verbose=0, warm_start=False)"
      ]
     },
     "execution_count": 64,
     "metadata": {},
     "output_type": "execute_result"
    }
   ],
   "source": [
    "clf = RandomForestClassifier(max_depth=30, min_samples_split=7, n_estimators=200)\n",
    "clf.fit(x_train, y_train)"
   ]
  },
  {
   "cell_type": "code",
   "execution_count": 67,
   "metadata": {},
   "outputs": [
    {
     "data": {
      "text/plain": [
       "0.8323852491173009"
      ]
     },
     "execution_count": 67,
     "metadata": {},
     "output_type": "execute_result"
    }
   ],
   "source": [
    "y_pred = clf.predict(x_val)\n",
    "accuracy_score(y_val, y_pred)"
   ]
  },
  {
   "cell_type": "code",
   "execution_count": 65,
   "metadata": {},
   "outputs": [
    {
     "data": {
      "text/plain": [
       "array([[12995,  2315],\n",
       "       [ 3069, 12207]], dtype=int64)"
      ]
     },
     "execution_count": 65,
     "metadata": {},
     "output_type": "execute_result"
    }
   ],
   "source": [
    "from sklearn.metrics import confusion_matrix\n",
    "from sklearn.model_selection import cross_val_predict\n",
    "\n",
    "y_train_pred = cross_val_predict(clf, x_train, y_train, cv=3)\n",
    "confusion_matrix(y_train, y_train_pred)"
   ]
  },
  {
   "cell_type": "code",
   "execution_count": 68,
   "metadata": {},
   "outputs": [
    {
     "name": "stdout",
     "output_type": "stream",
     "text": [
      "0.8405866960473763\n"
     ]
    },
    {
     "data": {
      "text/plain": [
       "0.799096622152396"
      ]
     },
     "execution_count": 68,
     "metadata": {},
     "output_type": "execute_result"
    }
   ],
   "source": [
    "from sklearn.metrics import precision_score, recall_score\n",
    "print(precision_score(y_train, y_train_pred))\n",
    "recall_score(y_train, y_train_pred)"
   ]
  },
  {
   "cell_type": "code",
   "execution_count": 73,
   "metadata": {},
   "outputs": [
    {
     "data": {
      "image/png": "[encoded data removed]",
      "text/plain": [
       "<Figure size 432x288 with 1 Axes>"
      ]
     },
     "metadata": {
      "needs_background": "light"
     },
     "output_type": "display_data"
    }
   ],
   "source": [
    "from sklearn.metrics import roc_curve\n",
    "import matplotlib.pyplot as plt\n",
    "\n",
    "import sklearn.metrics as metrics\n",
    "# calculate the fpr and tpr for all thresholds of the classification\n",
    "probs = clf.predict_proba(x_val)\n",
    "preds = probs[:,1]\n",
    "fpr, tpr, threshold = metrics.roc_curve(y_val, preds)\n",
    "roc_auc = metrics.auc(fpr, tpr)\n",
    "\n",
    "# method I: plt\n",
    "import matplotlib.pyplot as plt\n",
    "plt.title('ROC Curve')\n",
    "plt.plot(fpr, tpr, 'b', label = 'AUC = %0.2f' % roc_auc)\n",
    "plt.legend(loc = 'lower right')\n",
    "plt.plot([0, 1], [0, 1],'r--')\n",
    "plt.xlim([0, 1])\n",
    "plt.ylim([0, 1])\n",
    "plt.ylabel('True Positive Rate')\n",
    "plt.xlabel('False Positive Rate')\n",
    "plt.show()"
   ]
  }
 ],
 "metadata": {
  "kernelspec": {
   "display_name": "p36workshop",
   "language": "python",
   "name": "p36workshop"
  },
  "language_info": {
   "codemirror_mode": {
    "name": "ipython",
    "version": 3
   },
   "file_extension": ".py",
   "mimetype": "text/x-python",
   "name": "python",
   "nbconvert_exporter": "python",
   "pygments_lexer": "ipython3",
   "version": "3.6.9"
  }
 },
 "nbformat": 4,
 "nbformat_minor": 2
}
