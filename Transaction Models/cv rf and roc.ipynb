{
 "cells": [
  {
   "cell_type": "code",
   "execution_count": 1,
   "metadata": {
    "scrolled": true
   },
   "outputs": [
    {
     "data": {
      "text/plain": [
       "W    24264\n",
       "C    10054\n",
       "R     2719\n",
       "H     2651\n",
       "S     1100\n",
       "Name: ProductCD, dtype: int64"
      ]
     },
     "execution_count": 1,
     "metadata": {},
     "output_type": "execute_result"
    }
   ],
   "source": [
    "import pandas as pd\n",
    "import numpy as np\n",
    "\n",
    "training = pd.read_csv('new train data.csv')\n",
    "# pd.set_option('display.max_columns', 150)\n",
    "# pd.set_option('display.max_rows', 150)\n",
    "\n",
    "# ProductCD: product code of each transaction; there are 5 product types\n",
    "training['ProductCD'].value_counts()"
   ]
  },
  {
   "cell_type": "code",
   "execution_count": 2,
   "metadata": {},
   "outputs": [
    {
     "data": {
      "text/plain": [
       "visa                26710\n",
       "mastercard          12944\n",
       "discover              609\n",
       "american express      525\n",
       "Name: card4, dtype: int64"
      ]
     },
     "execution_count": 2,
     "metadata": {},
     "output_type": "execute_result"
    }
   ],
   "source": [
    "# card4: brand of card; there are 4 brands\n",
    "training['card4'].value_counts()"
   ]
  },
  {
   "cell_type": "code",
   "execution_count": 3,
   "metadata": {},
   "outputs": [
    {
     "data": {
      "text/plain": [
       "(40785, 112)"
      ]
     },
     "execution_count": 3,
     "metadata": {},
     "output_type": "execute_result"
    }
   ],
   "source": [
    "# card6: type of card; we drop the 3 unique rows of 'debit or credit' and 'charge card'\n",
    "training['card6'].value_counts()\n",
    "mask = training['card6'] != 'debit or credit'\n",
    "training = training[mask]\n",
    "mask2 = training['card6'] != 'charge card'\n",
    "training = training[mask2]\n",
    "training.shape"
   ]
  },
  {
   "cell_type": "code",
   "execution_count": 4,
   "metadata": {},
   "outputs": [],
   "source": [
    "# create into category type\n",
    "training['card6'] = training['card6'].astype('category')\n",
    "training['card4'] = training['card4'].astype('category')\n",
    "training['ProductCD'] = training['ProductCD'].astype('category')\n",
    "\n",
    "# encode into numeric categories; we opt for dummy variables (One Hot Encoding)\n",
    "training_dummies = pd.get_dummies(training, columns=['card4', 'card6', 'ProductCD'])"
   ]
  },
  {
   "cell_type": "code",
   "execution_count": 5,
   "metadata": {},
   "outputs": [
    {
     "data": {
      "text/html": [
       "<div>\n",
       "<style scoped>\n",
       "    .dataframe tbody tr th:only-of-type {\n",
       "        vertical-align: middle;\n",
       "    }\n",
       "\n",
       "    .dataframe tbody tr th {\n",
       "        vertical-align: top;\n",
       "    }\n",
       "\n",
       "    .dataframe thead th {\n",
       "        text-align: right;\n",
       "    }\n",
       "</style>\n",
       "<table border=\"1\" class=\"dataframe\">\n",
       "  <thead>\n",
       "    <tr style=\"text-align: right;\">\n",
       "      <th></th>\n",
       "      <th>TransactionID</th>\n",
       "      <th>TransactionDT</th>\n",
       "      <th>TransactionAmt</th>\n",
       "      <th>card1</th>\n",
       "      <th>card3</th>\n",
       "      <th>card5</th>\n",
       "      <th>C1</th>\n",
       "      <th>C2</th>\n",
       "      <th>C3</th>\n",
       "      <th>C4</th>\n",
       "      <th>...</th>\n",
       "      <th>card4_mastercard</th>\n",
       "      <th>card4_visa</th>\n",
       "      <th>card6_credit</th>\n",
       "      <th>card6_debit</th>\n",
       "      <th>ProductCD_C</th>\n",
       "      <th>ProductCD_H</th>\n",
       "      <th>ProductCD_R</th>\n",
       "      <th>ProductCD_S</th>\n",
       "      <th>ProductCD_W</th>\n",
       "      <th>y</th>\n",
       "    </tr>\n",
       "  </thead>\n",
       "  <tbody>\n",
       "    <tr>\n",
       "      <th>0</th>\n",
       "      <td>3273604</td>\n",
       "      <td>0.443036</td>\n",
       "      <td>0.020744</td>\n",
       "      <td>0.488205</td>\n",
       "      <td>0.381679</td>\n",
       "      <td>0.919708</td>\n",
       "      <td>0.000214</td>\n",
       "      <td>0.000176</td>\n",
       "      <td>0.0</td>\n",
       "      <td>0.000000</td>\n",
       "      <td>...</td>\n",
       "      <td>0.0</td>\n",
       "      <td>1.0</td>\n",
       "      <td>0.0</td>\n",
       "      <td>1.0</td>\n",
       "      <td>0.0</td>\n",
       "      <td>0.0</td>\n",
       "      <td>0.0</td>\n",
       "      <td>0.0</td>\n",
       "      <td>1.0</td>\n",
       "      <td>0.0</td>\n",
       "    </tr>\n",
       "    <tr>\n",
       "      <th>1</th>\n",
       "      <td>2999170</td>\n",
       "      <td>0.016551</td>\n",
       "      <td>0.011435</td>\n",
       "      <td>0.443326</td>\n",
       "      <td>0.381679</td>\n",
       "      <td>0.919708</td>\n",
       "      <td>0.013456</td>\n",
       "      <td>0.007557</td>\n",
       "      <td>0.0</td>\n",
       "      <td>0.000000</td>\n",
       "      <td>...</td>\n",
       "      <td>0.0</td>\n",
       "      <td>1.0</td>\n",
       "      <td>0.0</td>\n",
       "      <td>1.0</td>\n",
       "      <td>0.0</td>\n",
       "      <td>0.0</td>\n",
       "      <td>0.0</td>\n",
       "      <td>0.0</td>\n",
       "      <td>1.0</td>\n",
       "      <td>0.0</td>\n",
       "    </tr>\n",
       "    <tr>\n",
       "      <th>2</th>\n",
       "      <td>3023872</td>\n",
       "      <td>0.053123</td>\n",
       "      <td>0.014002</td>\n",
       "      <td>0.918124</td>\n",
       "      <td>0.381679</td>\n",
       "      <td>0.919708</td>\n",
       "      <td>0.023708</td>\n",
       "      <td>0.016872</td>\n",
       "      <td>0.0</td>\n",
       "      <td>0.000000</td>\n",
       "      <td>...</td>\n",
       "      <td>0.0</td>\n",
       "      <td>1.0</td>\n",
       "      <td>0.0</td>\n",
       "      <td>1.0</td>\n",
       "      <td>0.0</td>\n",
       "      <td>0.0</td>\n",
       "      <td>0.0</td>\n",
       "      <td>0.0</td>\n",
       "      <td>1.0</td>\n",
       "      <td>0.0</td>\n",
       "    </tr>\n",
       "    <tr>\n",
       "      <th>3</th>\n",
       "      <td>3033043</td>\n",
       "      <td>0.064770</td>\n",
       "      <td>0.009580</td>\n",
       "      <td>0.663003</td>\n",
       "      <td>0.381679</td>\n",
       "      <td>0.905109</td>\n",
       "      <td>0.000214</td>\n",
       "      <td>0.000176</td>\n",
       "      <td>0.0</td>\n",
       "      <td>0.000444</td>\n",
       "      <td>...</td>\n",
       "      <td>1.0</td>\n",
       "      <td>0.0</td>\n",
       "      <td>0.0</td>\n",
       "      <td>1.0</td>\n",
       "      <td>0.0</td>\n",
       "      <td>1.0</td>\n",
       "      <td>0.0</td>\n",
       "      <td>0.0</td>\n",
       "      <td>0.0</td>\n",
       "      <td>0.0</td>\n",
       "    </tr>\n",
       "    <tr>\n",
       "      <th>4</th>\n",
       "      <td>3422561</td>\n",
       "      <td>0.695863</td>\n",
       "      <td>0.025946</td>\n",
       "      <td>0.488205</td>\n",
       "      <td>0.381679</td>\n",
       "      <td>0.919708</td>\n",
       "      <td>0.000641</td>\n",
       "      <td>0.000351</td>\n",
       "      <td>0.0</td>\n",
       "      <td>0.000000</td>\n",
       "      <td>...</td>\n",
       "      <td>0.0</td>\n",
       "      <td>1.0</td>\n",
       "      <td>0.0</td>\n",
       "      <td>1.0</td>\n",
       "      <td>0.0</td>\n",
       "      <td>0.0</td>\n",
       "      <td>0.0</td>\n",
       "      <td>0.0</td>\n",
       "      <td>1.0</td>\n",
       "      <td>0.0</td>\n",
       "    </tr>\n",
       "  </tbody>\n",
       "</table>\n",
       "<p>5 rows × 119 columns</p>\n",
       "</div>"
      ],
      "text/plain": [
       "   TransactionID  TransactionDT  TransactionAmt     card1     card3     card5  \\\n",
       "0        3273604       0.443036        0.020744  0.488205  0.381679  0.919708   \n",
       "1        2999170       0.016551        0.011435  0.443326  0.381679  0.919708   \n",
       "2        3023872       0.053123        0.014002  0.918124  0.381679  0.919708   \n",
       "3        3033043       0.064770        0.009580  0.663003  0.381679  0.905109   \n",
       "4        3422561       0.695863        0.025946  0.488205  0.381679  0.919708   \n",
       "\n",
       "         C1        C2   C3        C4  ...  card4_mastercard  card4_visa  \\\n",
       "0  0.000214  0.000176  0.0  0.000000  ...               0.0         1.0   \n",
       "1  0.013456  0.007557  0.0  0.000000  ...               0.0         1.0   \n",
       "2  0.023708  0.016872  0.0  0.000000  ...               0.0         1.0   \n",
       "3  0.000214  0.000176  0.0  0.000444  ...               1.0         0.0   \n",
       "4  0.000641  0.000351  0.0  0.000000  ...               0.0         1.0   \n",
       "\n",
       "   card6_credit  card6_debit  ProductCD_C  ProductCD_H  ProductCD_R  \\\n",
       "0           0.0          1.0          0.0          0.0          0.0   \n",
       "1           0.0          1.0          0.0          0.0          0.0   \n",
       "2           0.0          1.0          0.0          0.0          0.0   \n",
       "3           0.0          1.0          0.0          1.0          0.0   \n",
       "4           0.0          1.0          0.0          0.0          0.0   \n",
       "\n",
       "   ProductCD_S  ProductCD_W    y  \n",
       "0          0.0          1.0  0.0  \n",
       "1          0.0          1.0  0.0  \n",
       "2          0.0          1.0  0.0  \n",
       "3          0.0          0.0  0.0  \n",
       "4          0.0          1.0  0.0  \n",
       "\n",
       "[5 rows x 119 columns]"
      ]
     },
     "execution_count": 5,
     "metadata": {},
     "output_type": "execute_result"
    }
   ],
   "source": [
    "from sklearn import preprocessing\n",
    "\n",
    "# initialize scaler\n",
    "scaler = preprocessing.MinMaxScaler()\n",
    "\n",
    "# drop target column\n",
    "training_v1 = training_dummies.drop('TransactionID', axis=1)\n",
    "training_v2 = training_v1.drop('isFraud', axis=1)\n",
    "training_y = training_dummies['isFraud'].copy()\n",
    "training_id = training_dummies['TransactionID'].copy()\n",
    "\n",
    "# Fit the data with scaler (scales data)\n",
    "training_v2 = training_v2.set_index('Unnamed: 0')\n",
    "x = training_v2.values\n",
    "x_scaled = scaler.fit_transform(x)\n",
    "training_scaled = pd.DataFrame(x_scaled)\n",
    "training_scaled = training_scaled.set_axis([x for x in training_v2.columns], axis=1, inplace=False)\n",
    "training_scaled.insert(loc=0, column='TransactionID', value=training_id)\n",
    "training_scaled['y'] = training_y\n",
    "training_scaled = training_scaled.dropna()\n",
    "training_scaled['TransactionID'] = training_scaled['TransactionID'].astype(int)\n",
    "training_scaled.head()"
   ]
  },
  {
   "cell_type": "code",
   "execution_count": 6,
   "metadata": {},
   "outputs": [],
   "source": [
    "from sklearn.ensemble import RandomForestClassifier\n",
    "from sklearn.model_selection import train_test_split\n",
    "from sklearn.metrics import accuracy_score\n",
    "\n",
    "# initialize Random Forest model and split data into training and validation\n",
    "clf = RandomForestClassifier()\n",
    "y = training_scaled['y'].copy()\n",
    "training_scaled = training_scaled.drop(['y'], axis=1)\n",
    "x = training_scaled.drop(['TransactionID'], axis=1)\n",
    "x_train, x_val, y_train, y_val = train_test_split(x, y, random_state=42)"
   ]
  },
  {
   "cell_type": "code",
   "execution_count": 7,
   "metadata": {},
   "outputs": [
    {
     "name": "stderr",
     "output_type": "stream",
     "text": [
      "C:\\Users\\tsblo\\Anaconda2\\envs\\p36workshop\\lib\\site-packages\\sklearn\\ensemble\\forest.py:245: FutureWarning: The default value of n_estimators will change from 10 in version 0.20 to 100 in 0.22.\n",
      "  \"10 in version 0.20 to 100 in 0.22.\", FutureWarning)\n"
     ]
    }
   ],
   "source": [
    "from sklearn.model_selection import cross_val_score\n",
    "# fit our data to the model and cross-validate for accuracy\n",
    "rffit = clf.fit(x_train, y_train)\n",
    "rf_acc_scores = cross_val_score(rffit, x_train, y_train, scoring='accuracy', cv=5)"
   ]
  },
  {
   "cell_type": "code",
   "execution_count": 8,
   "metadata": {},
   "outputs": [
    {
     "name": "stdout",
     "output_type": "stream",
     "text": [
      "mean: 0.8097170448136677\n",
      "std dev: 0.00481900275535411\n"
     ]
    }
   ],
   "source": [
    "# function to display mean accuracy and standard deviation of accuracy\n",
    "def display_scores(scores):\n",
    "    print('mean:', scores.mean())\n",
    "    print('std dev:', scores.std())\n",
    "display_scores(rf_acc_scores)"
   ]
  },
  {
   "cell_type": "code",
   "execution_count": 9,
   "metadata": {},
   "outputs": [],
   "source": [
    "# %%time\n",
    "# # K-Fold CV to optimize tuning parameters\n",
    "# from sklearn.model_selection import GridSearchCV\n",
    "# param_grid = [{'max_depth': [10, 20, 30, 40],\n",
    "#  'min_samples_split': [5, 7],\n",
    "#  'n_estimators': [200, 400]}]\n",
    "\n",
    "# grid_search = GridSearchCV(clf, param_grid, cv=3, n_jobs=-1, verbose=3)\n",
    "\n",
    "# grid_search.fit(x_train, y_train)\n",
    "# grid_search.best_params_"
   ]
  },
  {
   "cell_type": "code",
   "execution_count": 10,
   "metadata": {},
   "outputs": [
    {
     "data": {
      "text/plain": [
       "RandomForestClassifier(bootstrap=True, class_weight=None, criterion='gini',\n",
       "                       max_depth=30, max_features='auto', max_leaf_nodes=None,\n",
       "                       min_impurity_decrease=0.0, min_impurity_split=None,\n",
       "                       min_samples_leaf=1, min_samples_split=7,\n",
       "                       min_weight_fraction_leaf=0.0, n_estimators=200,\n",
       "                       n_jobs=None, oob_score=False, random_state=None,\n",
       "                       verbose=0, warm_start=False)"
      ]
     },
     "execution_count": 10,
     "metadata": {},
     "output_type": "execute_result"
    }
   ],
   "source": [
    "clf = RandomForestClassifier(max_depth=30, min_samples_split=7, n_estimators=200)\n",
    "clf.fit(x_train, y_train)"
   ]
  },
  {
   "cell_type": "code",
   "execution_count": 11,
   "metadata": {},
   "outputs": [
    {
     "data": {
      "text/plain": [
       "0.8324833267948215"
      ]
     },
     "execution_count": 11,
     "metadata": {},
     "output_type": "execute_result"
    }
   ],
   "source": [
    "y_pred = clf.predict(x_val)\n",
    "accuracy_score(y_val, y_pred)"
   ]
  },
  {
   "cell_type": "code",
   "execution_count": 12,
   "metadata": {},
   "outputs": [
    {
     "data": {
      "text/plain": [
       "array([[12968,  2342],\n",
       "       [ 3072, 12204]], dtype=int64)"
      ]
     },
     "execution_count": 12,
     "metadata": {},
     "output_type": "execute_result"
    }
   ],
   "source": [
    "from sklearn.metrics import confusion_matrix\n",
    "from sklearn.model_selection import cross_val_predict\n",
    "\n",
    "y_train_pred = cross_val_predict(clf, x_train, y_train, cv=3)\n",
    "confusion_matrix(y_train, y_train_pred)"
   ]
  },
  {
   "cell_type": "code",
   "execution_count": 13,
   "metadata": {},
   "outputs": [
    {
     "name": "stdout",
     "output_type": "stream",
     "text": [
      "0.8389935377423346\n"
     ]
    },
    {
     "data": {
      "text/plain": [
       "0.7989002356637863"
      ]
     },
     "execution_count": 13,
     "metadata": {},
     "output_type": "execute_result"
    }
   ],
   "source": [
    "from sklearn.metrics import precision_score, recall_score\n",
    "print(precision_score(y_train, y_train_pred))\n",
    "recall_score(y_train, y_train_pred)"
   ]
  },
  {
   "cell_type": "code",
   "execution_count": 14,
   "metadata": {},
   "outputs": [
    {
     "data": {
      "text/plain": [
       "<Figure size 640x480 with 1 Axes>"
      ]
     },
     "metadata": {},
     "output_type": "display_data"
    }
   ],
   "source": [
    "from sklearn.metrics import roc_curve\n",
    "import matplotlib.pyplot as plt\n",
    "\n",
    "import sklearn.metrics as metrics\n",
    "# calculate the fpr and tpr for all thresholds of the classification\n",
    "probs = clf.predict_proba(x_val)\n",
    "preds = probs[:,1]\n",
    "fpr, tpr, threshold = metrics.roc_curve(y_val, preds)\n",
    "roc_auc = metrics.auc(fpr, tpr)\n",
    "\n",
    "# method I: plt\n",
    "import matplotlib.pyplot as plt\n",
    "plt.title('ROC Curve')\n",
    "plt.plot(fpr, tpr, 'b', label = 'AUC = %0.2f' % roc_auc)\n",
    "plt.legend(loc = 'lower right')\n",
    "plt.plot([0, 1], [0, 1],'r--')\n",
    "plt.xlim([0, 1])\n",
    "plt.ylim([0, 1])\n",
    "plt.ylabel('True Positive Rate')\n",
    "plt.xlabel('False Positive Rate')\n",
    "plt.show()"
   ]
  },
  {
   "cell_type": "code",
   "execution_count": 15,
   "metadata": {},
   "outputs": [
    {
     "data": {
      "text/html": [
       "<div>\n",
       "<style scoped>\n",
       "    .dataframe tbody tr th:only-of-type {\n",
       "        vertical-align: middle;\n",
       "    }\n",
       "\n",
       "    .dataframe tbody tr th {\n",
       "        vertical-align: top;\n",
       "    }\n",
       "\n",
       "    .dataframe thead th {\n",
       "        text-align: right;\n",
       "    }\n",
       "</style>\n",
       "<table border=\"1\" class=\"dataframe\">\n",
       "  <thead>\n",
       "    <tr style=\"text-align: right;\">\n",
       "      <th></th>\n",
       "      <th>importance</th>\n",
       "    </tr>\n",
       "  </thead>\n",
       "  <tbody>\n",
       "    <tr>\n",
       "      <th>TransactionDT</th>\n",
       "      <td>0.053360</td>\n",
       "    </tr>\n",
       "    <tr>\n",
       "      <th>TransactionAmt</th>\n",
       "      <td>0.048273</td>\n",
       "    </tr>\n",
       "    <tr>\n",
       "      <th>C13</th>\n",
       "      <td>0.047810</td>\n",
       "    </tr>\n",
       "    <tr>\n",
       "      <th>C14</th>\n",
       "      <td>0.046166</td>\n",
       "    </tr>\n",
       "    <tr>\n",
       "      <th>card1</th>\n",
       "      <td>0.041789</td>\n",
       "    </tr>\n",
       "    <tr>\n",
       "      <th>C1</th>\n",
       "      <td>0.031428</td>\n",
       "    </tr>\n",
       "    <tr>\n",
       "      <th>C5</th>\n",
       "      <td>0.031052</td>\n",
       "    </tr>\n",
       "    <tr>\n",
       "      <th>C8</th>\n",
       "      <td>0.030028</td>\n",
       "    </tr>\n",
       "    <tr>\n",
       "      <th>C4</th>\n",
       "      <td>0.029280</td>\n",
       "    </tr>\n",
       "    <tr>\n",
       "      <th>C2</th>\n",
       "      <td>0.028137</td>\n",
       "    </tr>\n",
       "  </tbody>\n",
       "</table>\n",
       "</div>"
      ],
      "text/plain": [
       "                importance\n",
       "TransactionDT     0.053360\n",
       "TransactionAmt    0.048273\n",
       "C13               0.047810\n",
       "C14               0.046166\n",
       "card1             0.041789\n",
       "C1                0.031428\n",
       "C5                0.031052\n",
       "C8                0.030028\n",
       "C4                0.029280\n",
       "C2                0.028137"
      ]
     },
     "execution_count": 15,
     "metadata": {},
     "output_type": "execute_result"
    }
   ],
   "source": [
    "feature_importances = pd.DataFrame(clf.feature_importances_,\n",
    "                                    index = x_train.columns,\n",
    "                                    columns= ['importance']).sort_values('importance',ascending=False)\n",
    "feature_importances[:10]"
   ]
  },
  {
   "cell_type": "markdown",
   "metadata": {},
   "source": [
    "# MLP Model"
   ]
  },
  {
   "cell_type": "code",
   "execution_count": 16,
   "metadata": {},
   "outputs": [],
   "source": [
    "from sklearn.neural_network import MLPClassifier\n",
    "mlp = MLPClassifier(max_iter=100)"
   ]
  },
  {
   "cell_type": "code",
   "execution_count": 17,
   "metadata": {},
   "outputs": [],
   "source": [
    "parameter_space = {\n",
    "    'hidden_layer_sizes': [(50,50,50), (50,100,50)],\n",
    "    'activation': ['tanh', 'relu'],\n",
    "    'solver': ['sgd', 'adam'],\n",
    "    'alpha': [0.0001, 0.05],\n",
    "    'learning_rate': ['constant','adaptive'],\n",
    "}"
   ]
  },
  {
   "cell_type": "code",
   "execution_count": 18,
   "metadata": {},
   "outputs": [],
   "source": [
    "# from sklearn.model_selection import GridSearchCV\n",
    "\n",
    "# mlp_clf = GridSearchCV(mlp, parameter_space, n_jobs=-1, cv=3, verbose = 3)\n",
    "# mlp_clf.fit(x_train, y_train)"
   ]
  },
  {
   "cell_type": "code",
   "execution_count": 19,
   "metadata": {},
   "outputs": [],
   "source": [
    "# # Best paramete set\n",
    "# print('Best parameters found:\\n', mlp_clf.best_params_)"
   ]
  },
  {
   "cell_type": "code",
   "execution_count": 21,
   "metadata": {},
   "outputs": [
    {
     "name": "stdout",
     "output_type": "stream",
     "text": [
      "Iteration 1, loss = 0.58600990\n",
      "Iteration 2, loss = 0.54690729\n",
      "Iteration 3, loss = 0.52779168\n",
      "Iteration 4, loss = 0.52191258\n",
      "Iteration 5, loss = 0.51196330\n",
      "Iteration 6, loss = 0.50532572\n",
      "Iteration 7, loss = 0.49901147\n",
      "Iteration 8, loss = 0.49073072\n",
      "Iteration 9, loss = 0.48580678\n",
      "Iteration 10, loss = 0.48039610\n",
      "Iteration 11, loss = 0.47571893\n",
      "Iteration 12, loss = 0.47278213\n",
      "Iteration 13, loss = 0.46909351\n",
      "Iteration 14, loss = 0.46599814\n",
      "Iteration 15, loss = 0.45946759\n",
      "Iteration 16, loss = 0.45755248\n",
      "Iteration 17, loss = 0.45470762\n",
      "Iteration 18, loss = 0.45258647\n",
      "Iteration 19, loss = 0.44888015\n",
      "Iteration 20, loss = 0.44859374\n",
      "Iteration 21, loss = 0.44751235\n",
      "Iteration 22, loss = 0.44312291\n",
      "Iteration 23, loss = 0.43924699\n",
      "Iteration 24, loss = 0.43777623\n",
      "Iteration 25, loss = 0.43608459\n",
      "Iteration 26, loss = 0.43256649\n",
      "Iteration 27, loss = 0.43380674\n",
      "Iteration 28, loss = 0.43120191\n",
      "Iteration 29, loss = 0.43156399\n",
      "Iteration 30, loss = 0.42478176\n",
      "Iteration 31, loss = 0.42771606\n",
      "Iteration 32, loss = 0.42317540\n",
      "Iteration 33, loss = 0.42504793\n",
      "Iteration 34, loss = 0.42126841\n",
      "Iteration 35, loss = 0.42026790\n",
      "Iteration 36, loss = 0.41903522\n",
      "Iteration 37, loss = 0.41686543\n",
      "Iteration 38, loss = 0.41697713\n",
      "Iteration 39, loss = 0.41336766\n",
      "Iteration 40, loss = 0.41336063\n",
      "Iteration 41, loss = 0.41255490\n",
      "Iteration 42, loss = 0.41040656\n",
      "Iteration 43, loss = 0.40713683\n",
      "Iteration 44, loss = 0.40793932\n",
      "Iteration 45, loss = 0.40693618\n",
      "Iteration 46, loss = 0.40772858\n",
      "Iteration 47, loss = 0.40230922\n",
      "Iteration 48, loss = 0.40369362\n",
      "Iteration 49, loss = 0.40086461\n",
      "Iteration 50, loss = 0.40020207\n",
      "Iteration 51, loss = 0.40002794\n",
      "Iteration 52, loss = 0.40254765\n",
      "Iteration 53, loss = 0.39653428\n",
      "Iteration 54, loss = 0.39488337\n",
      "Iteration 55, loss = 0.39754440\n",
      "Iteration 56, loss = 0.39459797\n",
      "Iteration 57, loss = 0.39311853\n",
      "Iteration 58, loss = 0.39496027\n",
      "Iteration 59, loss = 0.39374084\n",
      "Iteration 60, loss = 0.39026515\n",
      "Iteration 61, loss = 0.38731712\n",
      "Iteration 62, loss = 0.38484711\n",
      "Iteration 63, loss = 0.38747735\n",
      "Iteration 64, loss = 0.38858820\n",
      "Iteration 65, loss = 0.38360291\n",
      "Iteration 66, loss = 0.38524883\n",
      "Iteration 67, loss = 0.38594314\n",
      "Iteration 68, loss = 0.38077117\n",
      "Iteration 69, loss = 0.38365442\n",
      "Iteration 70, loss = 0.38109790\n",
      "Iteration 71, loss = 0.37917081\n",
      "Iteration 72, loss = 0.37797352\n",
      "Iteration 73, loss = 0.37914046\n",
      "Iteration 74, loss = 0.37660323\n",
      "Iteration 75, loss = 0.37822601\n",
      "Iteration 76, loss = 0.37490214\n",
      "Iteration 77, loss = 0.37222399\n",
      "Iteration 78, loss = 0.37250223\n",
      "Iteration 79, loss = 0.37339780\n",
      "Iteration 80, loss = 0.37164185\n",
      "Iteration 81, loss = 0.36968492\n",
      "Iteration 82, loss = 0.37148608\n",
      "Iteration 83, loss = 0.37124948\n",
      "Iteration 84, loss = 0.36546106\n",
      "Iteration 85, loss = 0.36701529\n",
      "Iteration 86, loss = 0.36744743\n",
      "Iteration 87, loss = 0.36702439\n",
      "Iteration 88, loss = 0.36242798\n",
      "Iteration 89, loss = 0.36113533\n",
      "Iteration 90, loss = 0.36052420\n",
      "Iteration 91, loss = 0.36062865\n",
      "Iteration 92, loss = 0.36037498\n",
      "Iteration 93, loss = 0.35944476\n",
      "Iteration 94, loss = 0.35726930\n",
      "Iteration 95, loss = 0.35785049\n",
      "Iteration 96, loss = 0.35805664\n",
      "Iteration 97, loss = 0.36028256\n",
      "Iteration 98, loss = 0.35857485\n",
      "Iteration 99, loss = 0.35395263\n",
      "Iteration 100, loss = 0.35284637\n",
      "Iteration 101, loss = 0.35463345\n",
      "Iteration 102, loss = 0.35309519\n",
      "Iteration 103, loss = 0.35039033\n",
      "Iteration 104, loss = 0.35348764\n",
      "Iteration 105, loss = 0.35180528\n",
      "Iteration 106, loss = 0.34936311\n",
      "Iteration 107, loss = 0.34638679\n",
      "Iteration 108, loss = 0.34713879\n",
      "Iteration 109, loss = 0.34494174\n",
      "Iteration 110, loss = 0.34479950\n",
      "Iteration 111, loss = 0.34537584\n",
      "Iteration 112, loss = 0.34451113\n",
      "Iteration 113, loss = 0.34273906\n",
      "Iteration 114, loss = 0.34148252\n",
      "Iteration 115, loss = 0.34124709\n",
      "Iteration 116, loss = 0.33984755\n",
      "Iteration 117, loss = 0.33860153\n",
      "Iteration 118, loss = 0.33957904\n",
      "Iteration 119, loss = 0.34370889\n",
      "Iteration 120, loss = 0.33975951\n",
      "Iteration 121, loss = 0.33582614\n",
      "Iteration 122, loss = 0.33505088\n",
      "Iteration 123, loss = 0.33829671\n",
      "Iteration 124, loss = 0.33497438\n",
      "Iteration 125, loss = 0.33459780\n",
      "Iteration 126, loss = 0.33062089\n",
      "Iteration 127, loss = 0.33380979\n",
      "Iteration 128, loss = 0.33402228\n",
      "Iteration 129, loss = 0.33257134\n",
      "Iteration 130, loss = 0.33217449\n",
      "Iteration 131, loss = 0.33182226\n",
      "Iteration 132, loss = 0.33098139\n",
      "Iteration 133, loss = 0.32700309\n",
      "Iteration 134, loss = 0.33268664\n",
      "Iteration 135, loss = 0.32978180\n",
      "Iteration 136, loss = 0.32739309\n",
      "Iteration 137, loss = 0.32428598\n",
      "Iteration 138, loss = 0.32553724\n",
      "Iteration 139, loss = 0.32460452\n",
      "Iteration 140, loss = 0.32500068\n",
      "Iteration 141, loss = 0.32806751\n",
      "Iteration 142, loss = 0.32436576\n",
      "Iteration 143, loss = 0.32138984\n",
      "Iteration 144, loss = 0.31963196\n",
      "Iteration 145, loss = 0.32047453\n",
      "Iteration 146, loss = 0.32139313\n",
      "Iteration 147, loss = 0.32490016\n",
      "Iteration 148, loss = 0.31841970\n",
      "Iteration 149, loss = 0.32482811\n",
      "Iteration 150, loss = 0.31966453\n",
      "Iteration 151, loss = 0.31600720\n",
      "Iteration 152, loss = 0.31671936\n",
      "Iteration 153, loss = 0.31398347\n",
      "Iteration 154, loss = 0.31468391\n",
      "Iteration 155, loss = 0.31528158\n",
      "Iteration 156, loss = 0.31692440\n",
      "Iteration 157, loss = 0.31402198\n",
      "Iteration 158, loss = 0.31258107\n",
      "Iteration 159, loss = 0.31531459\n",
      "Iteration 160, loss = 0.31482440\n",
      "Iteration 161, loss = 0.30958969\n",
      "Iteration 162, loss = 0.31362325\n",
      "Iteration 163, loss = 0.31275989\n",
      "Iteration 164, loss = 0.31181490\n",
      "Iteration 165, loss = 0.31302363\n",
      "Iteration 166, loss = 0.31424849\n",
      "Iteration 167, loss = 0.30866949\n",
      "Iteration 168, loss = 0.31126791\n",
      "Iteration 169, loss = 0.30863484\n",
      "Iteration 170, loss = 0.30630197\n",
      "Iteration 171, loss = 0.30516632\n",
      "Iteration 172, loss = 0.30314205\n",
      "Iteration 173, loss = 0.30265989\n",
      "Iteration 174, loss = 0.30247662\n",
      "Iteration 175, loss = 0.30743590\n",
      "Iteration 176, loss = 0.30228952\n",
      "Iteration 177, loss = 0.30856848\n",
      "Iteration 178, loss = 0.30188793\n",
      "Iteration 179, loss = 0.30492498\n",
      "Iteration 180, loss = 0.30309126\n",
      "Iteration 181, loss = 0.29753850\n",
      "Iteration 182, loss = 0.30158533\n",
      "Iteration 183, loss = 0.30017100\n",
      "Iteration 184, loss = 0.29945280\n",
      "Iteration 185, loss = 0.29492669\n",
      "Iteration 186, loss = 0.29782639\n",
      "Iteration 187, loss = 0.29789034\n",
      "Iteration 188, loss = 0.30134917\n",
      "Iteration 189, loss = 0.29601727\n",
      "Iteration 190, loss = 0.29830959\n",
      "Iteration 191, loss = 0.29386259\n",
      "Iteration 192, loss = 0.29517482\n",
      "Iteration 193, loss = 0.29669108\n",
      "Iteration 194, loss = 0.29197596\n",
      "Iteration 195, loss = 0.29166465\n",
      "Iteration 196, loss = 0.29128471\n",
      "Iteration 197, loss = 0.29025992\n",
      "Iteration 198, loss = 0.29377900\n",
      "Iteration 199, loss = 0.29295154\n",
      "Iteration 200, loss = 0.29395672\n"
     ]
    },
    {
     "name": "stderr",
     "output_type": "stream",
     "text": [
      "C:\\Users\\tsblo\\Anaconda2\\envs\\p36workshop\\lib\\site-packages\\sklearn\\neural_network\\multilayer_perceptron.py:566: ConvergenceWarning: Stochastic Optimizer: Maximum iterations (200) reached and the optimization hasn't converged yet.\n",
      "  % self.max_iter, ConvergenceWarning)\n"
     ]
    },
    {
     "data": {
      "text/plain": [
       "MLPClassifier(activation='relu', alpha=0.0001, batch_size='auto', beta_1=0.9,\n",
       "              beta_2=0.999, early_stopping=False, epsilon=1e-08,\n",
       "              hidden_layer_sizes=(50, 100, 50), learning_rate='constant',\n",
       "              learning_rate_init=0.001, max_iter=200, momentum=0.9,\n",
       "              n_iter_no_change=10, nesterovs_momentum=True, power_t=0.5,\n",
       "              random_state=None, shuffle=True, solver='adam', tol=0.0001,\n",
       "              validation_fraction=0.1, verbose=3, warm_start=False)"
      ]
     },
     "execution_count": 21,
     "metadata": {},
     "output_type": "execute_result"
    }
   ],
   "source": [
    "mlp_clf = MLPClassifier(activation = 'relu', alpha = 0.0001, hidden_layer_sizes = (50, 100, 50), \\\n",
    "                        learning_rate = 'constant', solver = 'adam', verbose = 3)\n",
    "mlp_clf.fit(x_train, y_train)"
   ]
  },
  {
   "cell_type": "code",
   "execution_count": 22,
   "metadata": {},
   "outputs": [
    {
     "data": {
      "text/plain": [
       "0.8324833267948215"
      ]
     },
     "execution_count": 22,
     "metadata": {},
     "output_type": "execute_result"
    }
   ],
   "source": [
    "y_pred = clf.predict(x_val)\n",
    "accuracy_score(y_val, y_pred)"
   ]
  },
  {
   "cell_type": "code",
   "execution_count": 23,
   "metadata": {},
   "outputs": [
    {
     "name": "stdout",
     "output_type": "stream",
     "text": [
      "0.8389935377423346\n"
     ]
    },
    {
     "data": {
      "text/plain": [
       "0.7989002356637863"
      ]
     },
     "execution_count": 23,
     "metadata": {},
     "output_type": "execute_result"
    }
   ],
   "source": [
    "print(precision_score(y_train, y_train_pred))\n",
    "recall_score(y_train, y_train_pred)"
   ]
  },
  {
   "cell_type": "markdown",
   "metadata": {},
   "source": [
    "# Calibration Curve"
   ]
  },
  {
   "cell_type": "code",
   "execution_count": 30,
   "metadata": {},
   "outputs": [],
   "source": [
    "mlp_clf = MLPClassifier(activation = 'relu', alpha = 0.0001, hidden_layer_sizes = (50, 100, 50), \\\n",
    "                        learning_rate = 'constant', solver = 'adam')\n",
    "\n",
    "rf_clf = RandomForestClassifier(max_depth=30, min_samples_split=7, n_estimators=200)"
   ]
  },
  {
   "cell_type": "code",
   "execution_count": 31,
   "metadata": {},
   "outputs": [
    {
     "name": "stderr",
     "output_type": "stream",
     "text": [
      "C:\\Users\\tsblo\\Anaconda2\\envs\\p36workshop\\lib\\site-packages\\sklearn\\neural_network\\multilayer_perceptron.py:566: ConvergenceWarning: Stochastic Optimizer: Maximum iterations (200) reached and the optimization hasn't converged yet.\n",
      "  % self.max_iter, ConvergenceWarning)\n"
     ]
    },
    {
     "data": {
      "image/png": "[encoded data removed]",
      "text/plain": [
       "<Figure size 720x720 with 2 Axes>"
      ]
     },
     "metadata": {
      "needs_background": "light"
     },
     "output_type": "display_data"
    }
   ],
   "source": [
    "from sklearn.calibration import calibration_curve\n",
    "\n",
    "plt.figure(figsize=(10, 10))\n",
    "ax1 = plt.subplot2grid((3, 1), (0, 0), rowspan=2)\n",
    "ax2 = plt.subplot2grid((3, 1), (2, 0))\n",
    "\n",
    "ax1.plot([0, 1], [0, 1], \"k:\", label=\"Perfectly calibrated\")\n",
    "for clf, name in [(rf_clf, 'random forest'),\n",
    "                  (mlp_clf, 'MLP')]:\n",
    "\n",
    "    clf.fit(x_train, y_train)\n",
    "    if hasattr(clf, \"predict_proba\"):\n",
    "        prob_pos = clf.predict_proba(x_val)[:, 1]\n",
    "    else:  # use decision function\n",
    "        prob_pos = clf.decision_function(x_val)\n",
    "        prob_pos = \\\n",
    "            (prob_pos - prob_pos.min()) / (prob_pos.max() - prob_pos.min())\n",
    "    fraction_of_positives, mean_predicted_value = \\\n",
    "        calibration_curve(y_val, prob_pos, n_bins=10)\n",
    "\n",
    "    ax1.plot(mean_predicted_value, fraction_of_positives, \"s-\",\n",
    "             label=\"%s\" % (name, ))\n",
    "\n",
    "    ax2.hist(prob_pos, range=(0, 1), bins=10, label=name,\n",
    "             histtype=\"step\", lw=2)\n",
    "\n",
    "ax1.set_ylabel(\"Fraction of positives\")\n",
    "ax1.set_ylim([-0.05, 1.05])\n",
    "ax1.legend(loc=\"lower right\")\n",
    "ax1.set_title('Calibration plots  (reliability curve)')\n",
    "\n",
    "ax2.set_xlabel(\"Mean predicted value\")\n",
    "ax2.set_ylabel(\"Count\")\n",
    "ax2.legend(loc=\"upper center\", ncol=2)\n",
    "\n",
    "plt.tight_layout()\n",
    "plt.show()"
   ]
  },
  {
   "cell_type": "markdown",
   "metadata": {},
   "source": [
    "# Adjusting the classification threshold"
   ]
  },
  {
   "cell_type": "code",
   "execution_count": null,
   "metadata": {},
   "outputs": [],
   "source": [
    "# store the predicted probabilities for class 1\n",
    "y_pred_prob = rf_clf.predict_proba(x_val)[:, 1]"
   ]
  },
  {
   "cell_type": "code",
   "execution_count": null,
   "metadata": {},
   "outputs": [],
   "source": [
    "# allow plots to appear in the notebook\n",
    "%matplotlib inline\n",
    "import matplotlib.pyplot as plt\n",
    "\n",
    "# adjust the font size \n",
    "plt.rcParams['font.size'] = 12"
   ]
  },
  {
   "cell_type": "code",
   "execution_count": null,
   "metadata": {},
   "outputs": [],
   "source": [
    "# histogram of predicted probabilities\n",
    "\n",
    "# 8 bins\n",
    "plt.hist(y_pred_prob, bins=8)\n",
    "\n",
    "# x-axis limit from 0 to 1\n",
    "plt.xlim(0,1)\n",
    "plt.title('Histogram of predicted probabilities')\n",
    "plt.xlabel('Predicted probability of fraud')\n",
    "plt.ylabel('Frequency')"
   ]
  },
  {
   "cell_type": "code",
   "execution_count": null,
   "metadata": {},
   "outputs": [],
   "source": [
    "# # predict fraud if the predicted probability is greater than 0.3\n",
    "# from sklearn.preprocessing import binarize\n",
    "# # it will return 1 for all values above 0.3 and 0 otherwise\n",
    "# # results are 2D so we slice out the first column\n",
    "# y_pred_class = binarize(y_pred_prob, 0.3)[0]"
   ]
  },
  {
   "cell_type": "code",
   "execution_count": null,
   "metadata": {},
   "outputs": [],
   "source": []
  }
 ],
 "metadata": {
  "kernelspec": {
   "display_name": "p36workshop",
   "language": "python",
   "name": "p36workshop"
  },
  "language_info": {
   "codemirror_mode": {
    "name": "ipython",
    "version": 3
   },
   "file_extension": ".py",
   "mimetype": "text/x-python",
   "name": "python",
   "nbconvert_exporter": "python",
   "pygments_lexer": "ipython3",
   "version": "3.6.8"
  }
 },
 "nbformat": 4,
 "nbformat_minor": 2
}
